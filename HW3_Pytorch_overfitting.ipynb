{
  "nbformat": 4,
  "nbformat_minor": 0,
  "metadata": {
    "colab": {
      "provenance": [],
      "authorship_tag": "ABX9TyOW54QxGm0i7KCrSSm52Qyy",
      "include_colab_link": true
    },
    "kernelspec": {
      "name": "python3",
      "display_name": "Python 3"
    },
    "language_info": {
      "name": "python"
    }
  },
  "cells": [
    {
      "cell_type": "markdown",
      "metadata": {
        "id": "view-in-github",
        "colab_type": "text"
      },
      "source": [
        "<a href=\"https://colab.research.google.com/github/jparkgit/NumPy/blob/master/HW3_Pytorch_overfitting.ipynb\" target=\"_parent\"><img src=\"https://colab.research.google.com/assets/colab-badge.svg\" alt=\"Open In Colab\"/></a>"
      ]
    },
    {
      "cell_type": "markdown",
      "source": [
        "# 1903055, 생명과학과, 박지현"
      ],
      "metadata": {
        "id": "wMomQwG0H7ly"
      }
    },
    {
      "cell_type": "markdown",
      "source": [
        "HW3: Solve exercise 1.1, 1.2, 1.3, 2.1, and 3.1.\n",
        "\n",
        "[과제함](https://cyber.ewha.ac.kr/mod/assign/view.php?id=2083598)\n",
        "\n",
        "Due 10/26 목 23:59\n",
        "\n",
        "\n",
        "---\n",
        "\n"
      ],
      "metadata": {
        "id": "mla6fgIyaGbs"
      }
    },
    {
      "cell_type": "code",
      "source": [
        "#!pip install ISLP\n",
        "!pip install statsmodels\n",
        "import ISLP\n",
        "from ISLP import load_data\n",
        "from ISLP.models import (ModelSpec as MS,\n",
        "                         summarize,\n",
        "                         poly)"
      ],
      "metadata": {
        "id": "gnylod8d6Dxz",
        "colab": {
          "base_uri": "https://localhost:8080/"
        },
        "outputId": "8167ba39-277e-4021-d6a3-f210292e3dd8"
      },
      "execution_count": 1,
      "outputs": [
        {
          "output_type": "stream",
          "name": "stdout",
          "text": [
            "Requirement already satisfied: statsmodels in /usr/local/lib/python3.10/dist-packages (0.14.0)\n",
            "Requirement already satisfied: numpy>=1.18 in /usr/local/lib/python3.10/dist-packages (from statsmodels) (1.24.4)\n",
            "Requirement already satisfied: scipy!=1.9.2,>=1.4 in /usr/local/lib/python3.10/dist-packages (from statsmodels) (1.11.3)\n",
            "Requirement already satisfied: pandas>=1.0 in /usr/local/lib/python3.10/dist-packages (from statsmodels) (1.5.3)\n",
            "Requirement already satisfied: patsy>=0.5.2 in /usr/local/lib/python3.10/dist-packages (from statsmodels) (0.5.3)\n",
            "Requirement already satisfied: packaging>=21.3 in /usr/local/lib/python3.10/dist-packages (from statsmodels) (23.2)\n",
            "Requirement already satisfied: python-dateutil>=2.8.1 in /usr/local/lib/python3.10/dist-packages (from pandas>=1.0->statsmodels) (2.8.2)\n",
            "Requirement already satisfied: pytz>=2020.1 in /usr/local/lib/python3.10/dist-packages (from pandas>=1.0->statsmodels) (2023.3.post1)\n",
            "Requirement already satisfied: six in /usr/local/lib/python3.10/dist-packages (from patsy>=0.5.2->statsmodels) (1.16.0)\n"
          ]
        }
      ]
    },
    {
      "cell_type": "code",
      "source": [
        "import torch\n",
        "import numpy as np\n",
        "import pandas as pd\n",
        "from matplotlib.pyplot import subplots\n",
        "import matplotlib.pyplot as plt"
      ],
      "metadata": {
        "id": "a5BNm9xpf_Rb"
      },
      "execution_count": 46,
      "outputs": []
    },
    {
      "cell_type": "markdown",
      "source": [
        "#1. Simple Linear Regression using Boston data"
      ],
      "metadata": {
        "id": "tBTj9aGB-E3i"
      }
    },
    {
      "cell_type": "markdown",
      "source": [
        "## Exercise 1.1:\n",
        "\n",
        "Do the estimatsion procedure using `torch.nn.Linear(1,1, bias=True)`. Answer the following questions.\n",
        "\n",
        "i. Calculate $\\widehat{Y}$ when `lstat`s are given by 5, 10, 15, respectively.\n",
        "\n",
        "ii. Calculate $R^2$.\n",
        "\n",
        "~iii. Calculate AIC.~\n"
      ],
      "metadata": {
        "id": "gadkCqnfTAqj"
      }
    },
    {
      "cell_type": "markdown",
      "source": [
        "### 1.1 풀이"
      ],
      "metadata": {
        "id": "TYi3ALoPnKD_"
      }
    },
    {
      "cell_type": "markdown",
      "source": [
        "2> Second method\n",
        "- Define the loss function\n",
        "- Use `model = torch.nn.Linear(1,1, bias=True)` to define the model.\n",
        "- Do not use `torch.optim.SGD` to do gradient descent."
      ],
      "metadata": {
        "id": "AtzZjWJwthSx"
      }
    },
    {
      "cell_type": "markdown",
      "source": [
        "For `torch.nn.Linear(1,1, bias=True)`, we need an X of 1-dimension."
      ],
      "metadata": {
        "id": "xxEqqf6eogKC"
      }
    },
    {
      "cell_type": "code",
      "source": [
        "Boston = load_data(\"Boston\")\n"
      ],
      "metadata": {
        "colab": {
          "base_uri": "https://localhost:8080/"
        },
        "id": "Z_bffnzRoem5",
        "outputId": "9ca90efd-a92e-411b-e7a9-8147c4dc0878"
      },
      "execution_count": 33,
      "outputs": [
        {
          "output_type": "stream",
          "name": "stdout",
          "text": [
            "(506,)\n"
          ]
        }
      ]
    },
    {
      "cell_type": "code",
      "source": [
        "lstat = np.array(Boston[\"lstat\"])\n",
        "# standardization of lstat\n",
        "lstat = (lstat-np.mean(lstat))/np.std(lstat)\n",
        "n = Boston.shape[0]\n",
        "ones = np.ones([n])\n",
        "# X1 = X with dimension of 1\n",
        "X1 = lstat\n",
        "print(X1.shape)\n",
        "X1.reshape([506,1])"
      ],
      "metadata": {
        "id": "35wz5eiIuDq2"
      },
      "execution_count": null,
      "outputs": []
    },
    {
      "cell_type": "code",
      "source": [
        "Xtemp = torch.tensor(Boston[\"lstat\"], dtype = torch.float32)\n",
        "# X 정규화\n",
        "X = (Xtemp - Xtemp.mean())/ Xtemp.std()\n",
        "y = torch.tensor(Boston[\"medv\"],dtype = torch.float32)\n",
        "print(X.shape, y.shape)"
      ],
      "metadata": {
        "colab": {
          "base_uri": "https://localhost:8080/"
        },
        "id": "8cDWgBG6t3Yr",
        "outputId": "045e5d14-e98b-4673-efa4-67e47b5e43c4"
      },
      "execution_count": 43,
      "outputs": [
        {
          "output_type": "stream",
          "name": "stdout",
          "text": [
            "torch.Size([506]) torch.Size([506])\n"
          ]
        }
      ]
    },
    {
      "cell_type": "code",
      "source": [
        "from torch.utils.data import Dataset, DataLoader, TensorDataset\n",
        "dataset = TensorDataset(X.reshape([-1,1]), y.reshape([-1,1])) # X shape :[n,1]\n",
        "trainloader = DataLoader(dataset= dataset, batch_size = 5, shuffle = True)"
      ],
      "metadata": {
        "id": "pV9AXQbVuML6"
      },
      "execution_count": 44,
      "outputs": []
    },
    {
      "cell_type": "code",
      "source": [
        "model = torch.nn.Linear(1,1, bias = True)\n",
        "\n",
        "def loss_ftn(yhat, y):\n",
        "    return torch.mean((yhat-y)**2)\n",
        "\n",
        "my_optimizer = torch.optim.SGD(model.parameters(),lr = 0.001)"
      ],
      "metadata": {
        "id": "Hujyb1dtukRN"
      },
      "execution_count": 45,
      "outputs": []
    },
    {
      "cell_type": "code",
      "source": [
        "history = []\n",
        "epochs = 100\n",
        "n = X.shape[0]\n",
        "\n",
        "for _ in range(epochs):\n",
        "    epoch_loss = 0\n",
        "    for xx, yy in trainloader:\n",
        "\n",
        "        yhat = model(xx)\n",
        "        loss = loss_ftn(yhat, yy)\n",
        "        epoch_loss = epoch_loss + loss * len(yy)\n",
        "\n",
        "\n",
        "        loss.backward()\n",
        "\n",
        "        my_optimizer.step()\n",
        "        my_optimizer.zero_grad()\n",
        "\n",
        "\n",
        "    history.append(epoch_loss.item()/n)\n",
        "\n",
        "plt.plot(history)\n"
      ],
      "metadata": {
        "colab": {
          "base_uri": "https://localhost:8080/",
          "height": 468
        },
        "id": "0EMfFmUfup6g",
        "outputId": "eaa2d785-31be-4866-b7ab-8fdf2e20bb62"
      },
      "execution_count": 47,
      "outputs": [
        {
          "output_type": "execute_result",
          "data": {
            "text/plain": [
              "[<matplotlib.lines.Line2D at 0x789479ef16f0>]"
            ]
          },
          "metadata": {},
          "execution_count": 47
        },
        {
          "output_type": "display_data",
          "data": {
            "text/plain": [
              "<Figure size 640x480 with 1 Axes>"
            ],
            "image/png": "[encoded data removed]"
          },
          "metadata": {}
        }
      ]
    },
    {
      "cell_type": "code",
      "source": [
        "# lstat = 5 일 때\n",
        "myx = torch.tensor([(5.0 - Xtemp.mean())/ Xtemp.std()])\n",
        "#myx.shape\n",
        "model(myx)"
      ],
      "metadata": {
        "colab": {
          "base_uri": "https://localhost:8080/"
        },
        "id": "rOZ3GaIev6nk",
        "outputId": "ab399f0e-4a36-47ad-b5a7-24633d590863"
      },
      "execution_count": 66,
      "outputs": [
        {
          "output_type": "execute_result",
          "data": {
            "text/plain": [
              "tensor([29.7921], grad_fn=<ViewBackward0>)"
            ]
          },
          "metadata": {},
          "execution_count": 66
        }
      ]
    },
    {
      "cell_type": "code",
      "source": [
        "# lstat = 10 일 때\n",
        "myx = torch.tensor([(10.0 - Xtemp.mean())/ Xtemp.std()])\n",
        "#myx.shape\n",
        "model(myx)"
      ],
      "metadata": {
        "colab": {
          "base_uri": "https://localhost:8080/"
        },
        "id": "BCEwE3Bewq78",
        "outputId": "787e1fab-edc7-4143-ee0b-f7573ae81f6d"
      },
      "execution_count": 68,
      "outputs": [
        {
          "output_type": "execute_result",
          "data": {
            "text/plain": [
              "tensor([25.0452], grad_fn=<ViewBackward0>)"
            ]
          },
          "metadata": {},
          "execution_count": 68
        }
      ]
    },
    {
      "cell_type": "code",
      "source": [
        "# lstat = 15 일 때\n",
        "myx = torch.tensor([(15.0 - Xtemp.mean())/ Xtemp.std()])\n",
        "#myx.shape\n",
        "model(myx)"
      ],
      "metadata": {
        "colab": {
          "base_uri": "https://localhost:8080/"
        },
        "id": "DO3gT4n_xHW7",
        "outputId": "c24ad3cb-df57-47f7-fb84-de071e8c37f0"
      },
      "execution_count": 70,
      "outputs": [
        {
          "output_type": "execute_result",
          "data": {
            "text/plain": [
              "tensor([20.2984], grad_fn=<ViewBackward0>)"
            ]
          },
          "metadata": {},
          "execution_count": 70
        }
      ]
    },
    {
      "cell_type": "code",
      "source": [
        "from torchmetrics.regression import R2Score\n",
        "r2score = R2Score()\n",
        "#r2score(preds, target)"
      ],
      "metadata": {
        "id": "IRsQ5VS8x0ie"
      },
      "execution_count": 73,
      "outputs": []
    },
    {
      "cell_type": "markdown",
      "source": [
        "## Exercise 1.2:\n",
        "\n",
        "Do the estimatsion procedure using `torch.nn.Linear(2,1, bias=False)`.Answer the following questions.\n",
        "\n",
        "i. Calculate $\\widehat{Y}$ when `lstat`s are given by 5, 10, 15, respectively.\n",
        "\n",
        "ii. Calculate $R^2$.\n",
        "\n",
        "~iii. Calculate AIC.~"
      ],
      "metadata": {
        "id": "PQC2kowRHnVO"
      }
    },
    {
      "cell_type": "code",
      "source": [],
      "metadata": {
        "id": "xNb1KCPhakBY"
      },
      "execution_count": null,
      "outputs": []
    },
    {
      "cell_type": "markdown",
      "source": [
        "# Exercise 1.3:\n",
        "\n",
        "Do the estimatsion procedure using `torch.nn.Linear(1,1, bias=False)` and an additional bias parameter defined by `torch.tensor`. Model itself should be the same as in Exercise 1.1 and 1.2. (Caution: However, the estimated parameter(s) should not be the exactly the same due to the randomness in the parameter initialization and batch learning.)\n",
        "\n",
        "Answer the following questions.\n",
        "\n",
        "i. Calculate $\\widehat{Y}$ when `lstat`s are given by 5, 10, 15, respectively.\n",
        "\n",
        "ii. Calculate $R^2$.\n",
        "\n",
        "~iii. Calculate AIC.~"
      ],
      "metadata": {
        "id": "9g-OsQEEHpMz"
      }
    },
    {
      "cell_type": "code",
      "source": [],
      "metadata": {
        "id": "vsMjUcKLHqUb"
      },
      "execution_count": null,
      "outputs": []
    },
    {
      "cell_type": "markdown",
      "source": [
        "#2. Multiple regression"
      ],
      "metadata": {
        "id": "9z_bAJHu-cqF"
      }
    },
    {
      "cell_type": "markdown",
      "source": [
        "## 2.1 Exercise:\n",
        "\n",
        "Using `Boston` data answer the following questions.\n",
        "\n",
        "(a) Using pytorch, calculate the train MSE of the following model:\n",
        "\n",
        "`medv ~ age + lstat`\n",
        "\n",
        "(b) Using pytorch, calculate the train MSE of the following model:\n",
        "\n",
        "`medv ~ age + lstat + lstat**2`\n",
        "\n",
        "(c) Calculate $R^2$ of each model in (a) and (b).\n",
        "\n",
        "(d) Repeat (a) and (b) by making use of 70% of data as train set and the remaining 30% as test set.\n"
      ],
      "metadata": {
        "id": "hBCsIilXD9ka"
      }
    },
    {
      "cell_type": "markdown",
      "source": [
        "#3. Qualitative predictors"
      ],
      "metadata": {
        "id": "i7OdD-uJ_i1W"
      }
    },
    {
      "cell_type": "markdown",
      "source": [
        "## 3.1 Exercise:\n",
        "\n",
        "Using `Carseats` data answer the following questions.\n",
        "\n",
        "(a) Using pytorch, calculate the train MSE of the following model:\n",
        "\n",
        "`Sales ~ Advertising + ShelveLoc`\n",
        "\n",
        "(b) Using pytorch, calculate the train MSE of the following model:\n",
        "\n",
        "`Sales ~ Advertising`\n",
        "\n",
        "(c) Calculate $R^2$ of each model in (a) and (b).\n",
        "\n",
        "(d) Repeat (a) and (b) by making use of 70% of data as train set and the remaining 30% as test set."
      ],
      "metadata": {
        "id": "GjoCoa6lFk3-"
      }
    },
    {
      "cell_type": "code",
      "execution_count": null,
      "metadata": {
        "id": "UXSo4c8LaSS_"
      },
      "outputs": [],
      "source": []
    }
  ]
}