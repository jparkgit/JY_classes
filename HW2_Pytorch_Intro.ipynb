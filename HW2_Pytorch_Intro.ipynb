{
  "nbformat": 4,
  "nbformat_minor": 5,
  "metadata": {
    "accelerator": "GPU",
    "colab": {
      "provenance": [],
      "machine_shape": "hm",
      "include_colab_link": true
    },
    "kernelspec": {
      "name": "python3",
      "display_name": "Python 3"
    },
    "language_info": {
      "name": "python"
    }
  },
  "cells": [
    {
      "cell_type": "markdown",
      "metadata": {
        "id": "view-in-github",
        "colab_type": "text"
      },
      "source": [
        "<a href=\"https://colab.research.google.com/github/jparkgit/NumPy/blob/master/HW2_Pytorch_Intro.ipynb\" target=\"_parent\"><img src=\"https://colab.research.google.com/assets/colab-badge.svg\" alt=\"Open In Colab\"/></a>"
      ]
    },
    {
      "cell_type": "markdown",
      "source": [
        "통계프로그래밍 과제2\n",
        "# 박지현, 1903055"
      ],
      "metadata": {
        "id": "MWA2miuP6Z1j"
      },
      "id": "MWA2miuP6Z1j"
    },
    {
      "cell_type": "code",
      "source": [
        "import torch\n",
        "import numpy as np\n",
        "import matplotlib.pyplot as plt"
      ],
      "metadata": {
        "id": "b_EW3SlBgF6D"
      },
      "id": "b_EW3SlBgF6D",
      "execution_count": 11,
      "outputs": []
    },
    {
      "cell_type": "markdown",
      "source": [
        "## HW 1:\n",
        "\n",
        "You are given $X$ and $Y$. Using the linear regression, you want to have the following model\n",
        "\n",
        "$\\widehat{Y}=\\widehat{\\beta}_0+\\widehat{\\beta}_1X$\n",
        "\n",
        "by minimizing the following square loss\n",
        "\n",
        "$g(\\beta_0, \\beta_1)=\\sum\\limits_{i=1}^{20}(y_i-(\\beta_0+\\beta_1 x_i))^2$.\n",
        "\n",
        "Answer the following questions.\n",
        "\n",
        "1. Calculate grad $g$ at $(\\beta_0, \\beta_1)=(1.0, 0.5)$ without using autograd.\n",
        "\n",
        "2. Calculate grad $g$ at $(\\beta_0, \\beta_1)=(1.0, 0.5)$ using autograd.\n",
        "\n",
        "3. Reshape $X$ into the shape of $[20,1]$ and name it as $XX$. Then, calculate grad $g$ at $(\\beta_0, \\beta_1)=(1.0, 0.5)$ using autograd. (Caution: your answer should be the same as in 2.)\n",
        "\n",
        "4. Stack $X$ and $Y$ to make $MY\\_data1$ of shape $[20,2]$. Then, calculate grad $g$ at $(\\beta_0, \\beta_1)=(1.0, 0.5)$ using autograd. (Caution: your answer should be the same as in 2.)\n",
        "\n",
        "5. Concatenate $X$ and $Y$ to make $MY\\_data2$ of shape $[20,2]$. (Use the reshape if necessary) Then, calculate grad $g$ at $(\\beta_0, \\beta_1)=(1.0, 0.5)$ using autograd. (Caution: your answer should be the same as in 2.)"
      ],
      "metadata": {
        "id": "c4RGZgC-BPcx"
      },
      "id": "c4RGZgC-BPcx"
    },
    {
      "cell_type": "code",
      "source": [
        "X=torch.tensor([-3.0000e+00, -2.7000e+00, -2.4000e+00, -2.1000e+00, -1.8000e+00,\n",
        "        -1.5000e+00, -1.2000e+00, -9.0000e-01, -6.0000e-01, -3.0000e-01,\n",
        "        -2.3842e-08,  3.0000e-01,  6.0000e-01,  9.0000e-01,  1.2000e+00,\n",
        "         1.5000e+00,  1.8000e+00,  2.1000e+00,  2.4000e+00,  2.7000e+00])"
      ],
      "metadata": {
        "id": "rj-hsS6h7rl1"
      },
      "execution_count": 3,
      "outputs": [],
      "id": "rj-hsS6h7rl1"
    },
    {
      "cell_type": "code",
      "source": [
        "Y = torch.tensor([-7.1452, -5.4253, -5.1977, -3.6225, -3.8022, -4.4101, -4.6622, -3.1932,\n",
        "        -1.7325, -1.8879, -1.0742, -0.2320,  1.8226,  1.5453, -1.5535,  0.8857,\n",
        "         1.7537,  3.1607,  1.8912,  4.0895])"
      ],
      "metadata": {
        "id": "-J--aAeqBTKV"
      },
      "id": "-J--aAeqBTKV",
      "execution_count": 4,
      "outputs": []
    },
    {
      "cell_type": "markdown",
      "source": [
        "1. Calculate grad $g$ at $(\\beta_0, \\beta_1)=(1.0, 0.5)$ without using autograd.\n"
      ],
      "metadata": {
        "id": "nNr2ymB7lhJ3"
      },
      "id": "nNr2ymB7lhJ3"
    },
    {
      "cell_type": "code",
      "source": [
        "beta = torch.tensor([[1.0], [0.5]], requires_grad=True)\n",
        "beta0_grad = torch.sum(2*(Y - (beta[0]+beta[1]*X)))*(-1)\n",
        "beta1_grad = torch.sum(2*(Y - (beta[0]+beta[1]*X))*(-1*X))\n",
        "grad = torch.tensor([[beta0_grad], [beta1_grad]])\n",
        "print(grad)"
      ],
      "metadata": {
        "colab": {
          "base_uri": "https://localhost:8080/"
        },
        "id": "2ZHwulNtuIZ9",
        "outputId": "06dd551f-0aea-4b39-971b-add9c6b74aee"
      },
      "id": "2ZHwulNtuIZ9",
      "execution_count": 45,
      "outputs": [
        {
          "output_type": "stream",
          "name": "stdout",
          "text": [
            "tensor([[  94.5796],\n",
            "        [-159.6058]])\n"
          ]
        }
      ]
    },
    {
      "cell_type": "markdown",
      "source": [
        "2. Calculate grad $g$ at $(\\beta_0, \\beta_1)=(1.0, 0.5)$ using autograd."
      ],
      "metadata": {
        "id": "4I9QNDg4ljdA"
      },
      "id": "4I9QNDg4ljdA"
    },
    {
      "cell_type": "code",
      "source": [
        "beta = torch.tensor([[1.0], [0.5]], requires_grad=True)\n",
        "loss = torch.sum((Y - (beta[0]+beta[1]*X))**2)\n",
        "loss.backward()\n",
        "print(beta.grad)"
      ],
      "metadata": {
        "colab": {
          "base_uri": "https://localhost:8080/"
        },
        "id": "PxjXVioelfcJ",
        "outputId": "ae9e389e-c22a-4c35-b20e-9f8e2bc18bc1"
      },
      "id": "PxjXVioelfcJ",
      "execution_count": 84,
      "outputs": [
        {
          "output_type": "stream",
          "name": "stdout",
          "text": [
            "tensor([[  94.5796],\n",
            "        [-159.6058]])\n"
          ]
        }
      ]
    },
    {
      "cell_type": "markdown",
      "source": [
        "3. Reshape $X$ into the shape of $[20,1]$ and name it as $XX$. Then, calculate grad $g$ at $(\\beta_0, \\beta_1)=(1.0, 0.5)$ using autograd. (Caution: your answer should be the same as in 2.)"
      ],
      "metadata": {
        "id": "C_6QAvt4imYB"
      },
      "id": "C_6QAvt4imYB"
    },
    {
      "cell_type": "code",
      "source": [
        "X.shape"
      ],
      "metadata": {
        "id": "HVUuut1iBXLM",
        "colab": {
          "base_uri": "https://localhost:8080/"
        },
        "outputId": "995d1ef8-f8c4-426f-aaf6-f335e3be4fee"
      },
      "id": "HVUuut1iBXLM",
      "execution_count": 5,
      "outputs": [
        {
          "output_type": "execute_result",
          "data": {
            "text/plain": [
              "torch.Size([20])"
            ]
          },
          "metadata": {},
          "execution_count": 5
        }
      ]
    },
    {
      "cell_type": "code",
      "source": [
        "XX = torch.reshape(X, (20,1))\n",
        "XX.shape"
      ],
      "metadata": {
        "colab": {
          "base_uri": "https://localhost:8080/"
        },
        "id": "Uo3msMhoiiJc",
        "outputId": "0cb8c6dc-22ba-4e23-978f-a5baf9de8740"
      },
      "id": "Uo3msMhoiiJc",
      "execution_count": 73,
      "outputs": [
        {
          "output_type": "execute_result",
          "data": {
            "text/plain": [
              "torch.Size([20, 1])"
            ]
          },
          "metadata": {},
          "execution_count": 73
        }
      ]
    },
    {
      "cell_type": "code",
      "source": [
        "XX"
      ],
      "metadata": {
        "colab": {
          "base_uri": "https://localhost:8080/"
        },
        "id": "RgBePj1g1YiF",
        "outputId": "94174722-9fc2-46ea-a4a6-99298479d99d"
      },
      "id": "RgBePj1g1YiF",
      "execution_count": 74,
      "outputs": [
        {
          "output_type": "execute_result",
          "data": {
            "text/plain": [
              "tensor([[-3.0000e+00],\n",
              "        [-2.7000e+00],\n",
              "        [-2.4000e+00],\n",
              "        [-2.1000e+00],\n",
              "        [-1.8000e+00],\n",
              "        [-1.5000e+00],\n",
              "        [-1.2000e+00],\n",
              "        [-9.0000e-01],\n",
              "        [-6.0000e-01],\n",
              "        [-3.0000e-01],\n",
              "        [-2.3842e-08],\n",
              "        [ 3.0000e-01],\n",
              "        [ 6.0000e-01],\n",
              "        [ 9.0000e-01],\n",
              "        [ 1.2000e+00],\n",
              "        [ 1.5000e+00],\n",
              "        [ 1.8000e+00],\n",
              "        [ 2.1000e+00],\n",
              "        [ 2.4000e+00],\n",
              "        [ 2.7000e+00]])"
            ]
          },
          "metadata": {},
          "execution_count": 74
        }
      ]
    },
    {
      "cell_type": "code",
      "source": [
        "beta = torch.tensor([[1.0], [0.5]], requires_grad=True)\n",
        "loss = torch.sum((Y - (beta[0]+beta[1]*XX))**2)\n",
        "loss.backward()\n",
        "print(beta.grad)"
      ],
      "metadata": {
        "colab": {
          "base_uri": "https://localhost:8080/"
        },
        "id": "BDu27zgt3K7k",
        "outputId": "34891634-ae23-4598-8456-b928a4e48cf4"
      },
      "id": "BDu27zgt3K7k",
      "execution_count": 96,
      "outputs": [
        {
          "output_type": "stream",
          "name": "stdout",
          "text": [
            "tensor([[1891.5918],\n",
            "        [ 913.2612]])\n"
          ]
        }
      ]
    },
    {
      "cell_type": "markdown",
      "source": [
        "4. Stack $X$ and $Y$ to make $MY\\_data1$ of shape $[20,2]$. Then, calculate grad $g$ at $(\\beta_0, \\beta_1)=(1.0, 0.5)$ using autograd. (Caution: your answer should be the same as in 2.)"
      ],
      "metadata": {
        "id": "z0Rekxkyis1z"
      },
      "id": "z0Rekxkyis1z"
    },
    {
      "cell_type": "code",
      "source": [
        "MY_data1 = torch.stack([X,Y], axis=1)\n",
        "MY_data1.shape"
      ],
      "metadata": {
        "colab": {
          "base_uri": "https://localhost:8080/"
        },
        "id": "Fp1JUsuxivHa",
        "outputId": "05a4c7ee-f97e-445b-b3b4-d6cba6184679"
      },
      "id": "Fp1JUsuxivHa",
      "execution_count": 87,
      "outputs": [
        {
          "output_type": "execute_result",
          "data": {
            "text/plain": [
              "torch.Size([20, 2])"
            ]
          },
          "metadata": {},
          "execution_count": 87
        }
      ]
    },
    {
      "cell_type": "code",
      "source": [
        "MY_data1"
      ],
      "metadata": {
        "colab": {
          "base_uri": "https://localhost:8080/"
        },
        "id": "Wgw4CE3l4Cax",
        "outputId": "1de174be-7867-46a6-8309-ea15668c6f7a"
      },
      "id": "Wgw4CE3l4Cax",
      "execution_count": 89,
      "outputs": [
        {
          "output_type": "execute_result",
          "data": {
            "text/plain": [
              "tensor([[-3.0000e+00, -7.1452e+00],\n",
              "        [-2.7000e+00, -5.4253e+00],\n",
              "        [-2.4000e+00, -5.1977e+00],\n",
              "        [-2.1000e+00, -3.6225e+00],\n",
              "        [-1.8000e+00, -3.8022e+00],\n",
              "        [-1.5000e+00, -4.4101e+00],\n",
              "        [-1.2000e+00, -4.6622e+00],\n",
              "        [-9.0000e-01, -3.1932e+00],\n",
              "        [-6.0000e-01, -1.7325e+00],\n",
              "        [-3.0000e-01, -1.8879e+00],\n",
              "        [-2.3842e-08, -1.0742e+00],\n",
              "        [ 3.0000e-01, -2.3200e-01],\n",
              "        [ 6.0000e-01,  1.8226e+00],\n",
              "        [ 9.0000e-01,  1.5453e+00],\n",
              "        [ 1.2000e+00, -1.5535e+00],\n",
              "        [ 1.5000e+00,  8.8570e-01],\n",
              "        [ 1.8000e+00,  1.7537e+00],\n",
              "        [ 2.1000e+00,  3.1607e+00],\n",
              "        [ 2.4000e+00,  1.8912e+00],\n",
              "        [ 2.7000e+00,  4.0895e+00]])"
            ]
          },
          "metadata": {},
          "execution_count": 89
        }
      ]
    },
    {
      "cell_type": "code",
      "source": [
        "beta = torch.tensor([[1.0], [0.5]], requires_grad=True)\n",
        "loss = torch.sum((MY_data1[:,1]-(beta[0]+beta[1]*MY_data1[:,0]))**2)\n",
        "loss.backward()\n",
        "print(beta.grad)"
      ],
      "metadata": {
        "colab": {
          "base_uri": "https://localhost:8080/"
        },
        "id": "zn7jAVRH3yZI",
        "outputId": "1130dc45-5abd-4231-ad57-3b88be530157"
      },
      "id": "zn7jAVRH3yZI",
      "execution_count": 91,
      "outputs": [
        {
          "output_type": "stream",
          "name": "stdout",
          "text": [
            "tensor([[  94.5796],\n",
            "        [-159.6058]])\n"
          ]
        }
      ]
    },
    {
      "cell_type": "markdown",
      "source": [
        "5. Concatenate $X$ and $Y$ to make $MY\\_data2$ of shape $[20,2]$. (Use the reshape if necessary) Then, calculate grad $g$ at $(\\beta_0, \\beta_1)=(1.0, 0.5)$ using autograd. (Caution: your answer should be the same as in 2.)"
      ],
      "metadata": {
        "id": "y7B3TmUVjWTN"
      },
      "id": "y7B3TmUVjWTN"
    },
    {
      "cell_type": "code",
      "source": [
        "YY = torch.reshape(Y, (20,1))"
      ],
      "metadata": {
        "id": "Yn9d5nGT6BX5"
      },
      "id": "Yn9d5nGT6BX5",
      "execution_count": 101,
      "outputs": []
    },
    {
      "cell_type": "code",
      "source": [
        "MY_data2 = torch.cat((XX,YY), 1)\n",
        "print(MY_data2.shape)\n",
        "MY_data2"
      ],
      "metadata": {
        "colab": {
          "base_uri": "https://localhost:8080/"
        },
        "id": "KPIK7eSzjYkj",
        "outputId": "622d6e1f-d216-45c1-8e89-9c13ca409fb5"
      },
      "id": "KPIK7eSzjYkj",
      "execution_count": 102,
      "outputs": [
        {
          "output_type": "stream",
          "name": "stdout",
          "text": [
            "torch.Size([20, 2])\n"
          ]
        },
        {
          "output_type": "execute_result",
          "data": {
            "text/plain": [
              "tensor([[-3.0000e+00, -7.1452e+00],\n",
              "        [-2.7000e+00, -5.4253e+00],\n",
              "        [-2.4000e+00, -5.1977e+00],\n",
              "        [-2.1000e+00, -3.6225e+00],\n",
              "        [-1.8000e+00, -3.8022e+00],\n",
              "        [-1.5000e+00, -4.4101e+00],\n",
              "        [-1.2000e+00, -4.6622e+00],\n",
              "        [-9.0000e-01, -3.1932e+00],\n",
              "        [-6.0000e-01, -1.7325e+00],\n",
              "        [-3.0000e-01, -1.8879e+00],\n",
              "        [-2.3842e-08, -1.0742e+00],\n",
              "        [ 3.0000e-01, -2.3200e-01],\n",
              "        [ 6.0000e-01,  1.8226e+00],\n",
              "        [ 9.0000e-01,  1.5453e+00],\n",
              "        [ 1.2000e+00, -1.5535e+00],\n",
              "        [ 1.5000e+00,  8.8570e-01],\n",
              "        [ 1.8000e+00,  1.7537e+00],\n",
              "        [ 2.1000e+00,  3.1607e+00],\n",
              "        [ 2.4000e+00,  1.8912e+00],\n",
              "        [ 2.7000e+00,  4.0895e+00]])"
            ]
          },
          "metadata": {},
          "execution_count": 102
        }
      ]
    },
    {
      "cell_type": "code",
      "source": [
        "beta = torch.tensor([[1.0], [0.5]], requires_grad=True)\n",
        "loss = torch.sum((MY_data2[:,1]-(beta[0]+beta[1]*MY_data2[:,0]))**2)\n",
        "loss.backward()\n",
        "print(beta.grad)"
      ],
      "metadata": {
        "colab": {
          "base_uri": "https://localhost:8080/"
        },
        "id": "GPYGcqq46LTj",
        "outputId": "4fcb0657-4ed9-4bbe-c23b-68c41de2cfa6"
      },
      "id": "GPYGcqq46LTj",
      "execution_count": 103,
      "outputs": [
        {
          "output_type": "stream",
          "name": "stdout",
          "text": [
            "tensor([[  94.5796],\n",
            "        [-159.6058]])\n"
          ]
        }
      ]
    },
    {
      "cell_type": "markdown",
      "source": [
        "## HW 2:\n",
        "\n",
        "You are given\n",
        "\n",
        "$f(x)=x^3-3x^2+4$\n",
        "\n",
        "Answer the following questions.\n",
        "\n",
        "1. Draw the graph of $(x,f(x))$ for $x\\in [-5, 5]$.\n",
        "2. Draw the graph of $(x,f^{\\prime}(x))$ for $x\\in [-5, 5]$ using augograd in torch.\n",
        "\n",
        "\n"
      ],
      "metadata": {
        "id": "slWy4oJhDtD-"
      },
      "id": "slWy4oJhDtD-"
    },
    {
      "cell_type": "code",
      "source": [
        "x = torch.linspace(-5,5, 50, requires_grad = True)\n",
        "f = x**3 - 3*x**2 + 4\n",
        "plt.plot(x.detach().numpy(), f.detach().numpy())\n",
        "plt.xticks(np.arange(-5,5,1))\n",
        "plt.title('f(x)')"
      ],
      "metadata": {
        "id": "ea3ywnhlEH1Q",
        "colab": {
          "base_uri": "https://localhost:8080/",
          "height": 490
        },
        "outputId": "2b983b16-fc43-4b1b-a4be-1eb28a1484ad"
      },
      "id": "ea3ywnhlEH1Q",
      "execution_count": 61,
      "outputs": [
        {
          "output_type": "execute_result",
          "data": {
            "text/plain": [
              "Text(0.5, 1.0, 'f(x)')"
            ]
          },
          "metadata": {},
          "execution_count": 61
        },
        {
          "output_type": "display_data",
          "data": {
            "text/plain": [
              "<Figure size 640x480 with 1 Axes>"
            ],
            "image/png": "[encoded data removed]"
          },
          "metadata": {}
        }
      ]
    },
    {
      "cell_type": "code",
      "source": [
        "f = x**3 - 3*x**2 + 4\n",
        "f.backward(x)\n",
        "plt.plot(x.detach().numpy(), x.grad.detach().numpy())\n",
        "plt.xticks(np.arange(-5,5,1))\n",
        "plt.title('f\\'(x)')"
      ],
      "metadata": {
        "colab": {
          "base_uri": "https://localhost:8080/",
          "height": 490
        },
        "id": "Jn6fPpjTzbVi",
        "outputId": "4545889c-9065-4798-c7ac-b8380d485893"
      },
      "id": "Jn6fPpjTzbVi",
      "execution_count": 60,
      "outputs": [
        {
          "output_type": "execute_result",
          "data": {
            "text/plain": [
              "Text(0.5, 1.0, \"f'(x)\")"
            ]
          },
          "metadata": {},
          "execution_count": 60
        },
        {
          "output_type": "display_data",
          "data": {
            "text/plain": [
              "<Figure size 640x480 with 1 Axes>"
            ],
            "image/png": "[encoded data removed]"
          },
          "metadata": {}
        }
      ]
    },
    {
      "cell_type": "code",
      "source": [
        "x = torch.linspace(-5, 5, 50, requires_grad=True)\n",
        "f = x**3 - 3*x**2 + 4\n",
        "f.backward(x)\n",
        "plt.plot(x.detach().numpy(), f.detach().numpy(), label='f(x)')\n",
        "plt.plot(x.detach().numpy(), x.grad.detach().numpy(), label='f\\'(x)')\n",
        "plt.xticks(np.arange(-5,5,1))\n",
        "plt.legend()"
      ],
      "metadata": {
        "colab": {
          "base_uri": "https://localhost:8080/",
          "height": 468
        },
        "id": "XYl-ChgCzhT3",
        "outputId": "a5a545a5-4b1c-4034-d112-46f65cacbbd0"
      },
      "id": "XYl-ChgCzhT3",
      "execution_count": 64,
      "outputs": [
        {
          "output_type": "execute_result",
          "data": {
            "text/plain": [
              "<matplotlib.legend.Legend at 0x7bc0428d8670>"
            ]
          },
          "metadata": {},
          "execution_count": 64
        },
        {
          "output_type": "display_data",
          "data": {
            "text/plain": [
              "<Figure size 640x480 with 1 Axes>"
            ],
            "image/png": "[encoded data removed]"
          },
          "metadata": {}
        }
      ]
    }
  ]
}