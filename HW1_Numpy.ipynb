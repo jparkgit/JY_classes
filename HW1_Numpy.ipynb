{
  "nbformat": 4,
  "nbformat_minor": 0,
  "metadata": {
    "colab": {
      "provenance": [],
      "authorship_tag": "ABX9TyNFWY3VcacT9wRlHMAZ0leI",
      "include_colab_link": true
    },
    "kernelspec": {
      "name": "python3",
      "display_name": "Python 3"
    },
    "language_info": {
      "name": "python"
    }
  },
  "cells": [
    {
      "cell_type": "markdown",
      "metadata": {
        "id": "view-in-github",
        "colab_type": "text"
      },
      "source": [
        "<a href=\"https://colab.research.google.com/github/jparkgit/NumPy/blob/master/HW1_Numpy.ipynb\" target=\"_parent\"><img src=\"https://colab.research.google.com/assets/colab-badge.svg\" alt=\"Open In Colab\"/></a>"
      ]
    },
    {
      "cell_type": "markdown",
      "source": [
        "# HW I (Numpy): 마감기한 09/19 화요일 23:59\n",
        "1903055 - 생명과학과 - 박지현"
      ],
      "metadata": {
        "id": "UJx5cj7_gflP"
      }
    },
    {
      "cell_type": "code",
      "source": [
        "import numpy as np"
      ],
      "metadata": {
        "id": "NJPpqxIQhyxc"
      },
      "execution_count": 1,
      "outputs": []
    },
    {
      "cell_type": "markdown",
      "source": [
        "#### 1. For an 2-dimensional input matrix, write a NumPy function to subtract the mean of each row of a given matrix.\n",
        "```\n",
        "Sample Input:\n",
        "A = np.array([[1,2,5,1], [3,4,1,0]])\n",
        "my_function(A)\n",
        "Sample Output:\n",
        "array([[-1.25, -0.25, 2.75, -1.25],\n",
        "       [1. , 2. ,-1. ,-2. ]])\n",
        "```\n",
        "\n"
      ],
      "metadata": {
        "id": "g3MLhfDjg1Y2"
      }
    },
    {
      "cell_type": "markdown",
      "source": [
        "hint: broadcasting"
      ],
      "metadata": {
        "id": "gMLW7mcyhLAt"
      }
    },
    {
      "cell_type": "code",
      "execution_count": null,
      "metadata": {
        "colab": {
          "base_uri": "https://localhost:8080/"
        },
        "id": "zGiAmbbZgYOp",
        "outputId": "1178a5fa-990a-4c50-f37a-2c7054240b62"
      },
      "outputs": [
        {
          "output_type": "execute_result",
          "data": {
            "text/plain": [
              "array([[ 1,  2],\n",
              "       [10, 20]])"
            ]
          },
          "metadata": {},
          "execution_count": 30
        }
      ],
      "source": [
        "A = np.array([[1,2],\n",
        "              [10,20]])\n",
        "A"
      ]
    },
    {
      "cell_type": "code",
      "source": [
        "# mean of each row\n",
        "row_mean = A.mean(axis=1)\n",
        "row_mean"
      ],
      "metadata": {
        "colab": {
          "base_uri": "https://localhost:8080/"
        },
        "id": "y3oyDcCWh7fO",
        "outputId": "a96b4656-32ec-411f-a8d4-eeb9353487f1"
      },
      "execution_count": null,
      "outputs": [
        {
          "output_type": "execute_result",
          "data": {
            "text/plain": [
              "array([ 1.5, 15. ])"
            ]
          },
          "metadata": {},
          "execution_count": 8
        }
      ]
    },
    {
      "cell_type": "code",
      "source": [
        "row_mean_reshape = row_mean.reshape([row_mean.shape[0],1])\n",
        "row_mean_reshape"
      ],
      "metadata": {
        "colab": {
          "base_uri": "https://localhost:8080/"
        },
        "id": "dC1SfaehcuSe",
        "outputId": "027d253b-8771-4351-b980-2635c95994f0"
      },
      "execution_count": null,
      "outputs": [
        {
          "output_type": "execute_result",
          "data": {
            "text/plain": [
              "array([[ 1.5],\n",
              "       [15. ]])"
            ]
          },
          "metadata": {},
          "execution_count": 9
        }
      ]
    },
    {
      "cell_type": "code",
      "source": [
        "# correctly broadcasted\n",
        "A - row_mean_reshape"
      ],
      "metadata": {
        "colab": {
          "base_uri": "https://localhost:8080/"
        },
        "id": "TPA3rs3sjuq6",
        "outputId": "f0fec28f-71f8-430b-a46b-d43fb2fbfb81"
      },
      "execution_count": null,
      "outputs": [
        {
          "output_type": "execute_result",
          "data": {
            "text/plain": [
              "array([[-0.5,  0.5],\n",
              "       [-5. ,  5. ]])"
            ]
          },
          "metadata": {},
          "execution_count": 10
        }
      ]
    },
    {
      "cell_type": "code",
      "source": [
        "def my_function(A):\n",
        "  mean = A.mean(axis=1)\n",
        "  myreturn = A - mean.reshape([mean.shape[0],1])\n",
        "  return myreturn"
      ],
      "metadata": {
        "id": "Fshkwdd4j1k4"
      },
      "execution_count": null,
      "outputs": []
    },
    {
      "cell_type": "code",
      "source": [
        "my_function(A)"
      ],
      "metadata": {
        "colab": {
          "base_uri": "https://localhost:8080/"
        },
        "id": "4SZKRXsN_zue",
        "outputId": "330fcf1b-127a-483f-865d-8c4a6a6e9d50"
      },
      "execution_count": null,
      "outputs": [
        {
          "output_type": "execute_result",
          "data": {
            "text/plain": [
              "array([[-0.5,  0.5],\n",
              "       [-5. ,  5. ]])"
            ]
          },
          "metadata": {},
          "execution_count": 31
        }
      ]
    },
    {
      "cell_type": "markdown",
      "source": [
        "#### 2. For an 2-dimensional input matrix, write a NumPy function to subtract the mean of each column of a given matrix."
      ],
      "metadata": {
        "id": "117NsITKhAHA"
      }
    },
    {
      "cell_type": "code",
      "source": [
        "# mean of each row\n",
        "col_mean = A.mean(axis=0)\n",
        "col_mean"
      ],
      "metadata": {
        "colab": {
          "base_uri": "https://localhost:8080/"
        },
        "id": "qyMnrcpJdC-J",
        "outputId": "357c8e75-5d59-4fc8-d552-16b06139704d"
      },
      "execution_count": null,
      "outputs": [
        {
          "output_type": "execute_result",
          "data": {
            "text/plain": [
              "array([ 5.5, 11. ])"
            ]
          },
          "metadata": {},
          "execution_count": 11
        }
      ]
    },
    {
      "cell_type": "markdown",
      "source": [
        "col_mean은 row_mean과 다르게 reshape이 필요없다.\\\n",
        "첫번째 column에서는 col_mean의 첫번째 element를 행을 따라 계속 빼줄 것이기 때문이다.\\\n",
        "확인하기 위해서는 broadcasting이 올바로 되기 위해 col_mean 1차원 array를 [1,n] 2차원 array로 reshape해서 뺄셈을 적용시켜볼 수 있다."
      ],
      "metadata": {
        "id": "PRfyFJQedxXd"
      }
    },
    {
      "cell_type": "code",
      "source": [
        "A - col_mean"
      ],
      "metadata": {
        "colab": {
          "base_uri": "https://localhost:8080/"
        },
        "id": "ran5iHebdhwg",
        "outputId": "45c4a593-69ce-4d28-abe7-6ad4b1b7f811"
      },
      "execution_count": null,
      "outputs": [
        {
          "output_type": "execute_result",
          "data": {
            "text/plain": [
              "array([[-4.5, -9. ],\n",
              "       [ 4.5,  9. ]])"
            ]
          },
          "metadata": {},
          "execution_count": 13
        }
      ]
    },
    {
      "cell_type": "code",
      "source": [
        "A - col_mean.reshape([1, col_mean.shape[0]])"
      ],
      "metadata": {
        "colab": {
          "base_uri": "https://localhost:8080/"
        },
        "id": "T6_4qT0ae2ru",
        "outputId": "d13c76d4-1d91-435a-d093-1b833cf3e6fd"
      },
      "execution_count": null,
      "outputs": [
        {
          "output_type": "execute_result",
          "data": {
            "text/plain": [
              "array([[-4.5, -9. ],\n",
              "       [ 4.5,  9. ]])"
            ]
          },
          "metadata": {},
          "execution_count": 17
        }
      ]
    },
    {
      "cell_type": "markdown",
      "source": [
        "결과값이 똑같이 옳게 나오는 것을 확인할 수 있다. 따라서 reshape는 생략해도 된다."
      ],
      "metadata": {
        "id": "DG5mEwNcfF7D"
      }
    },
    {
      "cell_type": "code",
      "source": [
        "def my_function2(A):\n",
        "  mean = A.mean(axis=0)\n",
        "  myreturn = A - mean\n",
        "  return myreturn"
      ],
      "metadata": {
        "id": "SkArAHimdqFF"
      },
      "execution_count": null,
      "outputs": []
    },
    {
      "cell_type": "code",
      "source": [
        "my_function2(A)"
      ],
      "metadata": {
        "colab": {
          "base_uri": "https://localhost:8080/"
        },
        "id": "ZYmn1yYz_o7z",
        "outputId": "e8d1fbf3-cdb8-4d39-ec3f-ff7c5aa44e03"
      },
      "execution_count": null,
      "outputs": [
        {
          "output_type": "execute_result",
          "data": {
            "text/plain": [
              "array([[ -4.5,  -9. , -13.5],\n",
              "       [  4.5,   9. ,  13.5]])"
            ]
          },
          "metadata": {},
          "execution_count": 24
        }
      ]
    },
    {
      "cell_type": "markdown",
      "source": [
        "#### 3. Write a NumPy function to concatenate two given two dimensional arrays of shape (n, p) and (n,q), respectively, to create (n, p+q) array."
      ],
      "metadata": {
        "id": "zGu0vQqyhB8N"
      }
    },
    {
      "cell_type": "code",
      "source": [
        "def my_function3(arr1,arr2):\n",
        "  myreturn = np.concatenate((arr1, arr2), axis=1)\n",
        "  return myreturn"
      ],
      "metadata": {
        "id": "AtPpA-qffVH8"
      },
      "execution_count": null,
      "outputs": []
    },
    {
      "cell_type": "code",
      "source": [
        "A = np.array([[1,2],\n",
        "              [10,20]])\n",
        "B = np.array([[1,2,3],\n",
        "              [10,20,30]\n",
        "             ])\n",
        "my_function3(A,B)"
      ],
      "metadata": {
        "colab": {
          "base_uri": "https://localhost:8080/"
        },
        "id": "a04DOwbv9Rwt",
        "outputId": "460e225a-5e7d-4219-8632-cf9b3c6482f3"
      },
      "execution_count": null,
      "outputs": [
        {
          "output_type": "execute_result",
          "data": {
            "text/plain": [
              "array([[ 1,  2,  1,  2,  3],\n",
              "       [10, 20, 10, 20, 30]])"
            ]
          },
          "metadata": {},
          "execution_count": 38
        }
      ]
    },
    {
      "cell_type": "code",
      "source": [
        "print(A.shape)\n",
        "print(B.shape)\n",
        "print(my_function3(A,B).shape)"
      ],
      "metadata": {
        "colab": {
          "base_uri": "https://localhost:8080/"
        },
        "id": "YYnh2u1VBkDy",
        "outputId": "e39a955f-2e1c-430f-cbfc-4d1c07b4601e"
      },
      "execution_count": null,
      "outputs": [
        {
          "output_type": "stream",
          "name": "stdout",
          "text": [
            "(2, 2)\n",
            "(2, 3)\n",
            "(2, 5)\n"
          ]
        }
      ]
    },
    {
      "cell_type": "markdown",
      "source": [
        "#### 4. Write a NumPy function to concatenate two given two dimensional arrays of shape (n, p) and (m,p), respectively, to create (n+m, p) array."
      ],
      "metadata": {
        "id": "lHse991yhDmt"
      }
    },
    {
      "cell_type": "code",
      "source": [
        "def my_function4(arr1,arr2):\n",
        "  myreturn = np.concatenate((arr1, arr2), axis=0)\n",
        "  return myreturn"
      ],
      "metadata": {
        "id": "SCZrdyN781qZ"
      },
      "execution_count": null,
      "outputs": []
    },
    {
      "cell_type": "code",
      "source": [
        "A = np.array([[1,2,3],\n",
        "              [10,20,30]])\n",
        "B = np.array([[1,2,3],\n",
        "              [10,20,30],\n",
        "              [100,200,300]])\n",
        "my_function4(A,B)"
      ],
      "metadata": {
        "colab": {
          "base_uri": "https://localhost:8080/"
        },
        "id": "FHbEXgW4_WW9",
        "outputId": "8de142f7-d1be-4013-9e24-ba6460b7f665"
      },
      "execution_count": null,
      "outputs": [
        {
          "output_type": "execute_result",
          "data": {
            "text/plain": [
              "array([[  1,   2,   3],\n",
              "       [ 10,  20,  30],\n",
              "       [  1,   2,   3],\n",
              "       [ 10,  20,  30],\n",
              "       [100, 200, 300]])"
            ]
          },
          "metadata": {},
          "execution_count": 42
        }
      ]
    },
    {
      "cell_type": "code",
      "source": [
        "print(A.shape)\n",
        "print(B.shape)\n",
        "print(my_function4(A,B).shape)"
      ],
      "metadata": {
        "colab": {
          "base_uri": "https://localhost:8080/"
        },
        "id": "5913UxCRB-Mq",
        "outputId": "fa844237-ae0c-49b5-c05b-c9fa7e6aeca9"
      },
      "execution_count": null,
      "outputs": [
        {
          "output_type": "stream",
          "name": "stdout",
          "text": [
            "(2, 3)\n",
            "(3, 3)\n",
            "(5, 3)\n"
          ]
        }
      ]
    },
    {
      "cell_type": "markdown",
      "source": [
        "\n",
        "#### 5. [Video Record] Create a python function to create a matrix having a boundary with a value of 1 and an inner one 0 the legend is shown below for given row and column numbers:"
      ],
      "metadata": {
        "id": "0d5T65MokuQe"
      }
    },
    {
      "cell_type": "markdown",
      "source": [
        "풀이: https://youtu.be/sSsyF4apSE4"
      ],
      "metadata": {
        "id": "OdK2RkvC0-E6"
      }
    },
    {
      "cell_type": "code",
      "source": [
        "arr = np.ones([5,5])\n",
        "arr"
      ],
      "metadata": {
        "colab": {
          "base_uri": "https://localhost:8080/"
        },
        "id": "wJNKXnFQlMbE",
        "outputId": "bf86e46e-a4a1-4704-8921-809c36d605d0"
      },
      "execution_count": 17,
      "outputs": [
        {
          "output_type": "execute_result",
          "data": {
            "text/plain": [
              "array([[1., 1., 1., 1., 1.],\n",
              "       [1., 1., 1., 1., 1.],\n",
              "       [1., 1., 1., 1., 1.],\n",
              "       [1., 1., 1., 1., 1.],\n",
              "       [1., 1., 1., 1., 1.]])"
            ]
          },
          "metadata": {},
          "execution_count": 17
        }
      ]
    },
    {
      "cell_type": "code",
      "source": [
        "arr[1:-1, 1:-1] = 0\n",
        "arr"
      ],
      "metadata": {
        "colab": {
          "base_uri": "https://localhost:8080/"
        },
        "id": "siWWdHWSldV4",
        "outputId": "027bfe86-a40c-46ab-eaf2-fd5e15eae68e"
      },
      "execution_count": 8,
      "outputs": [
        {
          "output_type": "execute_result",
          "data": {
            "text/plain": [
              "array([[1., 1., 1., 1., 1.],\n",
              "       [1., 0., 0., 0., 1.],\n",
              "       [1., 0., 0., 0., 1.],\n",
              "       [1., 0., 0., 0., 1.],\n",
              "       [1., 1., 1., 1., 1.]])"
            ]
          },
          "metadata": {},
          "execution_count": 8
        }
      ]
    },
    {
      "cell_type": "code",
      "source": [
        "def my_function5(row,col):\n",
        "  arr = np.ones([row,col])\n",
        "  arr[1:-1,1:-1]=0\n",
        "  return arr"
      ],
      "metadata": {
        "id": "wCECbZOt-n9z"
      },
      "execution_count": 9,
      "outputs": []
    },
    {
      "cell_type": "code",
      "source": [
        "my_function5(5,4)"
      ],
      "metadata": {
        "colab": {
          "base_uri": "https://localhost:8080/"
        },
        "id": "j-GunBxY-9Do",
        "outputId": "55311494-d6a9-4dc3-8a6a-7b5dcd6c98bf"
      },
      "execution_count": 10,
      "outputs": [
        {
          "output_type": "execute_result",
          "data": {
            "text/plain": [
              "array([[1., 1., 1., 1.],\n",
              "       [1., 0., 0., 1.],\n",
              "       [1., 0., 0., 1.],\n",
              "       [1., 0., 0., 1.],\n",
              "       [1., 1., 1., 1.]])"
            ]
          },
          "metadata": {},
          "execution_count": 10
        }
      ]
    },
    {
      "cell_type": "markdown",
      "source": [
        "#### 6. Given a sequence of n values x1, x2, ..., xn and a window size k>0, the k-th moving average of the given sequence is defined as follows:\n",
        "The moving average sequence has n-k+1 elements as shown below.\\\n",
        "The moving averages with k=4 of a ten-value sequence (n=10) is shown below\\\n",
        " i 1 2 3 4 5 6 7 8 9 10\\\n",
        "===== == == == == == == == == == ==\\\n",
        "```\n",
        "Input 10 20 30 40 50 60 70 80 90 100\n",
        "y1 25 = (10+20+30+40)/4\n",
        "y2 35 = (20+30+40+50)/4\n",
        "y3 45 = (30+40+50+60)/4\n",
        "y4 55 = (40+50+60+70)/4\n",
        "y5 65 = (50+60+70+80)/4\n",
        "y6 75 = (60+70+80+90)/4\n",
        "y7 85 = (70+80+90+100)/4\n",
        "```\n",
        "Thus, the moving average sequence has n-k+1=10-4+1=7 values.\\\n",
        "Write a Python function to find moving average in an array over a window with an array and window size as inputs:\\\n",
        "Test it over [3, 5, 7, 2, 8, 10, 11, 65, 72, 81, 99, 100, 150] and window size 3."
      ],
      "metadata": {
        "id": "JJkUxWLrAFV9"
      }
    },
    {
      "cell_type": "code",
      "source": [
        "def my_function6(array, k):\n",
        "  len = array.shape[0] - k + 1\n",
        "  avg = np.ones([len])\n",
        "  for i in range(len):\n",
        "    temp = array[i: i+k]\n",
        "    avg[i] = temp.mean()\n",
        "  return avg"
      ],
      "metadata": {
        "id": "a2j2E8sJDC0f"
      },
      "execution_count": null,
      "outputs": []
    },
    {
      "cell_type": "code",
      "source": [
        "my_function6(np.array([10,20,30,40,50,60,70,80,90,100]), 4)"
      ],
      "metadata": {
        "colab": {
          "base_uri": "https://localhost:8080/"
        },
        "id": "lb7Dcgc_DTom",
        "outputId": "5fd86ea4-14ef-4bf6-a938-c4db4c4a3f34"
      },
      "execution_count": null,
      "outputs": [
        {
          "output_type": "execute_result",
          "data": {
            "text/plain": [
              "array([25., 35., 45., 55., 65., 75., 85.])"
            ]
          },
          "metadata": {},
          "execution_count": 59
        }
      ]
    },
    {
      "cell_type": "code",
      "source": [
        "array = np.array([3, 5, 7, 2, 8, 10, 11, 65, 72, 81, 99, 100, 150])\n",
        "my_function6(array,3)"
      ],
      "metadata": {
        "colab": {
          "base_uri": "https://localhost:8080/"
        },
        "id": "nBzOOt5SAFDc",
        "outputId": "4f842df7-e64d-4b69-f5ce-b09e7b2d72be"
      },
      "execution_count": null,
      "outputs": [
        {
          "output_type": "execute_result",
          "data": {
            "text/plain": [
              "array([  5.        ,   4.66666667,   5.66666667,   6.66666667,\n",
              "         9.66666667,  28.66666667,  49.33333333,  72.66666667,\n",
              "        84.        ,  93.33333333, 116.33333333])"
            ]
          },
          "metadata": {},
          "execution_count": 60
        }
      ]
    },
    {
      "cell_type": "markdown",
      "source": [
        "#### 7 [Video Record] You are given the following information of drivers:"
      ],
      "metadata": {
        "id": "1wj5nsTTnOt3"
      }
    },
    {
      "cell_type": "markdown",
      "source": [
        "풀이: https://youtu.be/TICXqAB2Tw4"
      ],
      "metadata": {
        "id": "C27g-Nzi1XC4"
      }
    },
    {
      "cell_type": "code",
      "source": [
        "# Number of accidents\n",
        "T1 = np.array([[0,1,0,1,2],\n",
        "               [1,3,2,1,0],\n",
        "               [0,0,0,1,3]])\n",
        "# Salary\n",
        "T2 = np.array([[157,167,130,145,170],\n",
        "               [250,260,263,273,290],\n",
        "               [301,120,30,100,502]])\n",
        "# Sports car\n",
        "T3 = np.array([[1,1,1,1,1],\n",
        "               [0,0,0,0,0],\n",
        "               [0,0,0,0,0]])"
      ],
      "metadata": {
        "id": "AOYMqBbSmT8s"
      },
      "execution_count": null,
      "outputs": []
    },
    {
      "cell_type": "markdown",
      "source": [
        "Make (3,5,2) where (i,j,k) represents (i-th person, j-th year, k) where\\\n",
        "k=0 = 건수\\\n",
        "k=1 = salary\n"
      ],
      "metadata": {
        "id": "mwQaCJ-cn7ec"
      }
    },
    {
      "cell_type": "code",
      "source": [
        "# final array shape: [3,5,2]\n",
        "# stack 3 arrays of [year, k] of each person\n",
        "df1 = np.ones([3,5,2])\n",
        "for i in range(3): # i-th person\n",
        "  for j in range(5): # j-th year\n",
        "    df1[i,j,0] = T1[i, j] # number of accidents\n",
        "    df1[i,j,1] = T2[i, j] # salary\n",
        "df1"
      ],
      "metadata": {
        "colab": {
          "base_uri": "https://localhost:8080/"
        },
        "id": "y25zCX5BWkNN",
        "outputId": "74f1e54b-d8bd-4cb8-d172-68183de8f84a"
      },
      "execution_count": null,
      "outputs": [
        {
          "output_type": "execute_result",
          "data": {
            "text/plain": [
              "array([[[  0., 157.],\n",
              "        [  1., 167.],\n",
              "        [  0., 130.],\n",
              "        [  1., 145.],\n",
              "        [  2., 170.]],\n",
              "\n",
              "       [[  1., 250.],\n",
              "        [  3., 260.],\n",
              "        [  2., 263.],\n",
              "        [  1., 273.],\n",
              "        [  0., 290.]],\n",
              "\n",
              "       [[  0., 301.],\n",
              "        [  0., 120.],\n",
              "        [  0.,  30.],\n",
              "        [  1., 100.],\n",
              "        [  3., 502.]]])"
            ]
          },
          "metadata": {},
          "execution_count": 64
        }
      ]
    },
    {
      "cell_type": "code",
      "source": [
        "B = np.stack([T1,T2], axis=2)\n",
        "print(B.shape)\n",
        "print(B)"
      ],
      "metadata": {
        "colab": {
          "base_uri": "https://localhost:8080/"
        },
        "id": "3nXhLoqnnjPX",
        "outputId": "a219c548-ef70-4a33-acb8-1387da454d7d"
      },
      "execution_count": null,
      "outputs": [
        {
          "output_type": "stream",
          "name": "stdout",
          "text": [
            "(3, 5, 2)\n",
            "[[[  0 157]\n",
            "  [  1 167]\n",
            "  [  0 130]\n",
            "  [  1 145]\n",
            "  [  2 170]]\n",
            "\n",
            " [[  1 250]\n",
            "  [  3 260]\n",
            "  [  2 263]\n",
            "  [  1 273]\n",
            "  [  0 290]]\n",
            "\n",
            " [[  0 301]\n",
            "  [  0 120]\n",
            "  [  0  30]\n",
            "  [  1 100]\n",
            "  [  3 502]]]\n"
          ]
        }
      ]
    },
    {
      "cell_type": "markdown",
      "source": [
        "a. Create an array “N” of shape [3, 5] to represent the number of accidents. Similarly, create arrays of “Salary” and “Sports” of shape [3,5] each to represent the salary and sports car."
      ],
      "metadata": {
        "id": "xP8XLdfRYcIk"
      }
    },
    {
      "cell_type": "code",
      "source": [
        "# Number of accidents\n",
        "N = np.array([[0,1,0,1,2],\n",
        "               [1,3,2,1,0],\n",
        "               [0,0,0,1,3]])\n",
        "# Salary\n",
        "Salary = np.array([[157,167,130,145,170],\n",
        "               [250,260,263,273,290],\n",
        "               [301,120,30,100,502]])\n",
        "# Sports car\n",
        "Sports = np.array([[1,1,1,1,1],\n",
        "               [0,0,0,0,0],\n",
        "               [0,0,0,0,0]])"
      ],
      "metadata": {
        "id": "E3KOt5AIju-f"
      },
      "execution_count": 12,
      "outputs": []
    },
    {
      "cell_type": "markdown",
      "source": [
        "b. Create an array “Y” of shape [3,5,3] where \\\n",
        "(i,j,1)-th element of “Y” represent the number of accidents of i-th id in the j-th year, and \\\n",
        "(i,j,2)-th element of “Y” represents the salary of i-th id in the j-th year, and \\\n",
        "(i,j,3)-th element of “Y” represent sports car (0 or 1) of i-th id in the j-th year. \\\n",
        "(Please type everything element to define “Y”)"
      ],
      "metadata": {
        "id": "qXrxKqNwYlvs"
      }
    },
    {
      "cell_type": "code",
      "source": [
        "Y = np.array([[[0, 157, 1], # 0th ID, Year 1\n",
        "              [1, 167, 1],     # Year 2: [Number of accidents, salary, sports car]\n",
        "              [0, 130, 1],     # Year 3:  \"\"\n",
        "              [1, 145, 1],\n",
        "              [2, 170, 1]],\n",
        "             [[1, 250, 0], # 1st ID, Year 1\n",
        "              [3, 260, 0],      # Year 2:\n",
        "              [2, 263, 0],\n",
        "              [1, 273, 0],\n",
        "              [0, 290, 0]],\n",
        "             [[0, 301, 0], # 2nd ID\n",
        "              [0, 120, 0],\n",
        "              [0,  30, 0],\n",
        "              [1, 100, 0],\n",
        "              [3, 502, 0]]])\n",
        "print(Y.shape)\n",
        "print(Y)"
      ],
      "metadata": {
        "colab": {
          "base_uri": "https://localhost:8080/"
        },
        "id": "4Y6yLtnhYlWO",
        "outputId": "9297b1f7-d9c2-406a-dcdf-1fdd295a0e45"
      },
      "execution_count": null,
      "outputs": [
        {
          "output_type": "stream",
          "name": "stdout",
          "text": [
            "(3, 5, 3)\n",
            "[[[  0 157   1]\n",
            "  [  1 167   1]\n",
            "  [  0 130   1]\n",
            "  [  1 145   1]\n",
            "  [  2 170   1]]\n",
            "\n",
            " [[  1 250   0]\n",
            "  [  3 260   0]\n",
            "  [  2 263   0]\n",
            "  [  1 273   0]\n",
            "  [  0 290   0]]\n",
            "\n",
            " [[  0 301   0]\n",
            "  [  0 120   0]\n",
            "  [  0  30   0]\n",
            "  [  1 100   0]\n",
            "  [  3 502   0]]]\n"
          ]
        }
      ]
    },
    {
      "cell_type": "markdown",
      "source": [
        "c. Solve part b> again by utilizing “N”, “Salary”, and “Sports” defined in (a)."
      ],
      "metadata": {
        "id": "wJxsAQ8FYoo3"
      }
    },
    {
      "cell_type": "code",
      "source": [
        "Y = np.stack([N,Salary, Sports], axis=2)\n",
        "print(Y.shape)\n",
        "print(Y)"
      ],
      "metadata": {
        "colab": {
          "base_uri": "https://localhost:8080/"
        },
        "id": "EDSoaVeXYr8e",
        "outputId": "8de5c8e9-4a2c-42ce-8c13-344706bf3f47"
      },
      "execution_count": 13,
      "outputs": [
        {
          "output_type": "stream",
          "name": "stdout",
          "text": [
            "(3, 5, 3)\n",
            "[[[  0 157   1]\n",
            "  [  1 167   1]\n",
            "  [  0 130   1]\n",
            "  [  1 145   1]\n",
            "  [  2 170   1]]\n",
            "\n",
            " [[  1 250   0]\n",
            "  [  3 260   0]\n",
            "  [  2 263   0]\n",
            "  [  1 273   0]\n",
            "  [  0 290   0]]\n",
            "\n",
            " [[  0 301   0]\n",
            "  [  0 120   0]\n",
            "  [  0  30   0]\n",
            "  [  1 100   0]\n",
            "  [  3 502   0]]]\n"
          ]
        }
      ]
    },
    {
      "cell_type": "markdown",
      "source": [
        "d. Create an array “Y2” of shape [3,3,5] where\\\n",
        "(i,1,j)-th element of “Y” represent the number of accidents of i-th id in the j-th year, and \\\n",
        "(i,2,j)-th element of “Y” represents the salary of i-th id in the j-th year, and\\\n",
        "(i,3,j)-th element of “Y” represent sports car (0 or 1) of i-th id in the j-th year.\\\n",
        "(Please type everything element to define “Y2”)"
      ],
      "metadata": {
        "id": "loujGZsQYt0J"
      }
    },
    {
      "cell_type": "code",
      "source": [
        "Y2 = np.array([[[0, 1, 0, 1, 2],              # number of accidents\n",
        "                [157, 167, 130, 145, 170],    # salary\n",
        "                [1, 1, 1, 1, 1]],             # sports car\n",
        "               [[1, 3, 2, 1, 0],          # [year1, 2, 3, 4, 5]\n",
        "                [250, 260, 263, 273, 290],\n",
        "                [0, 0, 0, 0, 0]],\n",
        "               [[0, 0, 0, 1, 3],          # 2rd ID\n",
        "                [301, 120,  30, 100, 502],\n",
        "                [0, 0, 0, 0, 0]]])\n",
        "Y2"
      ],
      "metadata": {
        "colab": {
          "base_uri": "https://localhost:8080/"
        },
        "id": "rZjNHCTvYvAX",
        "outputId": "3e4b13a5-ec14-48b0-f84f-ec52f66585a1"
      },
      "execution_count": null,
      "outputs": [
        {
          "output_type": "execute_result",
          "data": {
            "text/plain": [
              "array([[[  0,   1,   0,   1,   2],\n",
              "        [157, 167, 130, 145, 170],\n",
              "        [  1,   1,   1,   1,   1]],\n",
              "\n",
              "       [[  1,   3,   2,   1,   0],\n",
              "        [250, 260, 263, 273, 290],\n",
              "        [  0,   0,   0,   0,   0]],\n",
              "\n",
              "       [[  0,   0,   0,   1,   3],\n",
              "        [301, 120,  30, 100, 502],\n",
              "        [  0,   0,   0,   0,   0]]])"
            ]
          },
          "metadata": {},
          "execution_count": 78
        }
      ]
    },
    {
      "cell_type": "markdown",
      "source": [
        "e. Solve part d> again by converting an array “Y” into “Y2”\\\n",
        "Hint: Use numpy.tranpose() function or numpy.swapaxes() function"
      ],
      "metadata": {
        "id": "q0wlpRMeYwkO"
      }
    },
    {
      "cell_type": "code",
      "source": [
        "np.transpose(Y, [0,2,1]) # [3,5,3] -> [3,3,5]\n",
        "                         # [0,1,2] -> [0,2,1]"
      ],
      "metadata": {
        "colab": {
          "base_uri": "https://localhost:8080/"
        },
        "id": "uDVjt9tF5L9H",
        "outputId": "e434700a-8d40-49e4-9248-2d69c650693c"
      },
      "execution_count": 15,
      "outputs": [
        {
          "output_type": "execute_result",
          "data": {
            "text/plain": [
              "array([[[  0,   1,   0,   1,   2],\n",
              "        [157, 167, 130, 145, 170],\n",
              "        [  1,   1,   1,   1,   1]],\n",
              "\n",
              "       [[  1,   3,   2,   1,   0],\n",
              "        [250, 260, 263, 273, 290],\n",
              "        [  0,   0,   0,   0,   0]],\n",
              "\n",
              "       [[  0,   0,   0,   1,   3],\n",
              "        [301, 120,  30, 100, 502],\n",
              "        [  0,   0,   0,   0,   0]]])"
            ]
          },
          "metadata": {},
          "execution_count": 15
        }
      ]
    },
    {
      "cell_type": "code",
      "source": [
        "np.swapaxes(Y, 2, 1)"
      ],
      "metadata": {
        "colab": {
          "base_uri": "https://localhost:8080/"
        },
        "id": "sL-wzYPTYx76",
        "outputId": "1152e76b-5570-4089-a565-3d34dc1358a1"
      },
      "execution_count": 16,
      "outputs": [
        {
          "output_type": "execute_result",
          "data": {
            "text/plain": [
              "array([[[  0,   1,   0,   1,   2],\n",
              "        [157, 167, 130, 145, 170],\n",
              "        [  1,   1,   1,   1,   1]],\n",
              "\n",
              "       [[  1,   3,   2,   1,   0],\n",
              "        [250, 260, 263, 273, 290],\n",
              "        [  0,   0,   0,   0,   0]],\n",
              "\n",
              "       [[  0,   0,   0,   1,   3],\n",
              "        [301, 120,  30, 100, 502],\n",
              "        [  0,   0,   0,   0,   0]]])"
            ]
          },
          "metadata": {},
          "execution_count": 16
        }
      ]
    },
    {
      "cell_type": "markdown",
      "source": [
        "f. Solve part d> again by utilizing “N”, “Salary”, and “Sports” defined in (a).\n"
      ],
      "metadata": {
        "id": "Mamdfh3kYz0g"
      }
    },
    {
      "cell_type": "code",
      "source": [
        "Y2 = np.stack([N,Salary, Sports], axis=1)\n",
        "print(Y2.shape)\n",
        "print(Y2)"
      ],
      "metadata": {
        "colab": {
          "base_uri": "https://localhost:8080/"
        },
        "id": "RKCworzNY1H6",
        "outputId": "39a7b4f0-f890-44fe-a35a-647c56f64b3e"
      },
      "execution_count": 14,
      "outputs": [
        {
          "output_type": "stream",
          "name": "stdout",
          "text": [
            "(3, 3, 5)\n",
            "[[[  0   1   0   1   2]\n",
            "  [157 167 130 145 170]\n",
            "  [  1   1   1   1   1]]\n",
            "\n",
            " [[  1   3   2   1   0]\n",
            "  [250 260 263 273 290]\n",
            "  [  0   0   0   0   0]]\n",
            "\n",
            " [[  0   0   0   1   3]\n",
            "  [301 120  30 100 502]\n",
            "  [  0   0   0   0   0]]]\n"
          ]
        }
      ]
    }
  ]
}