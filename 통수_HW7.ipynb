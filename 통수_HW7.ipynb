{
  "nbformat": 4,
  "nbformat_minor": 0,
  "metadata": {
    "colab": {
      "name": "통수 HW7.ipynb",
      "provenance": [],
      "authorship_tag": "ABX9TyMlzDlulcC4qCaD568QRKXu",
      "include_colab_link": true
    },
    "kernelspec": {
      "name": "python3",
      "display_name": "Python 3"
    },
    "language_info": {
      "name": "python"
    }
  },
  "cells": [
    {
      "cell_type": "markdown",
      "metadata": {
        "id": "view-in-github",
        "colab_type": "text"
      },
      "source": [
        "<a href=\"https://colab.research.google.com/github/jparkgit/NumPy/blob/master/%ED%86%B5%EC%88%98_HW7.ipynb\" target=\"_parent\"><img src=\"https://colab.research.google.com/assets/colab-badge.svg\" alt=\"Open In Colab\"/></a>"
      ]
    },
    {
      "cell_type": "code",
      "execution_count": 37,
      "metadata": {
        "id": "H4BFpceVBkIQ"
      },
      "outputs": [],
      "source": [
        "import numpy as np\n",
        "import scipy"
      ]
    },
    {
      "cell_type": "markdown",
      "source": [
        "#9"
      ],
      "metadata": {
        "id": "YIAHJAa6DUiY"
      }
    },
    {
      "cell_type": "code",
      "source": [
        "A = np.array([[2,-1,0],\n",
        "              [-1,2,0],\n",
        "              [0,0,1]])\n",
        "A"
      ],
      "metadata": {
        "colab": {
          "base_uri": "https://localhost:8080/"
        },
        "id": "4e5wgZ2RBvxj",
        "outputId": "05fa810f-bce0-4579-fc00-1312db796ee0"
      },
      "execution_count": 2,
      "outputs": [
        {
          "output_type": "execute_result",
          "data": {
            "text/plain": [
              "array([[ 2, -1,  0],\n",
              "       [-1,  2,  0],\n",
              "       [ 0,  0,  1]])"
            ]
          },
          "metadata": {},
          "execution_count": 2
        }
      ]
    },
    {
      "cell_type": "code",
      "source": [
        "a = np.linalg.eig(A)\n",
        "a"
      ],
      "metadata": {
        "colab": {
          "base_uri": "https://localhost:8080/"
        },
        "id": "ehLwLiJGB7E0",
        "outputId": "6afeb1a8-5542-4028-f643-64d9f00b0571"
      },
      "execution_count": 5,
      "outputs": [
        {
          "output_type": "execute_result",
          "data": {
            "text/plain": [
              "(array([3., 1., 1.]), array([[ 0.70710678,  0.70710678,  0.        ],\n",
              "        [-0.70710678,  0.70710678,  0.        ],\n",
              "        [ 0.        ,  0.        ,  1.        ]]))"
            ]
          },
          "metadata": {},
          "execution_count": 5
        }
      ]
    },
    {
      "cell_type": "code",
      "source": [
        "D = np.array([[3,0,0],\n",
        "              [0,1,0],\n",
        "              [0,0,1]])\n",
        "P = a[1]\n",
        "invP = np.linalg.inv(P)"
      ],
      "metadata": {
        "id": "oElc5werCGve"
      },
      "execution_count": 9,
      "outputs": []
    },
    {
      "cell_type": "code",
      "source": [
        "np.matmul(np.matmul(P,D), invP)"
      ],
      "metadata": {
        "colab": {
          "base_uri": "https://localhost:8080/"
        },
        "id": "9uqROTMpCZ6x",
        "outputId": "8d50cbac-ec5a-465f-dc9d-c6ba12320351"
      },
      "execution_count": 16,
      "outputs": [
        {
          "output_type": "execute_result",
          "data": {
            "text/plain": [
              "array([[ 2., -1.,  0.],\n",
              "       [-1.,  2.,  0.],\n",
              "       [ 0.,  0.,  1.]])"
            ]
          },
          "metadata": {},
          "execution_count": 16
        }
      ]
    },
    {
      "cell_type": "markdown",
      "source": [
        "#10"
      ],
      "metadata": {
        "id": "UeBUVwDtDWNW"
      }
    },
    {
      "cell_type": "markdown",
      "source": [
        "##1"
      ],
      "metadata": {
        "id": "fbvIvS3HDsjn"
      }
    },
    {
      "cell_type": "code",
      "source": [
        "A1 = np.array([[2,1],\n",
        "              [1,2]])"
      ],
      "metadata": {
        "id": "p7BoZdZfDX4r"
      },
      "execution_count": 30,
      "outputs": []
    },
    {
      "cell_type": "code",
      "source": [
        "np.linalg.eig(A1)\n",
        "# Are all eigenvalues are greater than 0? YES\n",
        "# A1 is positive definite"
      ],
      "metadata": {
        "colab": {
          "base_uri": "https://localhost:8080/"
        },
        "id": "Acb7EtZ8U44Y",
        "outputId": "e0f6831b-d99b-4eef-999e-382896fa7131"
      },
      "execution_count": 31,
      "outputs": [
        {
          "output_type": "execute_result",
          "data": {
            "text/plain": [
              "(array([3., 1.]), array([[ 0.70710678, -0.70710678],\n",
              "        [ 0.70710678,  0.70710678]]))"
            ]
          },
          "metadata": {},
          "execution_count": 31
        }
      ]
    },
    {
      "cell_type": "markdown",
      "source": [
        "##2"
      ],
      "metadata": {
        "id": "KA2aX3v8VoAj"
      }
    },
    {
      "cell_type": "code",
      "source": [
        "A2 = np.array([[2,3],\n",
        "              [3,2]])"
      ],
      "metadata": {
        "id": "k39yYoroVtoZ"
      },
      "execution_count": 32,
      "outputs": []
    },
    {
      "cell_type": "code",
      "source": [
        "np.linalg.eig(A2)\n",
        "# Are all eigenvalues are greater than 0? NO\n",
        "# A2 is not positive definite"
      ],
      "metadata": {
        "colab": {
          "base_uri": "https://localhost:8080/"
        },
        "id": "-gyq1pP5U60J",
        "outputId": "4d166950-a72b-4e7c-e96a-f97532a9aeac"
      },
      "execution_count": 33,
      "outputs": [
        {
          "output_type": "execute_result",
          "data": {
            "text/plain": [
              "(array([ 5., -1.]), array([[ 0.70710678, -0.70710678],\n",
              "        [ 0.70710678,  0.70710678]]))"
            ]
          },
          "metadata": {},
          "execution_count": 33
        }
      ]
    },
    {
      "cell_type": "markdown",
      "source": [
        "##3"
      ],
      "metadata": {
        "id": "7W_ZAdXGWFYe"
      }
    },
    {
      "cell_type": "code",
      "source": [
        "A3 = np.array([[2,-1,0],\n",
        "              [-1,2,0],\n",
        "              [0,0,1]])"
      ],
      "metadata": {
        "id": "FmtKv-FhWG1j"
      },
      "execution_count": 34,
      "outputs": []
    },
    {
      "cell_type": "code",
      "source": [
        "np.linalg.eig(A3)\n",
        "# Are all eigenvalues are greater than 0? YES\n",
        "# A3 is positive definite"
      ],
      "metadata": {
        "colab": {
          "base_uri": "https://localhost:8080/"
        },
        "id": "E4eNuq01WNir",
        "outputId": "bb26c2cd-66f9-4cf4-df00-16637a92a619"
      },
      "execution_count": 35,
      "outputs": [
        {
          "output_type": "execute_result",
          "data": {
            "text/plain": [
              "(array([3., 1., 1.]), array([[ 0.70710678,  0.70710678,  0.        ],\n",
              "        [-0.70710678,  0.70710678,  0.        ],\n",
              "        [ 0.        ,  0.        ,  1.        ]]))"
            ]
          },
          "metadata": {},
          "execution_count": 35
        }
      ]
    }
  ]
}