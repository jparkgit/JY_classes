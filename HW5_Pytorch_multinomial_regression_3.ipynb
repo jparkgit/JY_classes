{
  "nbformat": 4,
  "nbformat_minor": 5,
  "metadata": {
    "accelerator": "GPU",
    "colab": {
      "provenance": [],
      "machine_shape": "hm",
      "include_colab_link": true
    },
    "kernelspec": {
      "name": "python3",
      "display_name": "Python 3"
    },
    "language_info": {
      "name": "python"
    }
  },
  "cells": [
    {
      "cell_type": "markdown",
      "metadata": {
        "id": "view-in-github",
        "colab_type": "text"
      },
      "source": [
        "<a href=\"https://colab.research.google.com/github/jparkgit/JY_classes/blob/master/HW5_Pytorch_multinomial_regression_3.ipynb\" target=\"_parent\"><img src=\"https://colab.research.google.com/assets/colab-badge.svg\" alt=\"Open In Colab\"/></a>"
      ]
    },
    {
      "cell_type": "markdown",
      "source": [
        "#  박지현 - 1903055 - 생명과학과"
      ],
      "metadata": {
        "id": "Ocm-oB8LUw7o"
      },
      "id": "Ocm-oB8LUw7o"
    },
    {
      "cell_type": "markdown",
      "source": [
        "# HW5 Multinomial logistic regression model\n",
        "Solve the following problems in Pytorch_multinomial_regression.ipynb\n",
        "1. Solve Exercise 2.3.4 (Iris data)\n",
        "2. Solve Exercise 2.3.5 (Fashion Mnist data)"
      ],
      "metadata": {
        "id": "_8LtSKyqSALh"
      },
      "id": "_8LtSKyqSALh"
    },
    {
      "cell_type": "markdown",
      "source": [
        "We will be using the famous Iris dataset, which contains measurements of the sepal length, sepal width, petal length, and petal width for three species of iris flowers (Iris setosa, Iris versicolor, and Iris virginica). The goal is to predict the species of an iris flower based on these measurements."
      ],
      "metadata": {
        "id": "_dPfo6OoSXGe"
      },
      "id": "_dPfo6OoSXGe"
    },
    {
      "cell_type": "code",
      "source": [
        "import torch\n",
        "import torchvision\n",
        "import numpy as np\n",
        "import matplotlib.pyplot as plt\n",
        "import sklearn.datasets\n",
        "import torch.nn as nn\n",
        "from torch.utils.data import Dataset, DataLoader, TensorDataset\n",
        "import pandas as pd\n",
        "from tqdm import tqdm"
      ],
      "metadata": {
        "id": "rYi9tiyOIM6G"
      },
      "id": "rYi9tiyOIM6G",
      "execution_count": 132,
      "outputs": []
    },
    {
      "cell_type": "code",
      "source": [
        "from sklearn.datasets import load_iris\n",
        "from sklearn.model_selection import train_test_split\n",
        "\n",
        "# Load the Iris dataset\n",
        "iris = load_iris()\n",
        "\n",
        "# Convert the data to PyTorch tensors\n",
        "X = torch.tensor(iris.data, dtype=torch.float32)\n",
        "y = torch.tensor(iris.target, dtype=torch.long)\n",
        "\n",
        "# One hot encode the y\n",
        "t = torch.nn.functional.one_hot(torch.tensor(y, dtype=torch.int64), num_classes=3)\n",
        "t = torch.tensor(t, dtype=torch.float32)\n",
        "\n",
        "# Normalize the input data\n",
        "mean = torch.mean(X, dim=0)\n",
        "std = torch.std(X, dim=0)\n",
        "X = (X - mean) / std\n",
        "\n",
        "# Split the dataset into training and validation sets\n",
        "X_train, X_val, t_train, t_val = train_test_split(X, t, test_size=0.2, random_state=42)\n",
        "\n",
        "# Create PyTorch Datasets\n",
        "train_dataset = TensorDataset(X_train, t_train)\n",
        "val_dataset = TensorDataset(X_val, t_val)\n",
        "\n",
        "# Define the data loaders\n",
        "batch_size = 16\n",
        "train_loader = DataLoader(train_dataset, batch_size=batch_size, shuffle=True)\n",
        "test_loader = DataLoader(val_dataset, batch_size=batch_size, shuffle=False)\n"
      ],
      "metadata": {
        "colab": {
          "base_uri": "https://localhost:8080/"
        },
        "id": "Kyo_KXiCSHBM",
        "outputId": "8a7b97fb-c1da-441f-df30-d3e4d6006998"
      },
      "execution_count": 133,
      "outputs": [
        {
          "output_type": "stream",
          "name": "stderr",
          "text": [
            "<ipython-input-133-7b3a72491778>:12: UserWarning: To copy construct from a tensor, it is recommended to use sourceTensor.clone().detach() or sourceTensor.clone().detach().requires_grad_(True), rather than torch.tensor(sourceTensor).\n",
            "  t = torch.nn.functional.one_hot(torch.tensor(y, dtype=torch.int64), num_classes=3)\n",
            "<ipython-input-133-7b3a72491778>:13: UserWarning: To copy construct from a tensor, it is recommended to use sourceTensor.clone().detach() or sourceTensor.clone().detach().requires_grad_(True), rather than torch.tensor(sourceTensor).\n",
            "  t = torch.tensor(t, dtype=torch.float32)\n"
          ]
        }
      ],
      "id": "Kyo_KXiCSHBM"
    },
    {
      "cell_type": "code",
      "source": [
        "for xx, tt in train_loader:\n",
        "  print(xx, tt)"
      ],
      "metadata": {
        "colab": {
          "base_uri": "https://localhost:8080/"
        },
        "id": "vlrz374AKhAB",
        "outputId": "a9b5631a-4eee-4501-9dc6-3f6cd1656bb6"
      },
      "id": "vlrz374AKhAB",
      "execution_count": 134,
      "outputs": [
        {
          "output_type": "stream",
          "name": "stdout",
          "text": [
            "tensor([[-1.6223, -1.7375, -1.3924, -1.1799],\n",
            "        [ 0.6722,  0.0979,  0.9868,  0.7880],\n",
            "        [ 0.1892, -0.1315,  0.5903,  0.7880],\n",
            "        [ 0.6722, -0.8198,  0.8735,  0.9192],\n",
            "        [-1.1392, -1.2787,  0.4203,  0.6568],\n",
            "        [ 0.7930, -0.1315,  0.8169,  1.0504],\n",
            "        [ 0.3100, -0.5904,  0.1371,  0.1321],\n",
            "        [ 0.3100, -0.3610,  0.5336,  0.2633],\n",
            "        [ 1.1553, -0.1315,  0.9868,  1.1816],\n",
            "        [-0.2939, -0.8198,  0.2504,  0.1321],\n",
            "        [-0.4146, -1.5081,  0.0238, -0.1303],\n",
            "        [ 0.7930, -0.1315,  0.9868,  0.7880],\n",
            "        [-0.1731, -0.3610,  0.2504,  0.1321],\n",
            "        [-0.5354, -0.1315,  0.4203,  0.3945],\n",
            "        [-1.0184, -1.7375, -0.2594, -0.2615],\n",
            "        [-1.0184,  1.2450, -1.3358, -1.3111]]) tensor([[1., 0., 0.],\n",
            "        [0., 0., 1.],\n",
            "        [0., 0., 1.],\n",
            "        [0., 0., 1.],\n",
            "        [0., 0., 1.],\n",
            "        [0., 0., 1.],\n",
            "        [0., 1., 0.],\n",
            "        [0., 1., 0.],\n",
            "        [0., 0., 1.],\n",
            "        [0., 1., 0.],\n",
            "        [0., 1., 0.],\n",
            "        [0., 0., 1.],\n",
            "        [0., 1., 0.],\n",
            "        [0., 1., 0.],\n",
            "        [0., 1., 0.],\n",
            "        [1., 0., 0.]])\n",
            "tensor([[-1.7309e-01, -5.9039e-01,  1.9374e-01,  1.3207e-01],\n",
            "        [ 5.5149e-01, -1.2787e+00,  6.4692e-01,  3.9445e-01],\n",
            "        [ 1.8920e-01, -1.9670e+00,  7.0356e-01,  3.9445e-01],\n",
            "        [ 3.0996e-01, -1.3154e-01,  4.7697e-01,  2.6326e-01],\n",
            "        [-2.9386e-01, -1.3154e-01,  4.2033e-01,  3.9445e-01],\n",
            "        [-1.5015e+00,  9.7889e-02, -1.2791e+00, -1.3111e+00],\n",
            "        [-4.1462e-01, -1.0493e+00,  3.6368e-01,  8.7455e-04],\n",
            "        [-7.7691e-01,  2.3922e+00, -1.2791e+00, -1.4422e+00],\n",
            "        [-1.1392e+00, -1.5081e+00, -2.5945e-01, -2.6151e-01],\n",
            "        [-7.7691e-01, -8.1982e-01,  8.0440e-02,  2.6326e-01],\n",
            "        [ 7.9301e-01, -5.9039e-01,  4.7697e-01,  3.9445e-01],\n",
            "        [ 4.3072e-01, -3.6097e-01,  3.0703e-01,  1.3207e-01],\n",
            "        [-8.9767e-01,  1.4745e+00, -1.2791e+00, -1.0487e+00],\n",
            "        [-1.0184e+00, -2.4258e+00, -1.4615e-01, -2.6151e-01],\n",
            "        [ 4.3072e-01,  7.8617e-01,  9.3015e-01,  1.4440e+00],\n",
            "        [ 2.2422e+00, -5.9039e-01,  1.6666e+00,  1.0504e+00]]) tensor([[0., 1., 0.],\n",
            "        [0., 1., 0.],\n",
            "        [0., 0., 1.],\n",
            "        [0., 1., 0.],\n",
            "        [0., 1., 0.],\n",
            "        [1., 0., 0.],\n",
            "        [0., 1., 0.],\n",
            "        [1., 0., 0.],\n",
            "        [0., 1., 0.],\n",
            "        [0., 1., 0.],\n",
            "        [0., 1., 0.],\n",
            "        [0., 1., 0.],\n",
            "        [1., 0., 0.],\n",
            "        [0., 1., 0.],\n",
            "        [0., 0., 1.],\n",
            "        [0., 0., 1.]])\n",
            "tensor([[-0.5354,  1.4745, -1.2791, -1.3111],\n",
            "        [ 0.6722,  0.3273,  0.4203,  0.3945],\n",
            "        [ 0.5515,  0.5567,  1.2700,  1.7064],\n",
            "        [ 1.2761,  0.0979,  0.6469,  0.3945],\n",
            "        [ 2.2422, -0.1315,  1.3267,  1.4440],\n",
            "        [ 0.3100, -1.0493,  1.0434,  0.2633],\n",
            "        [-1.8638, -0.1315, -1.5057, -1.4422],\n",
            "        [-0.1731, -1.2787,  0.7036,  1.0504],\n",
            "        [-0.5354,  1.9333, -1.1658, -1.0487],\n",
            "        [ 0.0684, -0.1315,  0.7602,  0.7880],\n",
            "        [-0.2939, -0.1315,  0.1937,  0.1321],\n",
            "        [-0.6561,  1.4745, -1.2791, -1.3111],\n",
            "        [ 0.9138, -0.3610,  0.4770,  0.1321],\n",
            "        [ 0.5515, -0.5904,  0.7602,  0.3945],\n",
            "        [-1.5015,  0.7862, -1.3358, -1.1799],\n",
            "        [-0.4146,  2.6216, -1.3358, -1.3111]]) tensor([[1., 0., 0.],\n",
            "        [0., 1., 0.],\n",
            "        [0., 0., 1.],\n",
            "        [0., 1., 0.],\n",
            "        [0., 0., 1.],\n",
            "        [0., 0., 1.],\n",
            "        [1., 0., 0.],\n",
            "        [0., 0., 1.],\n",
            "        [1., 0., 0.],\n",
            "        [0., 0., 1.],\n",
            "        [0., 1., 0.],\n",
            "        [1., 0., 0.],\n",
            "        [0., 1., 0.],\n",
            "        [0., 0., 1.],\n",
            "        [1., 0., 0.],\n",
            "        [1., 0., 0.]])\n",
            "tensor([[ 2.2422,  1.7039,  1.6666,  1.3128],\n",
            "        [-1.0184,  0.5567, -1.3358, -1.3111],\n",
            "        [ 0.0684, -0.1315,  0.2504,  0.3945],\n",
            "        [-1.5015,  0.3273, -1.3358, -1.3111],\n",
            "        [ 1.0345,  0.0979,  0.5336,  0.3945],\n",
            "        [-0.5354,  1.9333, -1.3924, -1.0487],\n",
            "        [ 1.6384, -0.1315,  1.1567,  0.5256],\n",
            "        [-0.0523, -0.8198,  0.7602,  0.9192],\n",
            "        [-0.7769,  0.7862, -1.3358, -1.3111],\n",
            "        [ 1.0345,  0.0979,  0.3637,  0.2633],\n",
            "        [-1.0184,  0.7862, -1.2791, -1.3111],\n",
            "        [-0.8977,  1.7039, -1.0525, -1.0487],\n",
            "        [ 1.8799, -0.5904,  1.3267,  0.9192],\n",
            "        [-0.2939, -0.5904,  0.6469,  1.0504],\n",
            "        [ 0.5515, -1.2787,  0.7036,  0.9192],\n",
            "        [ 0.6722, -0.3610,  0.3070,  0.1321]]) tensor([[0., 0., 1.],\n",
            "        [1., 0., 0.],\n",
            "        [0., 1., 0.],\n",
            "        [1., 0., 0.],\n",
            "        [0., 1., 0.],\n",
            "        [1., 0., 0.],\n",
            "        [0., 0., 1.],\n",
            "        [0., 0., 1.],\n",
            "        [1., 0., 0.],\n",
            "        [0., 1., 0.],\n",
            "        [1., 0., 0.],\n",
            "        [1., 0., 0.],\n",
            "        [0., 0., 1.],\n",
            "        [0., 0., 1.],\n",
            "        [0., 0., 1.],\n",
            "        [0., 1., 0.]])\n",
            "tensor([[ 0.1892,  0.7862,  0.4203,  0.5256],\n",
            "        [-0.8977, -1.2787, -0.4294, -0.1303],\n",
            "        [ 2.1214, -0.1315,  1.6099,  1.1816],\n",
            "        [ 0.5515, -1.7375,  0.3637,  0.1321],\n",
            "        [-1.1392,  0.0979, -1.2791, -1.3111],\n",
            "        [-0.1731, -1.0493, -0.1462, -0.2615],\n",
            "        [ 0.1892, -0.8198,  0.7602,  0.5256],\n",
            "        [-0.8977,  0.7862, -1.2791, -1.3111],\n",
            "        [-0.8977,  1.7039, -1.2225, -1.3111],\n",
            "        [ 0.4307, -0.5904,  0.5903,  0.7880],\n",
            "        [-0.8977,  1.0156, -1.3358, -1.1799],\n",
            "        [-0.8977,  0.5567, -1.1658, -0.9175],\n",
            "        [-1.7430, -0.3610, -1.3358, -1.3111],\n",
            "        [ 1.0345,  0.5567,  1.1001,  1.1816],\n",
            "        [ 1.6384,  0.3273,  1.2700,  0.7880],\n",
            "        [ 0.5515, -0.8198,  0.6469,  0.7880]]) tensor([[0., 1., 0.],\n",
            "        [0., 1., 0.],\n",
            "        [0., 0., 1.],\n",
            "        [0., 1., 0.],\n",
            "        [1., 0., 0.],\n",
            "        [0., 1., 0.],\n",
            "        [0., 1., 0.],\n",
            "        [1., 0., 0.],\n",
            "        [1., 0., 0.],\n",
            "        [0., 0., 1.],\n",
            "        [1., 0., 0.],\n",
            "        [1., 0., 0.],\n",
            "        [1., 0., 0.],\n",
            "        [0., 0., 1.],\n",
            "        [0., 0., 1.],\n",
            "        [0., 0., 1.]])\n",
            "tensor([[ 1.5176e+00, -1.3154e-01,  1.2134e+00,  1.1816e+00],\n",
            "        [-1.0184e+00,  1.0156e+00, -1.3924e+00, -1.1799e+00],\n",
            "        [-4.1462e-01, -1.5081e+00, -3.2855e-02, -2.6151e-01],\n",
            "        [ 5.5149e-01,  7.8617e-01,  1.0434e+00,  1.5752e+00],\n",
            "        [-1.5015e+00,  1.2450e+00, -1.5623e+00, -1.3111e+00],\n",
            "        [ 9.1378e-01, -1.3154e-01,  3.6368e-01,  2.6326e-01],\n",
            "        [-5.2330e-02,  2.1627e+00, -1.4490e+00, -1.3111e+00],\n",
            "        [-5.2330e-02, -1.0493e+00,  1.3709e-01,  8.7455e-04],\n",
            "        [-1.7430e+00, -1.3154e-01, -1.3924e+00, -1.3111e+00],\n",
            "        [-1.2600e+00,  7.8617e-01, -1.2225e+00, -1.3111e+00],\n",
            "        [-1.3807e+00,  3.2732e-01, -1.3924e+00, -1.3111e+00],\n",
            "        [-5.2330e-02, -5.9039e-01,  7.6021e-01,  1.5752e+00],\n",
            "        [-8.9767e-01,  1.0156e+00, -1.3358e+00, -1.3111e+00],\n",
            "        [-1.7309e-01, -1.3154e-01,  2.5038e-01,  8.7455e-04],\n",
            "        [-5.2330e-02, -8.1982e-01,  7.6021e-01,  9.1922e-01],\n",
            "        [-1.0184e+00, -1.3154e-01, -1.2225e+00, -1.3111e+00]]) tensor([[0., 0., 1.],\n",
            "        [1., 0., 0.],\n",
            "        [0., 1., 0.],\n",
            "        [0., 0., 1.],\n",
            "        [1., 0., 0.],\n",
            "        [0., 1., 0.],\n",
            "        [1., 0., 0.],\n",
            "        [0., 1., 0.],\n",
            "        [1., 0., 0.],\n",
            "        [1., 0., 0.],\n",
            "        [1., 0., 0.],\n",
            "        [0., 0., 1.],\n",
            "        [1., 0., 0.],\n",
            "        [0., 1., 0.],\n",
            "        [0., 0., 1.],\n",
            "        [1., 0., 0.]])\n",
            "tensor([[ 0.1892, -1.9670,  0.1371, -0.2615],\n",
            "        [ 1.6384,  1.2450,  1.3267,  1.7064],\n",
            "        [-1.1392,  1.2450, -1.3358, -1.4422],\n",
            "        [-1.0184,  1.0156, -1.2225, -0.7863],\n",
            "        [ 0.0684,  0.3273,  0.5903,  0.7880],\n",
            "        [-0.0523, -0.8198,  0.1937, -0.2615],\n",
            "        [-0.7769,  1.0156, -1.2791, -1.3111],\n",
            "        [ 1.2761,  0.3273,  1.1001,  1.4440],\n",
            "        [-0.1731,  3.0805, -1.2791, -1.0487],\n",
            "        [-1.1392, -0.1315, -1.3358, -1.3111],\n",
            "        [ 1.0345,  0.5567,  1.1001,  1.7064],\n",
            "        [-1.2600,  0.7862, -1.0525, -1.3111],\n",
            "        [ 1.7591, -0.3610,  1.4400,  0.7880],\n",
            "        [ 1.3968,  0.3273,  0.5336,  0.2633],\n",
            "        [-1.0184,  0.3273, -1.4490, -1.3111],\n",
            "        [-1.7430,  0.3273, -1.3924, -1.3111]]) tensor([[0., 1., 0.],\n",
            "        [0., 0., 1.],\n",
            "        [1., 0., 0.],\n",
            "        [1., 0., 0.],\n",
            "        [0., 1., 0.],\n",
            "        [0., 1., 0.],\n",
            "        [1., 0., 0.],\n",
            "        [0., 0., 1.],\n",
            "        [1., 0., 0.],\n",
            "        [1., 0., 0.],\n",
            "        [0., 0., 1.],\n",
            "        [1., 0., 0.],\n",
            "        [0., 0., 1.],\n",
            "        [0., 1., 0.],\n",
            "        [1., 0., 0.],\n",
            "        [1., 0., 0.]])\n",
            "tensor([[ 0.6722,  0.3273,  0.8735,  1.4440],\n",
            "        [ 1.2761,  0.0979,  0.9302,  1.1816],\n",
            "        [ 0.5515, -0.3610,  1.0434,  0.7880],\n",
            "        [ 1.0345,  0.0979,  1.0434,  1.5752],\n",
            "        [-0.4146, -1.7375,  0.1371,  0.1321],\n",
            "        [-0.4146, -1.2787,  0.1371,  0.1321],\n",
            "        [ 1.0345, -0.1315,  0.7036,  0.6568],\n",
            "        [-0.5354,  0.7862, -1.1658, -1.3111]]) tensor([[0., 0., 1.],\n",
            "        [0., 0., 1.],\n",
            "        [0., 0., 1.],\n",
            "        [0., 0., 1.],\n",
            "        [0., 1., 0.],\n",
            "        [0., 1., 0.],\n",
            "        [0., 1., 0.],\n",
            "        [1., 0., 0.]])\n"
          ]
        }
      ]
    },
    {
      "cell_type": "markdown",
      "source": [
        "## Exercise 2.3.4 Revisiting Iris data (HW)\n",
        "\n",
        "We use `train_loader` to train the model, and use `test_loader` to calculate the test accuracy. Use the following code to train the model, and calculate the test accuracy. In this case, you need to define your own loss function to calculate cross-entropy function from `q_hat` and `tt`.\n",
        "```\n",
        "z_model = nn.Linear(784, 10, bias=True)\n",
        "```\n",
        "and\n",
        "```\n",
        "for xx, tt in train_loader:\n",
        "  zhat = z_model(xx)\n",
        "  q_hat = torch.softmax()\n",
        "```"
      ],
      "metadata": {
        "id": "a2wB8GZWTAtV"
      },
      "id": "a2wB8GZWTAtV"
    },
    {
      "cell_type": "code",
      "source": [
        "z_model = torch.nn.Linear(4, 3, bias=True)\n",
        "\n",
        "loss_fn = torch.nn.CrossEntropyLoss(reduction='mean')\n",
        "\n",
        "optimizer = torch.optim.SGD(z_model.parameters(), lr=0.01)\n",
        "\n",
        "n = X_train.shape[0]\n",
        "history=[]\n",
        "epochs = 100\n",
        "\n",
        "for epoch in range(epochs):\n",
        "  epoch_loss = 0.0\n",
        "  for xx, tt in train_loader:\n",
        "    zhat = z_model(xx)\n",
        "    #qhat = torch.softmax(zhat, dim=1)\n",
        "    loss = loss_fn(zhat, tt)\n",
        "    loss.backward()\n",
        "    epoch_loss += loss.item()*len(xx)\n",
        "    optimizer.step()\n",
        "    optimizer.zero_grad()\n",
        "  history.append(epoch_loss/n)\n",
        "\n",
        "plt.plot(history)"
      ],
      "metadata": {
        "colab": {
          "base_uri": "https://localhost:8080/",
          "height": 447
        },
        "id": "fsaOyB1iPrLj",
        "outputId": "4e27b28b-f4cb-49ca-ecd0-84ce7eaafb83"
      },
      "id": "fsaOyB1iPrLj",
      "execution_count": 142,
      "outputs": [
        {
          "output_type": "execute_result",
          "data": {
            "text/plain": [
              "[<matplotlib.lines.Line2D at 0x7a23cc0e3970>]"
            ]
          },
          "metadata": {},
          "execution_count": 142
        },
        {
          "output_type": "display_data",
          "data": {
            "text/plain": [
              "<Figure size 640x480 with 1 Axes>"
            ],
            "image/png": "[encoded data removed]"
          },
          "metadata": {}
        }
      ]
    },
    {
      "cell_type": "markdown",
      "source": [
        "### accuracy"
      ],
      "metadata": {
        "id": "-Z2LNFS4Uump"
      },
      "id": "-Z2LNFS4Uump"
    },
    {
      "cell_type": "code",
      "source": [
        "def accuracy_fn(qhat, t):\n",
        "  yhat = torch.argmax(qhat, axis=1).to(torch.float32)\n",
        "  #print(yhat)\n",
        "  y = torch.argmax(t, axis=1).to(torch.float32)\n",
        "  #print(y)\n",
        "  accuracy = torch.sum((y==yhat).to(torch.float32))\n",
        "  #print(accuracy)\n",
        "  return accuracy\n",
        "\n",
        "\n",
        "accuracy_sum = 0\n",
        "\n",
        "for X, T in test_loader:\n",
        "  zhat = z_model(X)\n",
        "  qhat = torch.softmax(zhat, dim=1)\n",
        "  accuracy_sum += accuracy_fn(qhat,T).item()\n",
        "\n",
        "print(accuracy_sum/len(X_val))"
      ],
      "metadata": {
        "colab": {
          "base_uri": "https://localhost:8080/"
        },
        "id": "UJ1t4tW4Ly8R",
        "outputId": "5e697fc9-03af-4901-d472-743a4b7fbabf"
      },
      "id": "UJ1t4tW4Ly8R",
      "execution_count": 144,
      "outputs": [
        {
          "output_type": "stream",
          "name": "stdout",
          "text": [
            "0.9666666666666667\n"
          ]
        }
      ]
    },
    {
      "cell_type": "markdown",
      "source": [
        "### (hide) another way (PI)"
      ],
      "metadata": {
        "id": "4TCZ1YIGUIzC"
      },
      "id": "4TCZ1YIGUIzC"
    },
    {
      "cell_type": "code",
      "source": [
        "def loss_fn(qhat, tt):\n",
        "  loss = -torch.mean(torch.sum(tt * torch.log(qhat), axis = 1))\n",
        "  return loss\n",
        "\n",
        "z_model = torch.nn.Linear(4, 3, bias=True)\n",
        "\n",
        "optimizer = torch.optim.SGD(z_model.parameters(), lr=0.01)\n",
        "\n",
        "n = X_train.shape[0]\n",
        "history = []\n",
        "epochs = 1000\n",
        "\n",
        "for epoch in range(epochs):\n",
        "  epoch_loss = 0.0\n",
        "  for xx, tt in train_loader:\n",
        "    zhat = z_model(xx)\n",
        "    qhat = torch.softmax(zhat, dim=1)\n",
        "    loss = loss_fn(qhat, tt)\n",
        "    loss.backward()\n",
        "    epoch_loss += loss.item()*len(xx)\n",
        "    optimizer.step()\n",
        "    optimizer.zero_grad()\n",
        "  history.append(epoch_loss/n)\n",
        "\n",
        "plt.plot(history)"
      ],
      "metadata": {
        "colab": {
          "base_uri": "https://localhost:8080/",
          "height": 447
        },
        "id": "Cbqe3q0rLCp4",
        "outputId": "41630080-882f-4484-c52f-b5d072bd35fd"
      },
      "id": "Cbqe3q0rLCp4",
      "execution_count": 137,
      "outputs": [
        {
          "output_type": "execute_result",
          "data": {
            "text/plain": [
              "[<matplotlib.lines.Line2D at 0x7a23ccd611b0>]"
            ]
          },
          "metadata": {},
          "execution_count": 137
        },
        {
          "output_type": "display_data",
          "data": {
            "text/plain": [
              "<Figure size 640x480 with 1 Axes>"
            ],
            "image/png": "[encoded data removed]"
          },
          "metadata": {}
        }
      ]
    },
    {
      "cell_type": "markdown",
      "metadata": {
        "id": "6MMnjhQOPR-2"
      },
      "source": [
        "## Exercise 2.3.5: Fashion MNIST data (HW)"
      ],
      "id": "6MMnjhQOPR-2"
    },
    {
      "cell_type": "markdown",
      "metadata": {
        "id": "Q0wBOhSpRP6A"
      },
      "source": [
        "You are given the following fashion MNIST data. Do the multinomial regression so that the regression machine can determine the label from the images. \\\n",
        "Calculate the test accuracy. \\\n",
        "In the test dataset, identify at least 5 cases where your predictions are wrong, \\\n",
        "and explain why possibly they were mis-classified.\n",
        "\n",
        "1. the picture\n",
        "\n",
        "2. predicted label\n",
        "\n",
        "3. real label\n",
        "\n",
        "4. Explain the possible reason why your model is wrong in this case."
      ],
      "id": "Q0wBOhSpRP6A"
    },
    {
      "cell_type": "markdown",
      "source": [
        "Hint: Each training and test example is assigned to one of the following labels:\n",
        "\n",
        "0 T-shirt/top\n",
        "\n",
        "1 Trouser\n",
        "\n",
        "2 Pullover\n",
        "\n",
        "3 Dress\n",
        "\n",
        "4 Coat\n",
        "\n",
        "5 Sandal\n",
        "\n",
        "6 Shirt\n",
        "\n",
        "7 Sneaker\n",
        "\n",
        "8 Bag\n",
        "\n",
        "9 Ankle boot"
      ],
      "metadata": {
        "id": "f0332X2pWmn0"
      },
      "id": "f0332X2pWmn0"
    },
    {
      "cell_type": "code",
      "source": [
        "import torch\n",
        "import torchvision\n",
        "import numpy as np\n",
        "import matplotlib.pyplot as plt\n",
        "import sklearn.datasets\n",
        "import torch.nn as nn\n",
        "from torch.utils.data import Dataset, DataLoader, TensorDataset\n",
        "import pandas as pd\n",
        "from tqdm import tqdm"
      ],
      "metadata": {
        "id": "mFedBYXF63DD"
      },
      "execution_count": 5,
      "outputs": [],
      "id": "mFedBYXF63DD"
    },
    {
      "cell_type": "code",
      "execution_count": 1,
      "metadata": {
        "id": "E-OllAGT6pr-"
      },
      "outputs": [],
      "source": [
        "import torch\n",
        "from torch import nn, optim\n",
        "import torch.nn.functional as F\n",
        "from torch.utils.data import DataLoader\n",
        "from torchvision import datasets, transforms"
      ],
      "id": "E-OllAGT6pr-"
    },
    {
      "cell_type": "code",
      "execution_count": 2,
      "metadata": {
        "id": "Y2dqyxnr6psU",
        "colab": {
          "base_uri": "https://localhost:8080/"
        },
        "outputId": "8a0e4d14-754e-4267-9f38-9679726b2418"
      },
      "outputs": [
        {
          "output_type": "stream",
          "name": "stdout",
          "text": [
            "Downloading http://fashion-mnist.s3-website.eu-central-1.amazonaws.com/train-images-idx3-ubyte.gz\n",
            "Downloading http://fashion-mnist.s3-website.eu-central-1.amazonaws.com/train-images-idx3-ubyte.gz to ./data/FashionMNIST/raw/train-images-idx3-ubyte.gz\n"
          ]
        },
        {
          "output_type": "stream",
          "name": "stderr",
          "text": [
            "100%|██████████| 26421880/26421880 [00:01<00:00, 13264674.80it/s]\n"
          ]
        },
        {
          "output_type": "stream",
          "name": "stdout",
          "text": [
            "Extracting ./data/FashionMNIST/raw/train-images-idx3-ubyte.gz to ./data/FashionMNIST/raw\n",
            "\n",
            "Downloading http://fashion-mnist.s3-website.eu-central-1.amazonaws.com/train-labels-idx1-ubyte.gz\n",
            "Downloading http://fashion-mnist.s3-website.eu-central-1.amazonaws.com/train-labels-idx1-ubyte.gz to ./data/FashionMNIST/raw/train-labels-idx1-ubyte.gz\n"
          ]
        },
        {
          "output_type": "stream",
          "name": "stderr",
          "text": [
            "100%|██████████| 29515/29515 [00:00<00:00, 212629.26it/s]\n"
          ]
        },
        {
          "output_type": "stream",
          "name": "stdout",
          "text": [
            "Extracting ./data/FashionMNIST/raw/train-labels-idx1-ubyte.gz to ./data/FashionMNIST/raw\n",
            "\n",
            "Downloading http://fashion-mnist.s3-website.eu-central-1.amazonaws.com/t10k-images-idx3-ubyte.gz\n",
            "Downloading http://fashion-mnist.s3-website.eu-central-1.amazonaws.com/t10k-images-idx3-ubyte.gz to ./data/FashionMNIST/raw/t10k-images-idx3-ubyte.gz\n"
          ]
        },
        {
          "output_type": "stream",
          "name": "stderr",
          "text": [
            "100%|██████████| 4422102/4422102 [00:01<00:00, 3894899.53it/s]\n"
          ]
        },
        {
          "output_type": "stream",
          "name": "stdout",
          "text": [
            "Extracting ./data/FashionMNIST/raw/t10k-images-idx3-ubyte.gz to ./data/FashionMNIST/raw\n",
            "\n",
            "Downloading http://fashion-mnist.s3-website.eu-central-1.amazonaws.com/t10k-labels-idx1-ubyte.gz\n",
            "Downloading http://fashion-mnist.s3-website.eu-central-1.amazonaws.com/t10k-labels-idx1-ubyte.gz to ./data/FashionMNIST/raw/t10k-labels-idx1-ubyte.gz\n"
          ]
        },
        {
          "output_type": "stream",
          "name": "stderr",
          "text": [
            "100%|██████████| 5148/5148 [00:00<00:00, 23093344.38it/s]"
          ]
        },
        {
          "output_type": "stream",
          "name": "stdout",
          "text": [
            "Extracting ./data/FashionMNIST/raw/t10k-labels-idx1-ubyte.gz to ./data/FashionMNIST/raw\n",
            "\n"
          ]
        },
        {
          "output_type": "stream",
          "name": "stderr",
          "text": [
            "\n"
          ]
        }
      ],
      "source": [
        "# transform to normalize the data\n",
        "transform = transforms.Compose([transforms.ToTensor(),\n",
        "                                transforms.Normalize((0.5,), (0.5,))])\n",
        "\n",
        "# Download and load the training data\n",
        "trainset = datasets.FashionMNIST('./data', download=True, train=True, transform=transform)\n",
        "train_loader = DataLoader(trainset, batch_size=64, shuffle=True)\n",
        "\n",
        "# Download and load the test data\n",
        "validationset = datasets.FashionMNIST('./data', download=True, train=False, transform=transform)\n",
        "test_loader = DataLoader(validationset, batch_size=64, shuffle=True)"
      ],
      "id": "Y2dqyxnr6psU"
    },
    {
      "cell_type": "code",
      "source": [
        "xx, yy = trainset[0]"
      ],
      "metadata": {
        "id": "fH_-sM1iXlj4"
      },
      "execution_count": 3,
      "outputs": [],
      "id": "fH_-sM1iXlj4"
    },
    {
      "cell_type": "code",
      "source": [
        "plt.imshow(xx.reshape(28,28))\n",
        "my_name = { 0: \"T-shirt/top\", 1: \"Trouser\",\n",
        "              2: \"Pullover\", 3: \"Dress\", 4: \"Coat\", 5: \"Sandal\", 6: \"Shirt\", 7: \"Sneaker\", 8: \"Bag\", 9: \"Ankle boot\"}\n",
        "print(my_name[yy])\n",
        "\n"
      ],
      "metadata": {
        "colab": {
          "base_uri": "https://localhost:8080/",
          "height": 447
        },
        "id": "PEu4G4HsXug4",
        "outputId": "c5e7ec61-200d-4ae9-8bf7-c83b34a06ac9"
      },
      "execution_count": 6,
      "outputs": [
        {
          "output_type": "stream",
          "name": "stdout",
          "text": [
            "Ankle boot\n"
          ]
        },
        {
          "output_type": "display_data",
          "data": {
            "text/plain": [
              "<Figure size 640x480 with 1 Axes>"
            ],
            "image/png": "[encoded data removed]"
          },
          "metadata": {}
        }
      ],
      "id": "PEu4G4HsXug4"
    },
    {
      "cell_type": "markdown",
      "source": [
        "### (hide) epoch 100으로 했더니 모두 알맞게 예측되어버린 경우"
      ],
      "metadata": {
        "id": "y7V1Oeq0UYSg"
      },
      "id": "y7V1Oeq0UYSg"
    },
    {
      "cell_type": "code",
      "source": [
        "loss_fn = torch.nn.CrossEntropyLoss(reduction='mean')\n",
        "\n",
        "z_model = torch.nn.Linear(784, 10, bias=True)\n",
        "\n",
        "optimizer = torch.optim.SGD(z_model.parameters(), lr = 0.01)\n",
        "\n",
        "# The Fashion-MNIST dataset contains 60,000 training images\n",
        "# (and 10,000 test images)\n",
        "n = 60000\n",
        "epochs = 100\n",
        "history = []\n",
        "\n",
        "for epoch in tqdm(range(epochs)):\n",
        "  epoch_loss = 0.0\n",
        "  for xx, tt in train_loader:\n",
        "    # reshape 필요\n",
        "    zhat = z_model(xx.reshape([-1, 784]))\n",
        "    #qhat = torch.softmax(zhat, dim=1)\n",
        "    #t_ = torch.nn.functional.one_hot(torch.tensor(tt, dtype = torch.int64), num_classes=10)\n",
        "    loss = loss_fn(zhat, tt)\n",
        "    epoch_loss += loss.item()*len(xx)\n",
        "\n",
        "    optimizer.zero_grad()\n",
        "    loss.backward()\n",
        "    optimizer.step()\n",
        "  history.append(epoch_loss/n)\n",
        "\n",
        "plt.plot(history)"
      ],
      "metadata": {
        "id": "8jQbwvk1Nues"
      },
      "id": "8jQbwvk1Nues",
      "execution_count": null,
      "outputs": []
    },
    {
      "cell_type": "code",
      "source": [
        "accuracy_sum = 0\n",
        "\n",
        "for X, Y in test_loader:\n",
        "  zhat = z_model(X.reshape([-1,784]))\n",
        "  qhat = torch.softmax(zhat, dim=1)\n",
        "  # 확률기반 클래스 분류\n",
        "  Yhat = torch.argmax(qhat, axis = 1).to(torch.float32)\n",
        "  Y = Y.to(torch.float32)\n",
        "  # test 데이터의 실제 클래스 값과 비교, 정확한 값=1로 해서 sum\n",
        "  accuracy_sum += torch.sum((Y==Yhat)).to(torch.float32)\n",
        "\n",
        "accuracy = accuracy_sum/len(validationset)\n",
        "accuracy"
      ],
      "metadata": {
        "id": "F2pEvdrST6rO"
      },
      "id": "F2pEvdrST6rO",
      "execution_count": null,
      "outputs": []
    },
    {
      "cell_type": "markdown",
      "source": [
        "잘못 예측한 경우 출력"
      ],
      "metadata": {
        "id": "2Zq63y2hWn6z"
      },
      "id": "2Zq63y2hWn6z"
    },
    {
      "cell_type": "code",
      "source": [
        "print(Y==Yhat, Y[Y!=Yhat])"
      ],
      "metadata": {
        "colab": {
          "base_uri": "https://localhost:8080/"
        },
        "id": "AptpJ8nFWnPR",
        "outputId": "171d0ca6-60aa-4ff6-fd4a-52e346ac7b0d"
      },
      "id": "AptpJ8nFWnPR",
      "execution_count": 11,
      "outputs": [
        {
          "output_type": "stream",
          "name": "stdout",
          "text": [
            "tensor([True, True, True, True, True, True, True, True, True, True, True, True,\n",
            "        True, True, True, True]) tensor([])\n"
          ]
        }
      ]
    },
    {
      "cell_type": "markdown",
      "source": [
        "\n",
        "### epoch를 줄여서 좀 덜 학습시켜 보겠습니다."
      ],
      "metadata": {
        "id": "qoLZUgjzaVWs"
      },
      "id": "qoLZUgjzaVWs"
    },
    {
      "cell_type": "code",
      "source": [
        "loss_fn = torch.nn.CrossEntropyLoss(reduction='mean')\n",
        "\n",
        "z_model = torch.nn.Linear(784, 10, bias=True)\n",
        "\n",
        "optimizer = torch.optim.SGD(z_model.parameters(), lr = 0.01)\n",
        "\n",
        "# The Fashion-MNIST dataset contains 60,000 training images\n",
        "# (and 10,000 test images)\n",
        "n = 60000\n",
        "epochs = 20\n",
        "history = []\n",
        "\n",
        "for epoch in tqdm(range(epochs)):\n",
        "  epoch_loss = 0.0\n",
        "  for xx, tt in train_loader:\n",
        "    # reshape 필요\n",
        "    zhat = z_model(xx.reshape([-1, 784]))\n",
        "    #qhat = torch.softmax(zhat, dim=1)\n",
        "    #t_ = torch.nn.functional.one_hot(torch.tensor(tt, dtype = torch.int64), num_classes=10)\n",
        "    loss = loss_fn(zhat, tt)\n",
        "    epoch_loss += loss.item()*len(xx)\n",
        "\n",
        "    optimizer.zero_grad()\n",
        "    loss.backward()\n",
        "    optimizer.step()\n",
        "  history.append(epoch_loss/n)\n",
        "\n",
        "plt.plot(history)"
      ],
      "metadata": {
        "colab": {
          "base_uri": "https://localhost:8080/",
          "height": 464
        },
        "outputId": "fa19bb3e-c53c-41e2-f62a-4fb3b85cc192",
        "id": "bBz3M0RRbSDH"
      },
      "execution_count": 7,
      "outputs": [
        {
          "output_type": "stream",
          "name": "stderr",
          "text": [
            "100%|██████████| 20/20 [04:11<00:00, 12.59s/it]\n"
          ]
        },
        {
          "output_type": "execute_result",
          "data": {
            "text/plain": [
              "[<matplotlib.lines.Line2D at 0x7a23d4dd2ce0>]"
            ]
          },
          "metadata": {},
          "execution_count": 7
        },
        {
          "output_type": "display_data",
          "data": {
            "text/plain": [
              "<Figure size 640x480 with 1 Axes>"
            ],
            "image/png": "[encoded data removed]"
          },
          "metadata": {}
        }
      ],
      "id": "bBz3M0RRbSDH"
    },
    {
      "cell_type": "markdown",
      "source": [
        "### accuracy"
      ],
      "metadata": {
        "id": "U8Sn29CgUkzQ"
      },
      "id": "U8Sn29CgUkzQ"
    },
    {
      "cell_type": "code",
      "source": [
        "accuracy_sum = 0\n",
        "\n",
        "for X, Y in test_loader:\n",
        "  zhat = z_model(X.reshape([-1,784]))\n",
        "  qhat = torch.softmax(zhat, dim=1)\n",
        "  # 확률기반 클래스 분류\n",
        "  Yhat = torch.argmax(qhat, axis = 1).to(torch.float32)\n",
        "  Y = Y.to(torch.float32)\n",
        "  # test 데이터의 실제 클래스 값과 비교, 정확한 값=1로 해서 sum\n",
        "  accuracy_sum += torch.sum((Y==Yhat)).to(torch.float32)\n",
        "\n",
        "accuracy = accuracy_sum/len(validationset)\n",
        "accuracy"
      ],
      "metadata": {
        "colab": {
          "base_uri": "https://localhost:8080/"
        },
        "outputId": "0229f02d-191d-4169-c059-1668e95c155a",
        "id": "SQ7VGRXEbsND"
      },
      "execution_count": 8,
      "outputs": [
        {
          "output_type": "execute_result",
          "data": {
            "text/plain": [
              "tensor(0.8417)"
            ]
          },
          "metadata": {},
          "execution_count": 8
        }
      ],
      "id": "SQ7VGRXEbsND"
    },
    {
      "cell_type": "markdown",
      "source": [
        "### 잘못 예측한 경우들 살펴보기"
      ],
      "metadata": {
        "id": "qwxW3GL9Umfi"
      },
      "id": "qwxW3GL9Umfi"
    },
    {
      "cell_type": "code",
      "source": [
        "incorrect_examples = []\n",
        "incorrect_labels = []\n",
        "incorrect_pred = []\n",
        "#z_model.eval()\n",
        "\n",
        "for X,Y in test_loader:\n",
        "  zhat = z_model(X.reshape([-1,784]))\n",
        "  qhat = torch.softmax(zhat, dim=1)\n",
        "  # 확률기반 클래스 분류\n",
        "  #Yhat = torch.argmax(qhat, axis = 1).to(torch.float32) # shape = torch.Size([batch_size, 10])\n",
        "  Yhat = torch.argmax(qhat, dim=1, keepdim=True)\n",
        "  #pred = output.argmax(dim=1, keepdim=True) #pred will be a 2d tensor of shape [batch_size,1]\n",
        "  idxs_mask = ((Yhat == Y.view_as(Yhat))==False).view(-1)\n",
        "  if idxs_mask.numel(): #if index masks is non-empty append the correspoding data value in incorrect examples\n",
        "    incorrect_examples.append(X[idxs_mask].squeeze().cpu().numpy())\n",
        "    incorrect_labels.append(Y[idxs_mask].cpu().numpy()) #the corresponding target to the misclassified image\n",
        "    incorrect_pred.append(Yhat[idxs_mask].squeeze().cpu().numpy()) #the corresponiding predicted class of the misclassified image"
      ],
      "metadata": {
        "id": "QzNtYhPSOCtL"
      },
      "id": "QzNtYhPSOCtL",
      "execution_count": 103,
      "outputs": []
    },
    {
      "cell_type": "markdown",
      "source": [
        "[참고자료](https://discuss.pytorch.org/t/viewing-misclassified-image-predictions/82410/7)"
      ],
      "metadata": {
        "id": "RdDwm6WoRqnn"
      },
      "id": "RdDwm6WoRqnn"
    },
    {
      "cell_type": "markdown",
      "source": [
        "1. Dress인데 Coat 처럼 길게 생겨서 잘못 예측된 듯 하다"
      ],
      "metadata": {
        "id": "FBSOlv98RxRq"
      },
      "id": "FBSOlv98RxRq"
    },
    {
      "cell_type": "code",
      "source": [
        "label = incorrect_labels[0][0]\n",
        "print(\"The answer is:\", my_name[label])\n",
        "pred = incorrect_pred[0][0]\n",
        "print(\"it was incorrectly predicted as:\", my_name[pred])\n",
        "plt.imshow(incorrect_examples[0][0].reshape(28,28))"
      ],
      "metadata": {
        "colab": {
          "base_uri": "https://localhost:8080/",
          "height": 481
        },
        "id": "70pMiAAiPTPH",
        "outputId": "4ec4b785-085f-47d6-f9a4-f3632f16673f"
      },
      "id": "70pMiAAiPTPH",
      "execution_count": 127,
      "outputs": [
        {
          "output_type": "stream",
          "name": "stdout",
          "text": [
            "The answer is: Dress\n",
            "it was incorrectly predicted as: Coat\n"
          ]
        },
        {
          "output_type": "execute_result",
          "data": {
            "text/plain": [
              "<matplotlib.image.AxesImage at 0x7a23c65f5bd0>"
            ]
          },
          "metadata": {},
          "execution_count": 127
        },
        {
          "output_type": "display_data",
          "data": {
            "text/plain": [
              "<Figure size 640x480 with 1 Axes>"
            ],
            "image/png": "[encoded data removed]"
          },
          "metadata": {}
        }
      ]
    },
    {
      "cell_type": "markdown",
      "source": [
        "2. Pullover인데 Coat처럼 생기기도 하였다."
      ],
      "metadata": {
        "id": "NK4KeXChR4Qx"
      },
      "id": "NK4KeXChR4Qx"
    },
    {
      "cell_type": "code",
      "source": [
        "label = incorrect_labels[0][1]\n",
        "print(\"The answer is:\", my_name[label])\n",
        "pred = incorrect_pred[0][1]\n",
        "print(\"it was incorrectly predicted as:\", my_name[pred])\n",
        "plt.imshow(incorrect_examples[0][1].reshape(28,28))"
      ],
      "metadata": {
        "colab": {
          "base_uri": "https://localhost:8080/",
          "height": 481
        },
        "id": "dm8gu7aDQz4l",
        "outputId": "4aea3fe7-2018-4ec8-d5c0-dc177eabb8d6"
      },
      "id": "dm8gu7aDQz4l",
      "execution_count": 128,
      "outputs": [
        {
          "output_type": "stream",
          "name": "stdout",
          "text": [
            "The answer is: Pullover\n",
            "it was incorrectly predicted as: Coat\n"
          ]
        },
        {
          "output_type": "execute_result",
          "data": {
            "text/plain": [
              "<matplotlib.image.AxesImage at 0x7a23c644a740>"
            ]
          },
          "metadata": {},
          "execution_count": 128
        },
        {
          "output_type": "display_data",
          "data": {
            "text/plain": [
              "<Figure size 640x480 with 1 Axes>"
            ],
            "image/png": "[encoded data removed]"
          },
          "metadata": {}
        }
      ]
    },
    {
      "cell_type": "markdown",
      "source": [
        "3. 반대로 coat 인데 pullover 으로 보이기도 한다"
      ],
      "metadata": {
        "id": "LzUiyMn0R97R"
      },
      "id": "LzUiyMn0R97R"
    },
    {
      "cell_type": "code",
      "source": [
        "label = incorrect_labels[1][0]\n",
        "print(\"The answer is:\", my_name[label])\n",
        "pred = incorrect_pred[1][0]\n",
        "print(\"it was incorrectly predicted as:\", my_name[pred])\n",
        "plt.imshow(incorrect_examples[1][0].reshape(28,28))"
      ],
      "metadata": {
        "colab": {
          "base_uri": "https://localhost:8080/",
          "height": 481
        },
        "id": "_rMNLKvCRELa",
        "outputId": "006a2e5f-d3a2-4589-cf79-55bea552dfb0"
      },
      "id": "_rMNLKvCRELa",
      "execution_count": 129,
      "outputs": [
        {
          "output_type": "stream",
          "name": "stdout",
          "text": [
            "The answer is: Coat\n",
            "it was incorrectly predicted as: Pullover\n"
          ]
        },
        {
          "output_type": "execute_result",
          "data": {
            "text/plain": [
              "<matplotlib.image.AxesImage at 0x7a23c64d37f0>"
            ]
          },
          "metadata": {},
          "execution_count": 129
        },
        {
          "output_type": "display_data",
          "data": {
            "text/plain": [
              "<Figure size 640x480 with 1 Axes>"
            ],
            "image/png": "[encoded data removed]"
          },
          "metadata": {}
        }
      ]
    },
    {
      "cell_type": "markdown",
      "source": [
        "4. 사람으로써 보기에는 양 옆에 끈처럼 생긴 게 있어 가방인데 컴퓨터가 보기에는 네모난 형태가 티셔츠 같기도 하다"
      ],
      "metadata": {
        "id": "LlPK0DlBSEov"
      },
      "id": "LlPK0DlBSEov"
    },
    {
      "cell_type": "code",
      "source": [
        "label = incorrect_labels[0][3]\n",
        "print(\"The answer is:\", my_name[label])\n",
        "pred = incorrect_pred[0][3]\n",
        "print(\"it was incorrectly predicted as:\", my_name[pred])\n",
        "plt.imshow(incorrect_examples[0][3].reshape(28,28))"
      ],
      "metadata": {
        "colab": {
          "base_uri": "https://localhost:8080/",
          "height": 481
        },
        "id": "n3QaW_b-RIDR",
        "outputId": "730b67fa-a9bd-4c7c-ecb0-3fbf2f3381e2"
      },
      "id": "n3QaW_b-RIDR",
      "execution_count": 130,
      "outputs": [
        {
          "output_type": "stream",
          "name": "stdout",
          "text": [
            "The answer is: Bag\n",
            "it was incorrectly predicted as: Shirt\n"
          ]
        },
        {
          "output_type": "execute_result",
          "data": {
            "text/plain": [
              "<matplotlib.image.AxesImage at 0x7a23ccce01f0>"
            ]
          },
          "metadata": {},
          "execution_count": 130
        },
        {
          "output_type": "display_data",
          "data": {
            "text/plain": [
              "<Figure size 640x480 with 1 Axes>"
            ],
            "image/png": "[encoded data removed]"
          },
          "metadata": {}
        }
      ]
    },
    {
      "cell_type": "markdown",
      "source": [
        "5. 사람으로써 볼 때는 옆에 천/고무줄 재질로 트여있는 것으로 보아 Ankle boots 인데 컴퓨터가 볼 때는 신발인 건 알겠으나 스니커즈와 구별을 못 한 듯 하다."
      ],
      "metadata": {
        "id": "rRnM4x1-SV2C"
      },
      "id": "rRnM4x1-SV2C"
    },
    {
      "cell_type": "code",
      "source": [
        "label = incorrect_labels[3][1]\n",
        "print(\"The answer is:\", my_name[label])\n",
        "pred = incorrect_pred[3][1]\n",
        "print(\"it was incorrectly predicted as:\", my_name[pred])\n",
        "plt.imshow(incorrect_examples[3][1].reshape(28,28))"
      ],
      "metadata": {
        "colab": {
          "base_uri": "https://localhost:8080/",
          "height": 481
        },
        "id": "vw3GwSZ0RMkY",
        "outputId": "a0d3d160-a244-4daa-bcb1-35b331d63864"
      },
      "id": "vw3GwSZ0RMkY",
      "execution_count": 131,
      "outputs": [
        {
          "output_type": "stream",
          "name": "stdout",
          "text": [
            "The answer is: Ankle boot\n",
            "it was incorrectly predicted as: Sneaker\n"
          ]
        },
        {
          "output_type": "execute_result",
          "data": {
            "text/plain": [
              "<matplotlib.image.AxesImage at 0x7a23cc659f30>"
            ]
          },
          "metadata": {},
          "execution_count": 131
        },
        {
          "output_type": "display_data",
          "data": {
            "text/plain": [
              "<Figure size 640x480 with 1 Axes>"
            ],
            "image/png": "[encoded data removed]"
          },
          "metadata": {}
        }
      ]
    }
  ]
}