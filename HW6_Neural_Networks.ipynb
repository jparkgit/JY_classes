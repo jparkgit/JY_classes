{
  "nbformat": 4,
  "nbformat_minor": 0,
  "metadata": {
    "colab": {
      "provenance": [],
      "toc_visible": true
    },
    "kernelspec": {
      "name": "python3",
      "display_name": "Python 3"
    },
    "language_info": {
      "name": "python"
    }
  },
  "cells": [
    {
      "cell_type": "markdown",
      "source": [
        "# HW6 Neural Networks\n",
        "# 박지현, 1903055, 생명과학과"
      ],
      "metadata": {
        "id": "vVFdaDvRQMY3"
      }
    },
    {
      "cell_type": "markdown",
      "source": [
        "# HW Problem 1: Iris data"
      ],
      "metadata": {
        "id": "GUxpo0IdNzmp"
      }
    },
    {
      "cell_type": "markdown",
      "source": [
        "We will be using the famous Iris dataset, which contains measurements of the sepal length, sepal width, petal length, and petal width for three species of iris flowers (Iris setosa, Iris versicolor, and Iris virginica). The goal is to predict the species of an iris flower based on these measurements."
      ],
      "metadata": {
        "id": "_dPfo6OoSXGe"
      }
    },
    {
      "cell_type": "code",
      "source": [
        "import torch\n",
        "import numpy as np\n",
        "\n",
        "import matplotlib.pyplot as plt\n",
        "from torch.utils.data import TensorDataset, DataLoader"
      ],
      "metadata": {
        "id": "ATpDHd0Sfg5w"
      },
      "execution_count": null,
      "outputs": []
    },
    {
      "cell_type": "code",
      "source": [
        "from sklearn.datasets import load_iris\n",
        "from sklearn.model_selection import train_test_split\n",
        "\n",
        "# Load the Iris dataset\n",
        "iris = load_iris()\n",
        "\n",
        "# Convert the data to PyTorch tensors\n",
        "X = torch.tensor(iris.data, dtype=torch.float32)\n",
        "y = torch.tensor(iris.target, dtype=torch.long)\n",
        "\n",
        "t = torch.nn.functional.one_hot(torch.tensor(y, dtype=torch.int64), num_classes=3)\n",
        "t = torch.tensor(t, dtype=torch.float32)\n",
        "\n",
        "\n",
        "# Normalize the input data\n",
        "mean = torch.mean(X, dim=0)\n",
        "std = torch.std(X, dim=0)\n",
        "X = (X - mean) / std\n",
        "\n",
        "# Split the dataset into training and validation sets\n",
        "X_train, X_val, t_train, t_val = train_test_split(X, t, test_size=0.2, random_state=42)\n",
        "\n",
        "# Create PyTorch Datasets\n",
        "train_dataset = TensorDataset(X_train, t_train)\n",
        "val_dataset = TensorDataset(X_val, t_val)\n",
        "\n",
        "# Define the data loaders\n",
        "batch_size = 32\n",
        "train_loader = DataLoader(train_dataset, batch_size=batch_size, shuffle=True)\n",
        "test_loader = DataLoader(val_dataset, batch_size=batch_size, shuffle=False)\n"
      ],
      "metadata": {
        "colab": {
          "base_uri": "https://localhost:8080/"
        },
        "id": "Kyo_KXiCSHBM",
        "outputId": "3d5f11a3-f420-4235-8655-31eb8c12f317"
      },
      "execution_count": null,
      "outputs": [
        {
          "output_type": "stream",
          "name": "stderr",
          "text": [
            "<ipython-input-55-d11aa3dd3743>:11: UserWarning: To copy construct from a tensor, it is recommended to use sourceTensor.clone().detach() or sourceTensor.clone().detach().requires_grad_(True), rather than torch.tensor(sourceTensor).\n",
            "  t = torch.nn.functional.one_hot(torch.tensor(y, dtype=torch.int64), num_classes=3)\n",
            "<ipython-input-55-d11aa3dd3743>:12: UserWarning: To copy construct from a tensor, it is recommended to use sourceTensor.clone().detach() or sourceTensor.clone().detach().requires_grad_(True), rather than torch.tensor(sourceTensor).\n",
            "  t = torch.tensor(t, dtype=torch.float32)\n"
          ]
        }
      ]
    },
    {
      "cell_type": "markdown",
      "source": [
        "Use `neural networks` and `multinomial logistic regression model` to classiy the iris, and calculate the test error. Try to provide the best `neural networks` with the smallest test error rate."
      ],
      "metadata": {
        "id": "NNktCPQ3Sf-w"
      }
    },
    {
      "cell_type": "code",
      "source": [
        "X.shape"
      ],
      "metadata": {
        "colab": {
          "base_uri": "https://localhost:8080/"
        },
        "id": "4GWiXEyZM_qg",
        "outputId": "400d11f6-022b-4878-809b-45db974f02a3"
      },
      "execution_count": null,
      "outputs": [
        {
          "output_type": "execute_result",
          "data": {
            "text/plain": [
              "torch.Size([150, 4])"
            ]
          },
          "metadata": {},
          "execution_count": 20
        }
      ]
    },
    {
      "cell_type": "markdown",
      "source": [
        "## Neural Networks"
      ],
      "metadata": {
        "id": "75ygKZiG0pnn"
      }
    },
    {
      "cell_type": "code",
      "source": [
        "NN = torch.nn.Sequential(\n",
        "    torch.nn.Linear(4, 2, bias=True),\n",
        "    torch.nn.ReLU(),#A[1]\n",
        "    torch.nn.Linear(2, 3, bias=True)\n",
        ")"
      ],
      "metadata": {
        "id": "pbLZeYSa-V1t"
      },
      "execution_count": null,
      "outputs": []
    },
    {
      "cell_type": "code",
      "source": [
        "# loss_ftn = torch.nn.CrossEntropyLoss()\n",
        "def loss_fn(qhat, t):\n",
        "  temp = -torch.mean(torch.sum(t * torch.log(qhat), axis = 1))\n",
        "  return temp\n",
        "\n",
        "history=[]"
      ],
      "metadata": {
        "id": "nx1dJpgdPUg9"
      },
      "execution_count": null,
      "outputs": []
    },
    {
      "cell_type": "code",
      "source": [
        "optimizer = torch.optim.SGD(NN.parameters(), lr = 0.05)\n",
        "epochs = 100\n",
        "n = len(train_loader.dataset)\n",
        "history = []\n",
        "\n",
        "for epoch in range(epochs):\n",
        "  epoch_loss = 0.0\n",
        "  for xx, tt in train_loader:\n",
        "    zhat = NN(xx)\n",
        "    qhat = torch.softmax(zhat, dim=1)\n",
        "    loss = loss_fn(qhat, tt)\n",
        "    loss.backward()\n",
        "    epoch_loss += loss.item()*len(xx)\n",
        "    optimizer.step()\n",
        "    optimizer.zero_grad()\n",
        "  history.append(epoch_loss/n)\n",
        "  print(\"epoch = \", epoch, \"current loss=\", epoch_loss/n)\n",
        "\n",
        "plt.plot(history)"
      ],
      "metadata": {
        "colab": {
          "base_uri": "https://localhost:8080/",
          "height": 1000
        },
        "outputId": "bc124f58-6a6b-4bd5-c159-31a3f3238bdf",
        "id": "6dTyC7P4-rwJ"
      },
      "execution_count": null,
      "outputs": [
        {
          "output_type": "stream",
          "name": "stdout",
          "text": [
            "epoch =  0 current loss= 4.0871462027231855\n",
            "epoch =  1 current loss= 1.6894339124361675\n",
            "epoch =  2 current loss= 1.0931256969769796\n",
            "epoch =  3 current loss= 0.9859338482220967\n",
            "epoch =  4 current loss= 0.932838249206543\n",
            "epoch =  5 current loss= 0.8953657428423564\n",
            "epoch =  6 current loss= 0.8632851640383402\n",
            "epoch =  7 current loss= 0.8374743203322093\n",
            "epoch =  8 current loss= 0.8114773313204448\n",
            "epoch =  9 current loss= 0.7911200980345409\n",
            "epoch =  10 current loss= 0.7737219492594402\n",
            "epoch =  11 current loss= 0.7440111498037975\n",
            "epoch =  12 current loss= 0.7229750017325084\n",
            "epoch =  13 current loss= 0.7027668913205465\n",
            "epoch =  14 current loss= 0.6858136336008708\n",
            "epoch =  15 current loss= 0.6660480896631876\n",
            "epoch =  16 current loss= 0.6471265812714895\n",
            "epoch =  17 current loss= 0.6292443792025249\n",
            "epoch =  18 current loss= 0.6186615467071533\n",
            "epoch =  19 current loss= 0.5901884357134501\n",
            "epoch =  20 current loss= 0.5684683442115783\n",
            "epoch =  21 current loss= 0.5539580941200256\n",
            "epoch =  22 current loss= 0.5342343091964722\n",
            "epoch =  23 current loss= 0.5163286427656809\n",
            "epoch =  24 current loss= 0.5004294673601787\n",
            "epoch =  25 current loss= 0.49130996664365134\n",
            "epoch =  26 current loss= 0.46898041168848675\n",
            "epoch =  27 current loss= 0.45468584100405374\n",
            "epoch =  28 current loss= 0.4401686429977417\n",
            "epoch =  29 current loss= 0.4289529979228973\n",
            "epoch =  30 current loss= 0.41469582517941794\n",
            "epoch =  31 current loss= 0.4056209544340769\n",
            "epoch =  32 current loss= 0.39174354473749795\n",
            "epoch =  33 current loss= 0.3744539976119995\n",
            "epoch =  34 current loss= 0.3622919301191966\n",
            "epoch =  35 current loss= 0.3439856588840485\n",
            "epoch =  36 current loss= 0.3313591957092285\n",
            "epoch =  37 current loss= 0.32152774930000305\n",
            "epoch =  38 current loss= 0.3106644133726756\n",
            "epoch =  39 current loss= 0.3014849325021108\n",
            "epoch =  40 current loss= 0.29438125491142275\n",
            "epoch =  41 current loss= 0.292688375711441\n",
            "epoch =  42 current loss= 0.28371915022532146\n",
            "epoch =  43 current loss= 0.2805688738822937\n",
            "epoch =  44 current loss= 0.2815705597400665\n",
            "epoch =  45 current loss= 0.2712608098983765\n",
            "epoch =  46 current loss= 0.268593027194341\n",
            "epoch =  47 current loss= 0.2621156434218089\n",
            "epoch =  48 current loss= 0.2600008507569631\n",
            "epoch =  49 current loss= 0.25580681959788004\n",
            "epoch =  50 current loss= 0.2557555894056956\n",
            "epoch =  51 current loss= 0.25445091128349306\n",
            "epoch =  52 current loss= 0.24666452904542288\n",
            "epoch =  53 current loss= 0.24683646162350972\n",
            "epoch =  54 current loss= 0.24455762108167012\n",
            "epoch =  55 current loss= 0.2451093057791392\n",
            "epoch =  56 current loss= 0.24024702707926432\n",
            "epoch =  57 current loss= 0.23679084678490955\n",
            "epoch =  58 current loss= 0.23660694658756257\n",
            "epoch =  59 current loss= 0.23652807076772053\n",
            "epoch =  60 current loss= 0.2337164521217346\n",
            "epoch =  61 current loss= 0.23323661088943481\n",
            "epoch =  62 current loss= 0.2348237782716751\n",
            "epoch =  63 current loss= 0.23179512719313303\n",
            "epoch =  64 current loss= 0.22932243446509043\n",
            "epoch =  65 current loss= 0.2284276932477951\n",
            "epoch =  66 current loss= 0.2257288525501887\n",
            "epoch =  67 current loss= 0.22870054046312968\n",
            "epoch =  68 current loss= 0.22498709857463836\n",
            "epoch =  69 current loss= 0.22496137619018555\n",
            "epoch =  70 current loss= 0.22109303275744122\n",
            "epoch =  71 current loss= 0.22109744995832442\n",
            "epoch =  72 current loss= 0.22088471551736197\n",
            "epoch =  73 current loss= 0.21841629246870678\n",
            "epoch =  74 current loss= 0.21853884955247244\n",
            "epoch =  75 current loss= 0.21758218705654145\n",
            "epoch =  76 current loss= 0.2168256789445877\n",
            "epoch =  77 current loss= 0.2180640031894048\n",
            "epoch =  78 current loss= 0.2140304873387019\n",
            "epoch =  79 current loss= 0.21709564924240113\n",
            "epoch =  80 current loss= 0.21162455280621847\n",
            "epoch =  81 current loss= 0.21466545561949413\n",
            "epoch =  82 current loss= 0.21625771522521972\n",
            "epoch =  83 current loss= 0.21827263236045838\n",
            "epoch =  84 current loss= 0.20973119139671326\n",
            "epoch =  85 current loss= 0.21092877835035323\n",
            "epoch =  86 current loss= 0.21069483955701193\n",
            "epoch =  87 current loss= 0.20942217310269673\n",
            "epoch =  88 current loss= 0.2077451119820277\n",
            "epoch =  89 current loss= 0.2066663235425949\n",
            "epoch =  90 current loss= 0.20541451076666514\n",
            "epoch =  91 current loss= 0.20748625099658966\n",
            "epoch =  92 current loss= 0.2047305832306544\n",
            "epoch =  93 current loss= 0.20321204165617626\n",
            "epoch =  94 current loss= 0.20350394248962403\n",
            "epoch =  95 current loss= 0.20450746019681296\n",
            "epoch =  96 current loss= 0.20146761536598207\n",
            "epoch =  97 current loss= 0.20778286357720693\n",
            "epoch =  98 current loss= 0.20810149212678272\n",
            "epoch =  99 current loss= 0.19952791929244995\n"
          ]
        },
        {
          "output_type": "execute_result",
          "data": {
            "text/plain": [
              "[<matplotlib.lines.Line2D at 0x7804ab792980>]"
            ]
          },
          "metadata": {},
          "execution_count": 64
        },
        {
          "output_type": "display_data",
          "data": {
            "text/plain": [
              "<Figure size 640x480 with 1 Axes>"
            ],
            "image/png": "[encoded data removed]"
          },
          "metadata": {}
        }
      ]
    },
    {
      "cell_type": "code",
      "source": [
        "# z score\n",
        "zhat = NN(X)\n",
        "# q score\n",
        "Q = torch.softmax(zhat, dim=1)\n",
        "# q score 에서 axis 1방향에서 누가 큰지 index return\n",
        "y_hat = torch.argmax(Q, axis=1).to(torch.float32) #y_hat: [n_test,]\n",
        "#y = torch.argmax(t, axis=1).to(torch.float32)\n",
        "#torch.mean((y_hat == y.reshape([-1])).to(torch.float32))\n",
        "torch.mean((y_hat == y).to(torch.float32))"
      ],
      "metadata": {
        "id": "lrRMSl2cdYnU",
        "colab": {
          "base_uri": "https://localhost:8080/"
        },
        "outputId": "d04a1453-556c-477e-8975-52cfab5d0dd1"
      },
      "execution_count": null,
      "outputs": [
        {
          "output_type": "execute_result",
          "data": {
            "text/plain": [
              "tensor(0.9267)"
            ]
          },
          "metadata": {},
          "execution_count": 66
        }
      ]
    },
    {
      "cell_type": "markdown",
      "source": [
        "accuracy: 0.9267"
      ],
      "metadata": {
        "id": "BO3lSzUazK01"
      }
    },
    {
      "cell_type": "markdown",
      "source": [
        "## Multinomial logistic regression"
      ],
      "metadata": {
        "id": "IQw3DuqL0vLy"
      }
    },
    {
      "cell_type": "code",
      "source": [
        "z_model = torch.nn.Linear(4, 3, bias=True)\n",
        "\n",
        "def loss_fn(qhat, t):\n",
        "  loss = - torch.mean(torch.sum(t * torch.log(qhat), axis=1))\n",
        "  return loss\n",
        "\n",
        "optimizer = torch.optim.SGD(z_model.parameters(), lr=0.01)\n",
        "history=[]\n",
        "epochs = 300\n",
        "\n",
        "for epoch in range(epochs):\n",
        "  epoch_loss = 0.0\n",
        "  for xx, tt in train_loader:\n",
        "    zhat = z_model(xx)\n",
        "    qhat = torch.softmax(zhat, dim=1)\n",
        "    loss = loss_fn(qhat, tt)\n",
        "    loss.backward()\n",
        "    epoch_loss += loss.item()*len(xx)\n",
        "    optimizer.step()\n",
        "    optimizer.zero_grad()\n",
        "  history.append(epoch_loss/n)\n",
        "\n",
        "plt.plot(history)"
      ],
      "metadata": {
        "id": "i3I176ob0xyd",
        "colab": {
          "base_uri": "https://localhost:8080/",
          "height": 447
        },
        "outputId": "9e4f6f41-804a-4313-9929-79545d392d00"
      },
      "execution_count": null,
      "outputs": [
        {
          "output_type": "execute_result",
          "data": {
            "text/plain": [
              "[<matplotlib.lines.Line2D at 0x7804ab6bd630>]"
            ]
          },
          "metadata": {},
          "execution_count": 68
        },
        {
          "output_type": "display_data",
          "data": {
            "text/plain": [
              "<Figure size 640x480 with 1 Axes>"
            ],
            "image/png": "[encoded data removed]"
          },
          "metadata": {}
        }
      ]
    },
    {
      "cell_type": "code",
      "source": [
        "def accuracy_fn(qhat, t):\n",
        "  yhat = torch.argmax(qhat, axis=1).to(torch.float32)\n",
        "  #print(yhat)\n",
        "  y = torch.argmax(t, axis=1).to(torch.float32)\n",
        "  #print(y)\n",
        "  accuracy = torch.sum((y==yhat).to(torch.float32))\n",
        "  #print(accuracy)\n",
        "  return accuracy\n",
        "\n",
        "\n",
        "accuracy_sum = 0\n",
        "\n",
        "for X, T in test_loader:\n",
        "  zhat = z_model(X)\n",
        "  qhat = torch.softmax(zhat, dim=1)\n",
        "  accuracy_sum += accuracy_fn(qhat,T).item()\n",
        "\n",
        "print(accuracy_sum/len(X_val))"
      ],
      "metadata": {
        "colab": {
          "base_uri": "https://localhost:8080/"
        },
        "id": "UCJQNmdf_5ck",
        "outputId": "262ddd8b-4340-41b4-efe4-77b3a70dceb2"
      },
      "execution_count": null,
      "outputs": [
        {
          "output_type": "stream",
          "name": "stdout",
          "text": [
            "0.9666666666666667\n"
          ]
        }
      ]
    },
    {
      "cell_type": "markdown",
      "metadata": {
        "id": "6MMnjhQOPR-2"
      },
      "source": [
        "# HW Problem 2: Fashion MNIST data"
      ]
    },
    {
      "cell_type": "markdown",
      "metadata": {
        "id": "Q0wBOhSpRP6A"
      },
      "source": [
        "You are given the following fashion MNIST data. Use `the multinomial regression` and `neural networks` so that the model can determine the label from the images. Calculate the test accuracy. Compare your test accuracy with that of the `linear` version of the `multinomial regression`.\n",
        "\n",
        "1. the picture\n",
        "\n",
        "2. predicted label\n",
        "\n",
        "3. real label\n",
        "\n",
        "4. Explain the possible reason why your model is wrong in this case."
      ]
    },
    {
      "cell_type": "markdown",
      "source": [
        "Hint: Each training and test example is assigned to one of the following labels:\n",
        "\n",
        "0 T-shirt/top\n",
        "\n",
        "1 Trouser\n",
        "\n",
        "2 Pullover\n",
        "\n",
        "3 Dress\n",
        "\n",
        "4 Coat\n",
        "\n",
        "5 Sandal\n",
        "\n",
        "6 Shirt\n",
        "\n",
        "7 Sneaker\n",
        "\n",
        "8 Bag\n",
        "\n",
        "9 Ankle boot"
      ],
      "metadata": {
        "id": "f0332X2pWmn0"
      }
    },
    {
      "cell_type": "code",
      "execution_count": null,
      "metadata": {
        "id": "E-OllAGT6pr-"
      },
      "outputs": [],
      "source": [
        "import torch\n",
        "from torch import nn, optim\n",
        "import torch.nn.functional as F\n",
        "from torch.utils.data import DataLoader\n",
        "from torchvision import datasets, transforms"
      ]
    },
    {
      "cell_type": "code",
      "execution_count": null,
      "metadata": {
        "id": "Y2dqyxnr6psU",
        "colab": {
          "base_uri": "https://localhost:8080/"
        },
        "outputId": "e5fd272c-641e-4b5d-8b17-adb8cb948479"
      },
      "outputs": [
        {
          "output_type": "stream",
          "name": "stdout",
          "text": [
            "Downloading http://fashion-mnist.s3-website.eu-central-1.amazonaws.com/train-images-idx3-ubyte.gz\n",
            "Downloading http://fashion-mnist.s3-website.eu-central-1.amazonaws.com/train-images-idx3-ubyte.gz to ./data/FashionMNIST/raw/train-images-idx3-ubyte.gz\n"
          ]
        },
        {
          "output_type": "stream",
          "name": "stderr",
          "text": [
            "100%|██████████| 26421880/26421880 [00:01<00:00, 15302344.10it/s]\n"
          ]
        },
        {
          "output_type": "stream",
          "name": "stdout",
          "text": [
            "Extracting ./data/FashionMNIST/raw/train-images-idx3-ubyte.gz to ./data/FashionMNIST/raw\n",
            "\n",
            "Downloading http://fashion-mnist.s3-website.eu-central-1.amazonaws.com/train-labels-idx1-ubyte.gz\n",
            "Downloading http://fashion-mnist.s3-website.eu-central-1.amazonaws.com/train-labels-idx1-ubyte.gz to ./data/FashionMNIST/raw/train-labels-idx1-ubyte.gz\n"
          ]
        },
        {
          "output_type": "stream",
          "name": "stderr",
          "text": [
            "100%|██████████| 29515/29515 [00:00<00:00, 221995.07it/s]\n"
          ]
        },
        {
          "output_type": "stream",
          "name": "stdout",
          "text": [
            "Extracting ./data/FashionMNIST/raw/train-labels-idx1-ubyte.gz to ./data/FashionMNIST/raw\n",
            "\n",
            "Downloading http://fashion-mnist.s3-website.eu-central-1.amazonaws.com/t10k-images-idx3-ubyte.gz\n",
            "Downloading http://fashion-mnist.s3-website.eu-central-1.amazonaws.com/t10k-images-idx3-ubyte.gz to ./data/FashionMNIST/raw/t10k-images-idx3-ubyte.gz\n"
          ]
        },
        {
          "output_type": "stream",
          "name": "stderr",
          "text": [
            "100%|██████████| 4422102/4422102 [00:01<00:00, 4295916.30it/s]\n"
          ]
        },
        {
          "output_type": "stream",
          "name": "stdout",
          "text": [
            "Extracting ./data/FashionMNIST/raw/t10k-images-idx3-ubyte.gz to ./data/FashionMNIST/raw\n",
            "\n",
            "Downloading http://fashion-mnist.s3-website.eu-central-1.amazonaws.com/t10k-labels-idx1-ubyte.gz\n",
            "Downloading http://fashion-mnist.s3-website.eu-central-1.amazonaws.com/t10k-labels-idx1-ubyte.gz to ./data/FashionMNIST/raw/t10k-labels-idx1-ubyte.gz\n"
          ]
        },
        {
          "output_type": "stream",
          "name": "stderr",
          "text": [
            "100%|██████████| 5148/5148 [00:00<00:00, 6513507.39it/s]"
          ]
        },
        {
          "output_type": "stream",
          "name": "stdout",
          "text": [
            "Extracting ./data/FashionMNIST/raw/t10k-labels-idx1-ubyte.gz to ./data/FashionMNIST/raw\n",
            "\n"
          ]
        },
        {
          "output_type": "stream",
          "name": "stderr",
          "text": [
            "\n"
          ]
        }
      ],
      "source": [
        "# transform to normalize the data\n",
        "transform = transforms.Compose([transforms.ToTensor(),\n",
        "                                transforms.Normalize((0.5,), (0.5,))])\n",
        "\n",
        "# Download and load the training data\n",
        "trainset = datasets.FashionMNIST('./data', download=True, train=True, transform=transform)\n",
        "train_loader = DataLoader(trainset, batch_size=64, shuffle=True)\n",
        "\n",
        "# Download and load the test data\n",
        "validationset = datasets.FashionMNIST('./data', download=True, train=False, transform=transform)\n",
        "test_loader = DataLoader(validationset, batch_size=64, shuffle=True)"
      ]
    },
    {
      "cell_type": "code",
      "source": [
        "# Load MNIST data\n",
        "import sklearn.datasets\n",
        "mnist = sklearn.datasets.fetch_openml('mnist_784', data_home=\"mnist_784\")"
      ],
      "metadata": {
        "id": "t2H7trWb13EZ",
        "colab": {
          "base_uri": "https://localhost:8080/"
        },
        "outputId": "a21f3735-e98c-4928-e08c-3ae012fb0e06"
      },
      "execution_count": null,
      "outputs": [
        {
          "output_type": "stream",
          "name": "stderr",
          "text": [
            "/usr/local/lib/python3.10/dist-packages/sklearn/datasets/_openml.py:968: FutureWarning: The default value of `parser` will change from `'liac-arff'` to `'auto'` in 1.4. You can set `parser='auto'` to silence this warning. Therefore, an `ImportError` will be raised from 1.4 if the dataset is dense and pandas is not installed. Note that the pandas parser may return different data types. See the Notes Section in fetch_openml's API doc for details.\n",
            "  warn(\n"
          ]
        }
      ]
    },
    {
      "cell_type": "code",
      "execution_count": null,
      "metadata": {
        "colab": {
          "base_uri": "https://localhost:8080/"
        },
        "id": "0Fbykd0MLZQr",
        "outputId": "7174bac9-53c7-46a3-9d0c-0f0848c26115"
      },
      "outputs": [
        {
          "output_type": "stream",
          "name": "stdout",
          "text": [
            "torch.Size([70000, 784]) torch.Size([70000])\n"
          ]
        },
        {
          "output_type": "stream",
          "name": "stderr",
          "text": [
            "<ipython-input-92-66260c33eac0>:5: UserWarning: To copy construct from a tensor, it is recommended to use sourceTensor.clone().detach() or sourceTensor.clone().detach().requires_grad_(True), rather than torch.tensor(sourceTensor).\n",
            "  T = torch.nn.functional.one_hot(torch.tensor(Y, dtype=torch.int64), num_classes=10)\n",
            "<ipython-input-92-66260c33eac0>:6: UserWarning: To copy construct from a tensor, it is recommended to use sourceTensor.clone().detach() or sourceTensor.clone().detach().requires_grad_(True), rather than torch.tensor(sourceTensor).\n",
            "  T = torch.tensor(T, dtype=torch.float32)\n"
          ]
        }
      ],
      "source": [
        "X = torch.tensor(mnist[\"data\"].values, dtype=torch.float32).reshape([-1, 28* 28])\n",
        "Y = torch.tensor(np.array(mnist[\"target\"].values).astype(np.float32), dtype=torch.float32)\n",
        "print(X.shape, Y.shape)\n",
        "\n",
        "T = torch.nn.functional.one_hot(torch.tensor(Y, dtype=torch.int64), num_classes=10)\n",
        "T = torch.tensor(T, dtype=torch.float32)"
      ]
    },
    {
      "cell_type": "code",
      "source": [
        "X[1]"
      ],
      "metadata": {
        "colab": {
          "base_uri": "https://localhost:8080/"
        },
        "id": "9mVXBU_Rzmyi",
        "outputId": "0fac3382-4c85-4598-f07d-c0681fecaa76"
      },
      "execution_count": null,
      "outputs": [
        {
          "output_type": "execute_result",
          "data": {
            "text/plain": [
              "tensor([  0.,   0.,   0.,   0.,   0.,   0.,   0.,   0.,   0.,   0.,   0.,   0.,\n",
              "          0.,   0.,   0.,   0.,   0.,   0.,   0.,   0.,   0.,   0.,   0.,   0.,\n",
              "          0.,   0.,   0.,   0.,   0.,   0.,   0.,   0.,   0.,   0.,   0.,   0.,\n",
              "          0.,   0.,   0.,   0.,   0.,   0.,   0.,   0.,   0.,   0.,   0.,   0.,\n",
              "          0.,   0.,   0.,   0.,   0.,   0.,   0.,   0.,   0.,   0.,   0.,   0.,\n",
              "          0.,   0.,   0.,   0.,   0.,   0.,   0.,   0.,   0.,   0.,   0.,   0.,\n",
              "          0.,   0.,   0.,   0.,   0.,   0.,   0.,   0.,   0.,   0.,   0.,   0.,\n",
              "          0.,   0.,   0.,   0.,   0.,   0.,   0.,   0.,   0.,   0.,   0.,   0.,\n",
              "          0.,   0.,   0.,   0.,   0.,   0.,   0.,   0.,   0.,   0.,   0.,   0.,\n",
              "          0.,   0.,   0.,   0.,   0.,   0.,   0.,   0.,   0.,   0.,   0.,   0.,\n",
              "          0.,   0.,   0.,   0.,   0.,   0.,   0.,  51., 159., 253., 159.,  50.,\n",
              "          0.,   0.,   0.,   0.,   0.,   0.,   0.,   0.,   0.,   0.,   0.,   0.,\n",
              "          0.,   0.,   0.,   0.,   0.,   0.,   0.,   0.,   0.,   0.,  48., 238.,\n",
              "        252., 252., 252., 237.,   0.,   0.,   0.,   0.,   0.,   0.,   0.,   0.,\n",
              "          0.,   0.,   0.,   0.,   0.,   0.,   0.,   0.,   0.,   0.,   0.,   0.,\n",
              "          0.,  54., 227., 253., 252., 239., 233., 252.,  57.,   6.,   0.,   0.,\n",
              "          0.,   0.,   0.,   0.,   0.,   0.,   0.,   0.,   0.,   0.,   0.,   0.,\n",
              "          0.,   0.,   0.,  10.,  60., 224., 252., 253., 252., 202.,  84., 252.,\n",
              "        253., 122.,   0.,   0.,   0.,   0.,   0.,   0.,   0.,   0.,   0.,   0.,\n",
              "          0.,   0.,   0.,   0.,   0.,   0.,   0., 163., 252., 252., 252., 253.,\n",
              "        252., 252.,  96., 189., 253., 167.,   0.,   0.,   0.,   0.,   0.,   0.,\n",
              "          0.,   0.,   0.,   0.,   0.,   0.,   0.,   0.,   0.,   0.,  51., 238.,\n",
              "        253., 253., 190., 114., 253., 228.,  47.,  79., 255., 168.,   0.,   0.,\n",
              "          0.,   0.,   0.,   0.,   0.,   0.,   0.,   0.,   0.,   0.,   0.,   0.,\n",
              "          0.,  48., 238., 252., 252., 179.,  12.,  75., 121.,  21.,   0.,   0.,\n",
              "        253., 243.,  50.,   0.,   0.,   0.,   0.,   0.,   0.,   0.,   0.,   0.,\n",
              "          0.,   0.,   0.,   0.,  38., 165., 253., 233., 208.,  84.,   0.,   0.,\n",
              "          0.,   0.,   0.,   0., 253., 252., 165.,   0.,   0.,   0.,   0.,   0.,\n",
              "          0.,   0.,   0.,   0.,   0.,   0.,   0.,   7., 178., 252., 240.,  71.,\n",
              "         19.,  28.,   0.,   0.,   0.,   0.,   0.,   0., 253., 252., 195.,   0.,\n",
              "          0.,   0.,   0.,   0.,   0.,   0.,   0.,   0.,   0.,   0.,   0.,  57.,\n",
              "        252., 252.,  63.,   0.,   0.,   0.,   0.,   0.,   0.,   0.,   0.,   0.,\n",
              "        253., 252., 195.,   0.,   0.,   0.,   0.,   0.,   0.,   0.,   0.,   0.,\n",
              "          0.,   0.,   0., 198., 253., 190.,   0.,   0.,   0.,   0.,   0.,   0.,\n",
              "          0.,   0.,   0.,   0., 255., 253., 196.,   0.,   0.,   0.,   0.,   0.,\n",
              "          0.,   0.,   0.,   0.,   0.,   0.,  76., 246., 252., 112.,   0.,   0.,\n",
              "          0.,   0.,   0.,   0.,   0.,   0.,   0.,   0., 253., 252., 148.,   0.,\n",
              "          0.,   0.,   0.,   0.,   0.,   0.,   0.,   0.,   0.,   0.,  85., 252.,\n",
              "        230.,  25.,   0.,   0.,   0.,   0.,   0.,   0.,   0.,   0.,   7., 135.,\n",
              "        253., 186.,  12.,   0.,   0.,   0.,   0.,   0.,   0.,   0.,   0.,   0.,\n",
              "          0.,   0.,  85., 252., 223.,   0.,   0.,   0.,   0.,   0.,   0.,   0.,\n",
              "          0.,   7., 131., 252., 225.,  71.,   0.,   0.,   0.,   0.,   0.,   0.,\n",
              "          0.,   0.,   0.,   0.,   0.,   0.,  85., 252., 145.,   0.,   0.,   0.,\n",
              "          0.,   0.,   0.,   0.,  48., 165., 252., 173.,   0.,   0.,   0.,   0.,\n",
              "          0.,   0.,   0.,   0.,   0.,   0.,   0.,   0.,   0.,   0.,  86., 253.,\n",
              "        225.,   0.,   0.,   0.,   0.,   0.,   0., 114., 238., 253., 162.,   0.,\n",
              "          0.,   0.,   0.,   0.,   0.,   0.,   0.,   0.,   0.,   0.,   0.,   0.,\n",
              "          0.,   0.,  85., 252., 249., 146.,  48.,  29.,  85., 178., 225., 253.,\n",
              "        223., 167.,  56.,   0.,   0.,   0.,   0.,   0.,   0.,   0.,   0.,   0.,\n",
              "          0.,   0.,   0.,   0.,   0.,   0.,  85., 252., 252., 252., 229., 215.,\n",
              "        252., 252., 252., 196., 130.,   0.,   0.,   0.,   0.,   0.,   0.,   0.,\n",
              "          0.,   0.,   0.,   0.,   0.,   0.,   0.,   0.,   0.,   0.,  28., 199.,\n",
              "        252., 252., 253., 252., 252., 233., 145.,   0.,   0.,   0.,   0.,   0.,\n",
              "          0.,   0.,   0.,   0.,   0.,   0.,   0.,   0.,   0.,   0.,   0.,   0.,\n",
              "          0.,   0.,   0.,  25., 128., 252., 253., 252., 141.,  37.,   0.,   0.,\n",
              "          0.,   0.,   0.,   0.,   0.,   0.,   0.,   0.,   0.,   0.,   0.,   0.,\n",
              "          0.,   0.,   0.,   0.,   0.,   0.,   0.,   0.,   0.,   0.,   0.,   0.,\n",
              "          0.,   0.,   0.,   0.,   0.,   0.,   0.,   0.,   0.,   0.,   0.,   0.,\n",
              "          0.,   0.,   0.,   0.,   0.,   0.,   0.,   0.,   0.,   0.,   0.,   0.,\n",
              "          0.,   0.,   0.,   0.,   0.,   0.,   0.,   0.,   0.,   0.,   0.,   0.,\n",
              "          0.,   0.,   0.,   0.,   0.,   0.,   0.,   0.,   0.,   0.,   0.,   0.,\n",
              "          0.,   0.,   0.,   0.,   0.,   0.,   0.,   0.,   0.,   0.,   0.,   0.,\n",
              "          0.,   0.,   0.,   0.,   0.,   0.,   0.,   0.,   0.,   0.,   0.,   0.,\n",
              "          0.,   0.,   0.,   0.,   0.,   0.,   0.,   0.,   0.,   0.,   0.,   0.,\n",
              "          0.,   0.,   0.,   0.,   0.,   0.,   0.,   0.,   0.,   0.,   0.,   0.,\n",
              "          0.,   0.,   0.,   0.])"
            ]
          },
          "metadata": {},
          "execution_count": 93
        }
      ]
    },
    {
      "cell_type": "code",
      "execution_count": null,
      "metadata": {
        "colab": {
          "base_uri": "https://localhost:8080/"
        },
        "id": "KeAOZe16MTUG",
        "outputId": "f0986e91-33ee-4886-ea1d-2942cd2e8cc2"
      },
      "outputs": [
        {
          "output_type": "stream",
          "name": "stderr",
          "text": [
            "<ipython-input-94-ecab3ab8faaa>:2: UserWarning: To copy construct from a tensor, it is recommended to use sourceTensor.clone().detach() or sourceTensor.clone().detach().requires_grad_(True), rather than torch.tensor(sourceTensor).\n",
            "  x_train = torch.tensor(X[:60000, :]/255, dtype = torch.float32)\n",
            "<ipython-input-94-ecab3ab8faaa>:4: UserWarning: To copy construct from a tensor, it is recommended to use sourceTensor.clone().detach() or sourceTensor.clone().detach().requires_grad_(True), rather than torch.tensor(sourceTensor).\n",
            "  t_train = torch.tensor(T[:60000], dtype = torch.float32)\n",
            "<ipython-input-94-ecab3ab8faaa>:6: UserWarning: To copy construct from a tensor, it is recommended to use sourceTensor.clone().detach() or sourceTensor.clone().detach().requires_grad_(True), rather than torch.tensor(sourceTensor).\n",
            "  x_test = torch.tensor(X[60000:, :]/255, dtype = torch.float32)\n",
            "<ipython-input-94-ecab3ab8faaa>:8: UserWarning: To copy construct from a tensor, it is recommended to use sourceTensor.clone().detach() or sourceTensor.clone().detach().requires_grad_(True), rather than torch.tensor(sourceTensor).\n",
            "  t_test = torch.tensor(T[60000:], dtype = torch.float32)\n"
          ]
        }
      ],
      "source": [
        "# 나누기 255: X 를 0과 1사이로 만들어주기 위함\n",
        "x_train = torch.tensor(X[:60000, :]/255, dtype = torch.float32)\n",
        "#y_train = torch.tensor(Y[:60000], dtype = torch.float32)\n",
        "t_train = torch.tensor(T[:60000], dtype = torch.float32)\n",
        "n=60000\n",
        "x_test = torch.tensor(X[60000:, :]/255, dtype = torch.float32)\n",
        "#y_test = torch.tensor(Y[60000:], dtype = torch.float32)\n",
        "t_test = torch.tensor(T[60000:], dtype = torch.float32)"
      ]
    },
    {
      "cell_type": "code",
      "source": [
        "trainset = TensorDataset(x_train, t_train)\n",
        "train_loader=DataLoader(dataset = trainset, batch_size=64, shuffle=True)\n",
        "testset = TensorDataset(x_test, t_test)\n",
        "test_loader=DataLoader(dataset = testset, batch_size=64, shuffle=True)"
      ],
      "metadata": {
        "id": "XwooJKh3mp_5"
      },
      "execution_count": null,
      "outputs": []
    },
    {
      "cell_type": "markdown",
      "source": [
        "## Neural Networks"
      ],
      "metadata": {
        "id": "r3rLoHZwAprT"
      }
    },
    {
      "cell_type": "code",
      "source": [
        "SN = torch.nn.Sequential(\n",
        "    torch.nn.Linear(784, 64, bias=True),\n",
        "    torch.nn.ReLU(),#A[1]\n",
        "    torch.nn.Linear(64, 32, bias=True),\n",
        "    torch.nn.ReLU(),#A[2]\n",
        "    torch.nn.Linear(32, 10, bias=True),\n",
        ")\n",
        "\n",
        "def loss_fn(qhat, t):\n",
        "  temp = -torch.mean(torch.sum(t * torch.log(qhat), axis = 1))\n",
        "  return temp\n",
        "\n",
        "optimizer = torch.optim.SGD(SN.parameters(), lr=0.01)\n",
        "history = []\n",
        "epochs = 30\n",
        "n=len(train_loader.dataset)\n",
        "\n",
        "for epoch in range(epochs):\n",
        "  epoch_loss = 0.0\n",
        "  for xx, tt in train_loader:\n",
        "    #zhat = SN(xx.reshape([-1, 28* 28]))\n",
        "    zhat = SN(xx)\n",
        "    qhat = torch.softmax(zhat, dim = 1)\n",
        "    loss = loss_fn(qhat, tt) #cross-entropy loss  = - log-lik(Multi(q, tt))\n",
        "    loss.backward()\n",
        "    epoch_loss += loss.item()*len(xx)\n",
        "    optimizer.step()\n",
        "    optimizer.zero_grad()\n",
        "  history.append(epoch_loss/n)\n",
        "  print(\"epoch = \", epoch, \"current loss=\", epoch_loss/n)\n",
        "\n",
        "plt.plot(history)"
      ],
      "metadata": {
        "colab": {
          "base_uri": "https://localhost:8080/",
          "height": 943
        },
        "outputId": "9402ad11-e0ac-48e4-e112-89f58166486d",
        "id": "iM-Mg-RhJhGR"
      },
      "execution_count": null,
      "outputs": [
        {
          "output_type": "stream",
          "name": "stdout",
          "text": [
            "epoch =  0 current loss= 1.8584893751780192\n",
            "epoch =  1 current loss= 0.6136448634783427\n",
            "epoch =  2 current loss= 0.42038159116109214\n",
            "epoch =  3 current loss= 0.3657022797425588\n",
            "epoch =  4 current loss= 0.33451852757136025\n",
            "epoch =  5 current loss= 0.3113001860221227\n",
            "epoch =  6 current loss= 0.2921418906291326\n",
            "epoch =  7 current loss= 0.27573780378500623\n",
            "epoch =  8 current loss= 0.26059495448271436\n",
            "epoch =  9 current loss= 0.247238405474027\n",
            "epoch =  10 current loss= 0.23485332621733349\n",
            "epoch =  11 current loss= 0.2232014863570531\n",
            "epoch =  12 current loss= 0.21255197920401891\n",
            "epoch =  13 current loss= 0.20284192453622818\n",
            "epoch =  14 current loss= 0.19369319450060526\n",
            "epoch =  15 current loss= 0.18512144252856572\n",
            "epoch =  16 current loss= 0.17752708510955176\n",
            "epoch =  17 current loss= 0.17039233059684436\n",
            "epoch =  18 current loss= 0.16414286064108213\n",
            "epoch =  19 current loss= 0.1578633177836736\n",
            "epoch =  20 current loss= 0.15207744041482607\n",
            "epoch =  21 current loss= 0.14707832266688348\n",
            "epoch =  22 current loss= 0.14212534116605918\n",
            "epoch =  23 current loss= 0.13724413724740347\n",
            "epoch =  24 current loss= 0.13265406481226286\n",
            "epoch =  25 current loss= 0.1284014044682185\n",
            "epoch =  26 current loss= 0.12426622553269068\n",
            "epoch =  27 current loss= 0.12057886992394924\n",
            "epoch =  28 current loss= 0.11683259419202804\n",
            "epoch =  29 current loss= 0.11317288920283318\n"
          ]
        },
        {
          "output_type": "execute_result",
          "data": {
            "text/plain": [
              "[<matplotlib.lines.Line2D at 0x78049e89cdf0>]"
            ]
          },
          "metadata": {},
          "execution_count": 99
        },
        {
          "output_type": "display_data",
          "data": {
            "text/plain": [
              "<Figure size 640x480 with 1 Axes>"
            ],
            "image/png": "[encoded data removed]"
          },
          "metadata": {}
        }
      ]
    },
    {
      "cell_type": "code",
      "source": [
        "SN = torch.nn.Sequential(\n",
        "    torch.nn.Linear(784, 64, bias=True),\n",
        "    torch.nn.ReLU(),#A[1]\n",
        "    torch.nn.Linear(64, 32, bias=True),\n",
        "    torch.nn.ReLU(),#A[2]\n",
        "    torch.nn.Linear(32, 10, bias=True),\n",
        ")\n",
        "\n",
        "def loss_fn(qhat, t):\n",
        "  temp = -torch.mean(torch.sum(t * torch.log(qhat), axis = 1))\n",
        "  return temp\n",
        "\n",
        "optimizer = torch.optim.SGD(SN.parameters(), lr=0.01)\n",
        "history = []\n",
        "epochs = 30\n",
        "n=len(train_loader.dataset)\n",
        "\n",
        "for epoch in range(epochs):\n",
        "  epoch_loss = 0.0\n",
        "  for xx, tt in train_loader:\n",
        "    zhat = SN(xx.reshape([-1, 28* 28]))\n",
        "    qhat = torch.softmax(zhat, dim = 1)\n",
        "    loss = loss_fn(qhat, tt)\n",
        "    loss.backward()\n",
        "    epoch_loss += loss.item()*len(xx)\n",
        "    optimizer.step()\n",
        "    optimizer.zero_grad()\n",
        "  history.append(epoch_loss/n)\n",
        "  print(\"epoch = \", epoch, \"current loss=\", epoch_loss/n)\n",
        "\n",
        "plt.plot(history)"
      ],
      "metadata": {
        "colab": {
          "base_uri": "https://localhost:8080/",
          "height": 943
        },
        "outputId": "9402ad11-e0ac-48e4-e112-89f58166486d",
        "id": "JcDKXJTS-8zk"
      },
      "execution_count": null,
      "outputs": [
        {
          "output_type": "stream",
          "name": "stdout",
          "text": [
            "epoch =  0 current loss= 1.8584893751780192\n",
            "epoch =  1 current loss= 0.6136448634783427\n",
            "epoch =  2 current loss= 0.42038159116109214\n",
            "epoch =  3 current loss= 0.3657022797425588\n",
            "epoch =  4 current loss= 0.33451852757136025\n",
            "epoch =  5 current loss= 0.3113001860221227\n",
            "epoch =  6 current loss= 0.2921418906291326\n",
            "epoch =  7 current loss= 0.27573780378500623\n",
            "epoch =  8 current loss= 0.26059495448271436\n",
            "epoch =  9 current loss= 0.247238405474027\n",
            "epoch =  10 current loss= 0.23485332621733349\n",
            "epoch =  11 current loss= 0.2232014863570531\n",
            "epoch =  12 current loss= 0.21255197920401891\n",
            "epoch =  13 current loss= 0.20284192453622818\n",
            "epoch =  14 current loss= 0.19369319450060526\n",
            "epoch =  15 current loss= 0.18512144252856572\n",
            "epoch =  16 current loss= 0.17752708510955176\n",
            "epoch =  17 current loss= 0.17039233059684436\n",
            "epoch =  18 current loss= 0.16414286064108213\n",
            "epoch =  19 current loss= 0.1578633177836736\n",
            "epoch =  20 current loss= 0.15207744041482607\n",
            "epoch =  21 current loss= 0.14707832266688348\n",
            "epoch =  22 current loss= 0.14212534116605918\n",
            "epoch =  23 current loss= 0.13724413724740347\n",
            "epoch =  24 current loss= 0.13265406481226286\n",
            "epoch =  25 current loss= 0.1284014044682185\n",
            "epoch =  26 current loss= 0.12426622553269068\n",
            "epoch =  27 current loss= 0.12057886992394924\n",
            "epoch =  28 current loss= 0.11683259419202804\n",
            "epoch =  29 current loss= 0.11317288920283318\n"
          ]
        },
        {
          "output_type": "execute_result",
          "data": {
            "text/plain": [
              "[<matplotlib.lines.Line2D at 0x78049e89cdf0>]"
            ]
          },
          "metadata": {},
          "execution_count": 99
        },
        {
          "output_type": "display_data",
          "data": {
            "text/plain": [
              "<Figure size 640x480 with 1 Axes>"
            ],
            "image/png": "[encoded data removed]"
          },
          "metadata": {}
        }
      ]
    },
    {
      "cell_type": "code",
      "source": [
        "# z score\n",
        "zhat_test = SN(x_test) #x_test: [n_test, 784]\n",
        "# q score\n",
        "Q_test = torch.softmax(zhat_test, dim=1) # Q_test: [n_test, 10]\n",
        "# q score 에서 axis 1방향에서 누가 큰지 index return\n",
        "y_hat = torch.argmax(Q_test, axis=1).to(torch.float32) #y_hat: [n_test,]\n",
        "y_test = torch.argmax(t_test, axis=1).to(torch.float32)\n",
        "torch.mean((y_hat == y_test.reshape([-1])).to(torch.float32))"
      ],
      "metadata": {
        "colab": {
          "base_uri": "https://localhost:8080/"
        },
        "id": "ztbf14VFmAd7",
        "outputId": "ff8f2e44-852e-4dba-f1ac-205e91e06981"
      },
      "execution_count": null,
      "outputs": [
        {
          "output_type": "execute_result",
          "data": {
            "text/plain": [
              "tensor(0.9628)"
            ]
          },
          "metadata": {},
          "execution_count": 100
        }
      ]
    },
    {
      "cell_type": "markdown",
      "source": [
        "Sequential shallow neural network\\\n",
        "accuracy = 0.9628"
      ],
      "metadata": {
        "id": "Pjtj4zd0JG0h"
      }
    },
    {
      "cell_type": "markdown",
      "source": [
        "## Multinomial logistic regression"
      ],
      "metadata": {
        "id": "5cg16F2fI4dJ"
      }
    },
    {
      "cell_type": "code",
      "source": [
        "def loss_fn(qhat, t):\n",
        "  temp = -torch.mean(torch.sum(t * torch.log(qhat), axis = 1))\n",
        "  return temp"
      ],
      "metadata": {
        "id": "-pJBrtQvAnF8"
      },
      "execution_count": null,
      "outputs": []
    },
    {
      "cell_type": "code",
      "source": [
        "z_model = torch.nn.Linear(784, 10, bias=True)\n",
        "\n",
        "optimizer = torch.optim.SGD(z_model.parameters(), lr = 0.01)\n",
        "\n",
        "# The Fashion-MNIST dataset contains 60,000 training images\n",
        "# (and 10,000 test images)\n",
        "n = 60000\n",
        "epochs = 100\n",
        "history = []\n",
        "\n",
        "for epoch in range(epochs):\n",
        "  epoch_loss = 0.0\n",
        "  for xx, tt in train_loader:\n",
        "    # reshape 필요?\n",
        "    zhat = z_model(xx)\n",
        "    qhat = torch.softmax(zhat, dim = 1)\n",
        "    loss = loss_fn(qhat, tt)\n",
        "    epoch_loss += loss.item()*len(xx)\n",
        "    optimizer.zero_grad()\n",
        "    loss.backward()\n",
        "    optimizer.step()\n",
        "  history.append(epoch_loss/n)\n",
        "\n",
        "plt.plot(history)"
      ],
      "metadata": {
        "id": "8jQbwvk1Nues",
        "colab": {
          "base_uri": "https://localhost:8080/",
          "height": 447
        },
        "outputId": "31700bd4-cc12-40b7-a5fb-775c354fdf30"
      },
      "execution_count": null,
      "outputs": [
        {
          "output_type": "execute_result",
          "data": {
            "text/plain": [
              "[<matplotlib.lines.Line2D at 0x78049ea05fc0>]"
            ]
          },
          "metadata": {},
          "execution_count": 108
        },
        {
          "output_type": "display_data",
          "data": {
            "text/plain": [
              "<Figure size 640x480 with 1 Axes>"
            ],
            "image/png": "[encoded data removed]"
          },
          "metadata": {}
        }
      ]
    },
    {
      "cell_type": "code",
      "source": [
        "def accuracy_ftn(qhat, t):\n",
        "  # yhat: 길이 n인 벡터\n",
        "  yhat = torch.argmax(qhat, axis=1).to(torch.float32)\n",
        "  # y: 길이 n인 벡터\n",
        "  y = torch.argmax(t, axis=1).to(torch.float32)\n",
        "  accuracy = torch.mean((y==yhat).to(torch.float32))\n",
        "  return accuracy\n",
        "\n",
        "accuracy_sum = 0\n",
        "for X, T in test_loader:\n",
        "  phat = torch.softmax(z_model(X), axis=1)\n",
        "  temp = accuracy_ftn(phat, T)\n",
        "  accuracy_sum += temp\n",
        "\n",
        "accuracy = accuracy_sum/len(validationset)\n",
        "print(accuracy)"
      ],
      "metadata": {
        "colab": {
          "base_uri": "https://localhost:8080/"
        },
        "id": "RuK_3ggaOFyw",
        "outputId": "553811f3-752c-4bd2-c27c-150ab621d86a"
      },
      "execution_count": null,
      "outputs": [
        {
          "output_type": "stream",
          "name": "stdout",
          "text": [
            "tensor(0.0145)\n"
          ]
        }
      ]
    }
  ]
}