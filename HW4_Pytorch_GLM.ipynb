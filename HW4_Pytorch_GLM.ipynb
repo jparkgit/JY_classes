{
  "nbformat": 4,
  "nbformat_minor": 5,
  "metadata": {
    "accelerator": "GPU",
    "colab": {
      "provenance": [],
      "machine_shape": "hm",
      "include_colab_link": true
    },
    "kernelspec": {
      "name": "python3",
      "display_name": "Python 3"
    },
    "language_info": {
      "name": "python"
    }
  },
  "cells": [
    {
      "cell_type": "markdown",
      "metadata": {
        "id": "view-in-github",
        "colab_type": "text"
      },
      "source": [
        "<a href=\"https://colab.research.google.com/github/jparkgit/NumPy/blob/master/HW4_Pytorch_GLM.ipynb\" target=\"_parent\"><img src=\"https://colab.research.google.com/assets/colab-badge.svg\" alt=\"Open In Colab\"/></a>"
      ]
    },
    {
      "cell_type": "markdown",
      "source": [
        "## 1903055 박지현 (생명과학과)"
      ],
      "metadata": {
        "id": "RHhQ7sh5wzv_"
      },
      "id": "RHhQ7sh5wzv_"
    },
    {
      "cell_type": "markdown",
      "metadata": {
        "id": "3oSL_cLemi3d"
      },
      "source": [
        "# 1. Logistic regression with Pytorch\n",
        "## 1.1 Preparation of data\n",
        "\n",
        "Here, we will build binary logistic regression models with Python that will predict whether a breast cancer tumor is malignant or benign (malignant or benign will be our response variable). We will use the Breast Cancer Wisconsin (Diagnostic) Data Set available from sklearn.datasets."
      ],
      "id": "3oSL_cLemi3d"
    },
    {
      "cell_type": "code",
      "source": [
        "import torch\n",
        "import numpy as np\n",
        "import matplotlib.pyplot as plt\n",
        "from torch.utils.data import Dataset, DataLoader, TensorDataset"
      ],
      "metadata": {
        "id": "vwhtGsc8vscl"
      },
      "id": "vwhtGsc8vscl",
      "execution_count": 1,
      "outputs": []
    },
    {
      "cell_type": "markdown",
      "source": [
        "We can import this data as follows:"
      ],
      "metadata": {
        "id": "z3cX2nHwwB6M"
      },
      "id": "z3cX2nHwwB6M"
    },
    {
      "cell_type": "code",
      "source": [
        "from sklearn.datasets import load_breast_cancer\n",
        "cancer1 = load_breast_cancer()"
      ],
      "metadata": {
        "id": "Oqj8XjaKRU7W"
      },
      "id": "Oqj8XjaKRU7W",
      "execution_count": 2,
      "outputs": []
    },
    {
      "cell_type": "code",
      "source": [
        "print(\"Predictors: \", cancer1.feature_names)"
      ],
      "metadata": {
        "colab": {
          "base_uri": "https://localhost:8080/"
        },
        "id": "FyJ1no3wwIvW",
        "outputId": "ec1c039b-721a-4bc5-ecbb-499ef566b315"
      },
      "id": "FyJ1no3wwIvW",
      "execution_count": 3,
      "outputs": [
        {
          "output_type": "stream",
          "name": "stdout",
          "text": [
            "Predictors:  ['mean radius' 'mean texture' 'mean perimeter' 'mean area'\n",
            " 'mean smoothness' 'mean compactness' 'mean concavity'\n",
            " 'mean concave points' 'mean symmetry' 'mean fractal dimension'\n",
            " 'radius error' 'texture error' 'perimeter error' 'area error'\n",
            " 'smoothness error' 'compactness error' 'concavity error'\n",
            " 'concave points error' 'symmetry error' 'fractal dimension error'\n",
            " 'worst radius' 'worst texture' 'worst perimeter' 'worst area'\n",
            " 'worst smoothness' 'worst compactness' 'worst concavity'\n",
            " 'worst concave points' 'worst symmetry' 'worst fractal dimension']\n"
          ]
        }
      ]
    },
    {
      "cell_type": "code",
      "source": [
        "print(\"\\nResponse: \", cancer1.target_names)"
      ],
      "metadata": {
        "colab": {
          "base_uri": "https://localhost:8080/"
        },
        "id": "gLYGiypQwJZ5",
        "outputId": "fede60ee-2b05-4a77-8193-c69a70594a38"
      },
      "id": "gLYGiypQwJZ5",
      "execution_count": 4,
      "outputs": [
        {
          "output_type": "stream",
          "name": "stdout",
          "text": [
            "\n",
            "Response:  ['malignant' 'benign']\n"
          ]
        }
      ]
    },
    {
      "cell_type": "markdown",
      "source": [
        "Here we can see that there are 30 predictors available in our dataset that can be used in our logistic regression models.\n",
        "\n",
        "Purely for convenience, we convert this sklearn.utils.Bunch object to a pandas.DataFrame as pandas DataFrames are a very commonly used data structure. We then use the shape property to see it has 569 rows and 30 columns."
      ],
      "metadata": {
        "id": "EvDv1Rd6wGsz"
      },
      "id": "EvDv1Rd6wGsz"
    },
    {
      "cell_type": "code",
      "metadata": {
        "id": "u0z0v8tJ1yE8",
        "colab": {
          "base_uri": "https://localhost:8080/"
        },
        "outputId": "2fb1b3be-a7b4-4865-ba11-588420733e33"
      },
      "source": [
        "import pandas as pd\n",
        "\n",
        "cancer = pd.DataFrame(cancer1.data, columns=cancer1.feature_names)\n",
        "cancer.columns = cancer.columns.str.replace(' ','_')\n",
        "cancer.shape"
      ],
      "id": "u0z0v8tJ1yE8",
      "execution_count": 5,
      "outputs": [
        {
          "output_type": "execute_result",
          "data": {
            "text/plain": [
              "(569, 30)"
            ]
          },
          "metadata": {},
          "execution_count": 5
        }
      ]
    },
    {
      "cell_type": "code",
      "source": [
        "cancer.head()"
      ],
      "metadata": {
        "colab": {
          "base_uri": "https://localhost:8080/",
          "height": 257
        },
        "id": "EcNv0EgxytTr",
        "outputId": "8a1e0cc3-d35a-4178-d779-99b3ce6d311b"
      },
      "id": "EcNv0EgxytTr",
      "execution_count": 6,
      "outputs": [
        {
          "output_type": "execute_result",
          "data": {
            "text/plain": [
              "   mean_radius  mean_texture  mean_perimeter  mean_area  mean_smoothness  \\\n",
              "0        17.99         10.38          122.80     1001.0          0.11840   \n",
              "1        20.57         17.77          132.90     1326.0          0.08474   \n",
              "2        19.69         21.25          130.00     1203.0          0.10960   \n",
              "3        11.42         20.38           77.58      386.1          0.14250   \n",
              "4        20.29         14.34          135.10     1297.0          0.10030   \n",
              "\n",
              "   mean_compactness  mean_concavity  mean_concave_points  mean_symmetry  \\\n",
              "0           0.27760          0.3001              0.14710         0.2419   \n",
              "1           0.07864          0.0869              0.07017         0.1812   \n",
              "2           0.15990          0.1974              0.12790         0.2069   \n",
              "3           0.28390          0.2414              0.10520         0.2597   \n",
              "4           0.13280          0.1980              0.10430         0.1809   \n",
              "\n",
              "   mean_fractal_dimension  ...  worst_radius  worst_texture  worst_perimeter  \\\n",
              "0                 0.07871  ...         25.38          17.33           184.60   \n",
              "1                 0.05667  ...         24.99          23.41           158.80   \n",
              "2                 0.05999  ...         23.57          25.53           152.50   \n",
              "3                 0.09744  ...         14.91          26.50            98.87   \n",
              "4                 0.05883  ...         22.54          16.67           152.20   \n",
              "\n",
              "   worst_area  worst_smoothness  worst_compactness  worst_concavity  \\\n",
              "0      2019.0            0.1622             0.6656           0.7119   \n",
              "1      1956.0            0.1238             0.1866           0.2416   \n",
              "2      1709.0            0.1444             0.4245           0.4504   \n",
              "3       567.7            0.2098             0.8663           0.6869   \n",
              "4      1575.0            0.1374             0.2050           0.4000   \n",
              "\n",
              "   worst_concave_points  worst_symmetry  worst_fractal_dimension  \n",
              "0                0.2654          0.4601                  0.11890  \n",
              "1                0.1860          0.2750                  0.08902  \n",
              "2                0.2430          0.3613                  0.08758  \n",
              "3                0.2575          0.6638                  0.17300  \n",
              "4                0.1625          0.2364                  0.07678  \n",
              "\n",
              "[5 rows x 30 columns]"
            ],
            "text/html": [
              "\n",
              "  <div id=\"df-93ef2e41-afaa-4a4b-b13a-b4cb6427b71f\" class=\"colab-df-container\">\n",
              "    <div>\n",
              "<style scoped>\n",
              "    .dataframe tbody tr th:only-of-type {\n",
              "        vertical-align: middle;\n",
              "    }\n",
              "\n",
              "    .dataframe tbody tr th {\n",
              "        vertical-align: top;\n",
              "    }\n",
              "\n",
              "    .dataframe thead th {\n",
              "        text-align: right;\n",
              "    }\n",
              "</style>\n",
              "<table border=\"1\" class=\"dataframe\">\n",
              "  <thead>\n",
              "    <tr style=\"text-align: right;\">\n",
              "      <th></th>\n",
              "      <th>mean_radius</th>\n",
              "      <th>mean_texture</th>\n",
              "      <th>mean_perimeter</th>\n",
              "      <th>mean_area</th>\n",
              "      <th>mean_smoothness</th>\n",
              "      <th>mean_compactness</th>\n",
              "      <th>mean_concavity</th>\n",
              "      <th>mean_concave_points</th>\n",
              "      <th>mean_symmetry</th>\n",
              "      <th>mean_fractal_dimension</th>\n",
              "      <th>...</th>\n",
              "      <th>worst_radius</th>\n",
              "      <th>worst_texture</th>\n",
              "      <th>worst_perimeter</th>\n",
              "      <th>worst_area</th>\n",
              "      <th>worst_smoothness</th>\n",
              "      <th>worst_compactness</th>\n",
              "      <th>worst_concavity</th>\n",
              "      <th>worst_concave_points</th>\n",
              "      <th>worst_symmetry</th>\n",
              "      <th>worst_fractal_dimension</th>\n",
              "    </tr>\n",
              "  </thead>\n",
              "  <tbody>\n",
              "    <tr>\n",
              "      <th>0</th>\n",
              "      <td>17.99</td>\n",
              "      <td>10.38</td>\n",
              "      <td>122.80</td>\n",
              "      <td>1001.0</td>\n",
              "      <td>0.11840</td>\n",
              "      <td>0.27760</td>\n",
              "      <td>0.3001</td>\n",
              "      <td>0.14710</td>\n",
              "      <td>0.2419</td>\n",
              "      <td>0.07871</td>\n",
              "      <td>...</td>\n",
              "      <td>25.38</td>\n",
              "      <td>17.33</td>\n",
              "      <td>184.60</td>\n",
              "      <td>2019.0</td>\n",
              "      <td>0.1622</td>\n",
              "      <td>0.6656</td>\n",
              "      <td>0.7119</td>\n",
              "      <td>0.2654</td>\n",
              "      <td>0.4601</td>\n",
              "      <td>0.11890</td>\n",
              "    </tr>\n",
              "    <tr>\n",
              "      <th>1</th>\n",
              "      <td>20.57</td>\n",
              "      <td>17.77</td>\n",
              "      <td>132.90</td>\n",
              "      <td>1326.0</td>\n",
              "      <td>0.08474</td>\n",
              "      <td>0.07864</td>\n",
              "      <td>0.0869</td>\n",
              "      <td>0.07017</td>\n",
              "      <td>0.1812</td>\n",
              "      <td>0.05667</td>\n",
              "      <td>...</td>\n",
              "      <td>24.99</td>\n",
              "      <td>23.41</td>\n",
              "      <td>158.80</td>\n",
              "      <td>1956.0</td>\n",
              "      <td>0.1238</td>\n",
              "      <td>0.1866</td>\n",
              "      <td>0.2416</td>\n",
              "      <td>0.1860</td>\n",
              "      <td>0.2750</td>\n",
              "      <td>0.08902</td>\n",
              "    </tr>\n",
              "    <tr>\n",
              "      <th>2</th>\n",
              "      <td>19.69</td>\n",
              "      <td>21.25</td>\n",
              "      <td>130.00</td>\n",
              "      <td>1203.0</td>\n",
              "      <td>0.10960</td>\n",
              "      <td>0.15990</td>\n",
              "      <td>0.1974</td>\n",
              "      <td>0.12790</td>\n",
              "      <td>0.2069</td>\n",
              "      <td>0.05999</td>\n",
              "      <td>...</td>\n",
              "      <td>23.57</td>\n",
              "      <td>25.53</td>\n",
              "      <td>152.50</td>\n",
              "      <td>1709.0</td>\n",
              "      <td>0.1444</td>\n",
              "      <td>0.4245</td>\n",
              "      <td>0.4504</td>\n",
              "      <td>0.2430</td>\n",
              "      <td>0.3613</td>\n",
              "      <td>0.08758</td>\n",
              "    </tr>\n",
              "    <tr>\n",
              "      <th>3</th>\n",
              "      <td>11.42</td>\n",
              "      <td>20.38</td>\n",
              "      <td>77.58</td>\n",
              "      <td>386.1</td>\n",
              "      <td>0.14250</td>\n",
              "      <td>0.28390</td>\n",
              "      <td>0.2414</td>\n",
              "      <td>0.10520</td>\n",
              "      <td>0.2597</td>\n",
              "      <td>0.09744</td>\n",
              "      <td>...</td>\n",
              "      <td>14.91</td>\n",
              "      <td>26.50</td>\n",
              "      <td>98.87</td>\n",
              "      <td>567.7</td>\n",
              "      <td>0.2098</td>\n",
              "      <td>0.8663</td>\n",
              "      <td>0.6869</td>\n",
              "      <td>0.2575</td>\n",
              "      <td>0.6638</td>\n",
              "      <td>0.17300</td>\n",
              "    </tr>\n",
              "    <tr>\n",
              "      <th>4</th>\n",
              "      <td>20.29</td>\n",
              "      <td>14.34</td>\n",
              "      <td>135.10</td>\n",
              "      <td>1297.0</td>\n",
              "      <td>0.10030</td>\n",
              "      <td>0.13280</td>\n",
              "      <td>0.1980</td>\n",
              "      <td>0.10430</td>\n",
              "      <td>0.1809</td>\n",
              "      <td>0.05883</td>\n",
              "      <td>...</td>\n",
              "      <td>22.54</td>\n",
              "      <td>16.67</td>\n",
              "      <td>152.20</td>\n",
              "      <td>1575.0</td>\n",
              "      <td>0.1374</td>\n",
              "      <td>0.2050</td>\n",
              "      <td>0.4000</td>\n",
              "      <td>0.1625</td>\n",
              "      <td>0.2364</td>\n",
              "      <td>0.07678</td>\n",
              "    </tr>\n",
              "  </tbody>\n",
              "</table>\n",
              "<p>5 rows × 30 columns</p>\n",
              "</div>\n",
              "    <div class=\"colab-df-buttons\">\n",
              "\n",
              "  <div class=\"colab-df-container\">\n",
              "    <button class=\"colab-df-convert\" onclick=\"convertToInteractive('df-93ef2e41-afaa-4a4b-b13a-b4cb6427b71f')\"\n",
              "            title=\"Convert this dataframe to an interactive table.\"\n",
              "            style=\"display:none;\">\n",
              "\n",
              "  <svg xmlns=\"http://www.w3.org/2000/svg\" height=\"24px\" viewBox=\"0 -960 960 960\">\n",
              "    <path d=\"M120-120v-720h720v720H120Zm60-500h600v-160H180v160Zm220 220h160v-160H400v160Zm0 220h160v-160H400v160ZM180-400h160v-160H180v160Zm440 0h160v-160H620v160ZM180-180h160v-160H180v160Zm440 0h160v-160H620v160Z\"/>\n",
              "  </svg>\n",
              "    </button>\n",
              "\n",
              "  <style>\n",
              "    .colab-df-container {\n",
              "      display:flex;\n",
              "      gap: 12px;\n",
              "    }\n",
              "\n",
              "    .colab-df-convert {\n",
              "      background-color: #E8F0FE;\n",
              "      border: none;\n",
              "      border-radius: 50%;\n",
              "      cursor: pointer;\n",
              "      display: none;\n",
              "      fill: #1967D2;\n",
              "      height: 32px;\n",
              "      padding: 0 0 0 0;\n",
              "      width: 32px;\n",
              "    }\n",
              "\n",
              "    .colab-df-convert:hover {\n",
              "      background-color: #E2EBFA;\n",
              "      box-shadow: 0px 1px 2px rgba(60, 64, 67, 0.3), 0px 1px 3px 1px rgba(60, 64, 67, 0.15);\n",
              "      fill: #174EA6;\n",
              "    }\n",
              "\n",
              "    .colab-df-buttons div {\n",
              "      margin-bottom: 4px;\n",
              "    }\n",
              "\n",
              "    [theme=dark] .colab-df-convert {\n",
              "      background-color: #3B4455;\n",
              "      fill: #D2E3FC;\n",
              "    }\n",
              "\n",
              "    [theme=dark] .colab-df-convert:hover {\n",
              "      background-color: #434B5C;\n",
              "      box-shadow: 0px 1px 3px 1px rgba(0, 0, 0, 0.15);\n",
              "      filter: drop-shadow(0px 1px 2px rgba(0, 0, 0, 0.3));\n",
              "      fill: #FFFFFF;\n",
              "    }\n",
              "  </style>\n",
              "\n",
              "    <script>\n",
              "      const buttonEl =\n",
              "        document.querySelector('#df-93ef2e41-afaa-4a4b-b13a-b4cb6427b71f button.colab-df-convert');\n",
              "      buttonEl.style.display =\n",
              "        google.colab.kernel.accessAllowed ? 'block' : 'none';\n",
              "\n",
              "      async function convertToInteractive(key) {\n",
              "        const element = document.querySelector('#df-93ef2e41-afaa-4a4b-b13a-b4cb6427b71f');\n",
              "        const dataTable =\n",
              "          await google.colab.kernel.invokeFunction('convertToInteractive',\n",
              "                                                    [key], {});\n",
              "        if (!dataTable) return;\n",
              "\n",
              "        const docLinkHtml = 'Like what you see? Visit the ' +\n",
              "          '<a target=\"_blank\" href=https://colab.research.google.com/notebooks/data_table.ipynb>data table notebook</a>'\n",
              "          + ' to learn more about interactive tables.';\n",
              "        element.innerHTML = '';\n",
              "        dataTable['output_type'] = 'display_data';\n",
              "        await google.colab.output.renderOutput(dataTable, element);\n",
              "        const docLink = document.createElement('div');\n",
              "        docLink.innerHTML = docLinkHtml;\n",
              "        element.appendChild(docLink);\n",
              "      }\n",
              "    </script>\n",
              "  </div>\n",
              "\n",
              "\n",
              "<div id=\"df-713a8cd6-8905-49cb-af72-465b5dd84b0d\">\n",
              "  <button class=\"colab-df-quickchart\" onclick=\"quickchart('df-713a8cd6-8905-49cb-af72-465b5dd84b0d')\"\n",
              "            title=\"Suggest charts\"\n",
              "            style=\"display:none;\">\n",
              "\n",
              "<svg xmlns=\"http://www.w3.org/2000/svg\" height=\"24px\"viewBox=\"0 0 24 24\"\n",
              "     width=\"24px\">\n",
              "    <g>\n",
              "        <path d=\"M19 3H5c-1.1 0-2 .9-2 2v14c0 1.1.9 2 2 2h14c1.1 0 2-.9 2-2V5c0-1.1-.9-2-2-2zM9 17H7v-7h2v7zm4 0h-2V7h2v10zm4 0h-2v-4h2v4z\"/>\n",
              "    </g>\n",
              "</svg>\n",
              "  </button>\n",
              "\n",
              "<style>\n",
              "  .colab-df-quickchart {\n",
              "      --bg-color: #E8F0FE;\n",
              "      --fill-color: #1967D2;\n",
              "      --hover-bg-color: #E2EBFA;\n",
              "      --hover-fill-color: #174EA6;\n",
              "      --disabled-fill-color: #AAA;\n",
              "      --disabled-bg-color: #DDD;\n",
              "  }\n",
              "\n",
              "  [theme=dark] .colab-df-quickchart {\n",
              "      --bg-color: #3B4455;\n",
              "      --fill-color: #D2E3FC;\n",
              "      --hover-bg-color: #434B5C;\n",
              "      --hover-fill-color: #FFFFFF;\n",
              "      --disabled-bg-color: #3B4455;\n",
              "      --disabled-fill-color: #666;\n",
              "  }\n",
              "\n",
              "  .colab-df-quickchart {\n",
              "    background-color: var(--bg-color);\n",
              "    border: none;\n",
              "    border-radius: 50%;\n",
              "    cursor: pointer;\n",
              "    display: none;\n",
              "    fill: var(--fill-color);\n",
              "    height: 32px;\n",
              "    padding: 0;\n",
              "    width: 32px;\n",
              "  }\n",
              "\n",
              "  .colab-df-quickchart:hover {\n",
              "    background-color: var(--hover-bg-color);\n",
              "    box-shadow: 0 1px 2px rgba(60, 64, 67, 0.3), 0 1px 3px 1px rgba(60, 64, 67, 0.15);\n",
              "    fill: var(--button-hover-fill-color);\n",
              "  }\n",
              "\n",
              "  .colab-df-quickchart-complete:disabled,\n",
              "  .colab-df-quickchart-complete:disabled:hover {\n",
              "    background-color: var(--disabled-bg-color);\n",
              "    fill: var(--disabled-fill-color);\n",
              "    box-shadow: none;\n",
              "  }\n",
              "\n",
              "  .colab-df-spinner {\n",
              "    border: 2px solid var(--fill-color);\n",
              "    border-color: transparent;\n",
              "    border-bottom-color: var(--fill-color);\n",
              "    animation:\n",
              "      spin 1s steps(1) infinite;\n",
              "  }\n",
              "\n",
              "  @keyframes spin {\n",
              "    0% {\n",
              "      border-color: transparent;\n",
              "      border-bottom-color: var(--fill-color);\n",
              "      border-left-color: var(--fill-color);\n",
              "    }\n",
              "    20% {\n",
              "      border-color: transparent;\n",
              "      border-left-color: var(--fill-color);\n",
              "      border-top-color: var(--fill-color);\n",
              "    }\n",
              "    30% {\n",
              "      border-color: transparent;\n",
              "      border-left-color: var(--fill-color);\n",
              "      border-top-color: var(--fill-color);\n",
              "      border-right-color: var(--fill-color);\n",
              "    }\n",
              "    40% {\n",
              "      border-color: transparent;\n",
              "      border-right-color: var(--fill-color);\n",
              "      border-top-color: var(--fill-color);\n",
              "    }\n",
              "    60% {\n",
              "      border-color: transparent;\n",
              "      border-right-color: var(--fill-color);\n",
              "    }\n",
              "    80% {\n",
              "      border-color: transparent;\n",
              "      border-right-color: var(--fill-color);\n",
              "      border-bottom-color: var(--fill-color);\n",
              "    }\n",
              "    90% {\n",
              "      border-color: transparent;\n",
              "      border-bottom-color: var(--fill-color);\n",
              "    }\n",
              "  }\n",
              "</style>\n",
              "\n",
              "  <script>\n",
              "    async function quickchart(key) {\n",
              "      const quickchartButtonEl =\n",
              "        document.querySelector('#' + key + ' button');\n",
              "      quickchartButtonEl.disabled = true;  // To prevent multiple clicks.\n",
              "      quickchartButtonEl.classList.add('colab-df-spinner');\n",
              "      try {\n",
              "        const charts = await google.colab.kernel.invokeFunction(\n",
              "            'suggestCharts', [key], {});\n",
              "      } catch (error) {\n",
              "        console.error('Error during call to suggestCharts:', error);\n",
              "      }\n",
              "      quickchartButtonEl.classList.remove('colab-df-spinner');\n",
              "      quickchartButtonEl.classList.add('colab-df-quickchart-complete');\n",
              "    }\n",
              "    (() => {\n",
              "      let quickchartButtonEl =\n",
              "        document.querySelector('#df-713a8cd6-8905-49cb-af72-465b5dd84b0d button');\n",
              "      quickchartButtonEl.style.display =\n",
              "        google.colab.kernel.accessAllowed ? 'block' : 'none';\n",
              "    })();\n",
              "  </script>\n",
              "</div>\n",
              "    </div>\n",
              "  </div>\n"
            ]
          },
          "metadata": {},
          "execution_count": 6
        }
      ]
    },
    {
      "cell_type": "code",
      "metadata": {
        "id": "48c5nTmhUg6c",
        "colab": {
          "base_uri": "https://localhost:8080/"
        },
        "outputId": "19e23bd1-4637-4fd4-bef1-a266b7d58c44"
      },
      "source": [
        "X = torch.tensor(cancer.values, dtype=torch.float32)\n",
        "# cancer.shape = [569, 30], X.shape = [569, 30]\n",
        "\n",
        "X_mean = torch.mean(X, axis=0)\n",
        "X_std = torch.std(X, axis=0)\n",
        "XX = (X-X_mean)/X_std\n",
        "\n",
        "# number of rows\n",
        "n=XX.shape[0]\n",
        "\n",
        "XX.shape"
      ],
      "id": "48c5nTmhUg6c",
      "execution_count": 7,
      "outputs": [
        {
          "output_type": "execute_result",
          "data": {
            "text/plain": [
              "torch.Size([569, 30])"
            ]
          },
          "metadata": {},
          "execution_count": 7
        }
      ]
    },
    {
      "cell_type": "code",
      "source": [
        "cancer1.target[:50]\n",
        "# 1 means malignant.\n",
        "\n",
        "Y = torch.tensor(cancer1.target, dtype=torch.float32).reshape([n,1])"
      ],
      "metadata": {
        "id": "9oqgDfDaxJVG"
      },
      "id": "9oqgDfDaxJVG",
      "execution_count": 8,
      "outputs": []
    },
    {
      "cell_type": "code",
      "source": [
        "Y.shape"
      ],
      "metadata": {
        "colab": {
          "base_uri": "https://localhost:8080/"
        },
        "id": "IZp39mm8bWF9",
        "outputId": "a80b5d66-cb8b-4b88-e62d-df0f7952abdc"
      },
      "id": "IZp39mm8bWF9",
      "execution_count": 9,
      "outputs": [
        {
          "output_type": "execute_result",
          "data": {
            "text/plain": [
              "torch.Size([569, 1])"
            ]
          },
          "metadata": {},
          "execution_count": 9
        }
      ]
    },
    {
      "cell_type": "code",
      "source": [
        "dataset = TensorDataset(XX,Y)\n",
        "trainloader = DataLoader(dataset=dataset, batch_size=32, shuffle=True)"
      ],
      "metadata": {
        "id": "hEg6XHLpzbgi"
      },
      "id": "hEg6XHLpzbgi",
      "execution_count": 10,
      "outputs": []
    },
    {
      "cell_type": "code",
      "source": [
        "len(dataset)"
      ],
      "metadata": {
        "colab": {
          "base_uri": "https://localhost:8080/"
        },
        "id": "71PMdQtYzhJt",
        "outputId": "4ce529bf-4940-4a40-8f9d-2b5bc5aafdbc"
      },
      "id": "71PMdQtYzhJt",
      "execution_count": 11,
      "outputs": [
        {
          "output_type": "execute_result",
          "data": {
            "text/plain": [
              "569"
            ]
          },
          "metadata": {},
          "execution_count": 11
        }
      ]
    },
    {
      "cell_type": "code",
      "source": [
        "torch.manual_seed(2023)\n",
        "\n",
        "# 전체 데이터의 70%로 train\n",
        "train_size = int(0.7 * len(dataset))\n",
        "# the rest is for test\n",
        "test_size = len(dataset) - train_size\n",
        "\n",
        "train_dataset, test_dataset = torch.utils.data.random_split(dataset, [train_size, test_size])"
      ],
      "metadata": {
        "id": "ULWVUGJVxy2U"
      },
      "id": "ULWVUGJVxy2U",
      "execution_count": 12,
      "outputs": []
    },
    {
      "cell_type": "markdown",
      "source": [
        "## Exercise 1\n",
        "\n",
        "Using the data above, we want to build the logistic regression model to predict whether the tumor is malignant or benign. Answer the following questions.\n",
        "\n",
        "1. Train the model.\n",
        "\n",
        "2. You want to predict the probability of malignant for the first person `X[0, ]`. Calculate the probability of malignant for the first person."
      ],
      "metadata": {
        "id": "Opkqg7UHhqWi"
      },
      "id": "Opkqg7UHhqWi"
    },
    {
      "cell_type": "code",
      "source": [
        "cancer.iloc[0, :]"
      ],
      "metadata": {
        "id": "GPlI3aahUKQS",
        "colab": {
          "base_uri": "https://localhost:8080/"
        },
        "outputId": "b43288e8-bfd0-4527-cee6-8c2d72da6ec0"
      },
      "id": "GPlI3aahUKQS",
      "execution_count": 13,
      "outputs": [
        {
          "output_type": "execute_result",
          "data": {
            "text/plain": [
              "mean_radius                  17.990000\n",
              "mean_texture                 10.380000\n",
              "mean_perimeter              122.800000\n",
              "mean_area                  1001.000000\n",
              "mean_smoothness               0.118400\n",
              "mean_compactness              0.277600\n",
              "mean_concavity                0.300100\n",
              "mean_concave_points           0.147100\n",
              "mean_symmetry                 0.241900\n",
              "mean_fractal_dimension        0.078710\n",
              "radius_error                  1.095000\n",
              "texture_error                 0.905300\n",
              "perimeter_error               8.589000\n",
              "area_error                  153.400000\n",
              "smoothness_error              0.006399\n",
              "compactness_error             0.049040\n",
              "concavity_error               0.053730\n",
              "concave_points_error          0.015870\n",
              "symmetry_error                0.030030\n",
              "fractal_dimension_error       0.006193\n",
              "worst_radius                 25.380000\n",
              "worst_texture                17.330000\n",
              "worst_perimeter             184.600000\n",
              "worst_area                 2019.000000\n",
              "worst_smoothness              0.162200\n",
              "worst_compactness             0.665600\n",
              "worst_concavity               0.711900\n",
              "worst_concave_points          0.265400\n",
              "worst_symmetry                0.460100\n",
              "worst_fractal_dimension       0.118900\n",
              "Name: 0, dtype: float64"
            ]
          },
          "metadata": {},
          "execution_count": 13
        }
      ]
    },
    {
      "cell_type": "code",
      "source": [
        "XX.shape"
      ],
      "metadata": {
        "colab": {
          "base_uri": "https://localhost:8080/"
        },
        "id": "BZGZ5X_5ViiT",
        "outputId": "a6b4490a-11fe-43e8-accb-1f7dfd5ddaa3"
      },
      "id": "BZGZ5X_5ViiT",
      "execution_count": 14,
      "outputs": [
        {
          "output_type": "execute_result",
          "data": {
            "text/plain": [
              "torch.Size([569, 30])"
            ]
          },
          "metadata": {},
          "execution_count": 14
        }
      ]
    },
    {
      "cell_type": "code",
      "source": [
        "class my_logistic_class(torch.nn.Module):\n",
        "    def __init__(self, in_units, units):\n",
        "        super().__init__()\n",
        "        self.linear = torch.nn.Linear(in_units, units, bias=True)\n",
        "        self.sigmoid = torch.nn.Sigmoid()\n",
        "\n",
        "    def forward(self, X):\n",
        "        temp = self.sigmoid(self.linear(X))\n",
        "        return temp"
      ],
      "metadata": {
        "id": "d5WWq37O4m_z"
      },
      "execution_count": 15,
      "outputs": [],
      "id": "d5WWq37O4m_z"
    },
    {
      "cell_type": "code",
      "source": [
        "logistic_model = my_logistic_class(30,1)\n",
        "\n",
        "def neg_log_lik(phat,y):\n",
        "    out = -1 * torch.mean(y * torch.log(phat) + (1 - y) * torch.log(1 - phat))\n",
        "    return out\n",
        "\n",
        "my_optimizer = torch.optim.SGD(logistic_model.parameters(), lr = 0.1)"
      ],
      "metadata": {
        "id": "e3SZLP6ejxup"
      },
      "execution_count": 16,
      "outputs": [],
      "id": "e3SZLP6ejxup"
    },
    {
      "cell_type": "code",
      "source": [
        "epochs=100\n",
        "history=[]\n",
        "n=XX.shape[0]\n",
        "\n",
        "\n",
        "for epoch in range(epochs):\n",
        "  LOSS_sum = 0\n",
        "  for xx, yy in trainloader:\n",
        "    phat = logistic_model(xx)\n",
        "    loss = neg_log_lik(phat, yy)\n",
        "    LOSS_sum = LOSS_sum + loss.item() * len(yy)\n",
        "    my_optimizer.zero_grad()\n",
        "    loss.backward()\n",
        "    my_optimizer.step()\n",
        "  history.append(LOSS_sum/n)\n"
      ],
      "metadata": {
        "id": "yUdTDWnmjxup"
      },
      "execution_count": 17,
      "outputs": [],
      "id": "yUdTDWnmjxup"
    },
    {
      "cell_type": "code",
      "source": [
        "plt.plot(history)"
      ],
      "metadata": {
        "colab": {
          "base_uri": "https://localhost:8080/",
          "height": 468
        },
        "id": "Vf80uZ6Xj5IF",
        "outputId": "32df7cce-feac-4267-b0dd-b8c030a35f7f"
      },
      "execution_count": 18,
      "outputs": [
        {
          "output_type": "execute_result",
          "data": {
            "text/plain": [
              "[<matplotlib.lines.Line2D at 0x7bea1a8d7df0>]"
            ]
          },
          "metadata": {},
          "execution_count": 18
        },
        {
          "output_type": "display_data",
          "data": {
            "text/plain": [
              "<Figure size 640x480 with 1 Axes>"
            ],
            "image/png": "[encoded data removed]"
          },
          "metadata": {}
        }
      ],
      "id": "Vf80uZ6Xj5IF"
    },
    {
      "cell_type": "markdown",
      "source": [
        "You want to predict the probability of malignant for the first person X[0, ]. Calculate the probability of malignant for the first person."
      ],
      "metadata": {
        "id": "K1u4lA4_XP-Q"
      },
      "id": "K1u4lA4_XP-Q"
    },
    {
      "cell_type": "code",
      "source": [
        "phat = logistic_model(XX)\n",
        "phat[0,]"
      ],
      "metadata": {
        "colab": {
          "base_uri": "https://localhost:8080/"
        },
        "id": "Ag9biY9HZvHx",
        "outputId": "b1fd2ff1-a526-42b3-8060-a54ad22146b0"
      },
      "id": "Ag9biY9HZvHx",
      "execution_count": 41,
      "outputs": [
        {
          "output_type": "execute_result",
          "data": {
            "text/plain": [
              "tensor([nan], grad_fn=<SelectBackward0>)"
            ]
          },
          "metadata": {},
          "execution_count": 41
        }
      ]
    },
    {
      "cell_type": "markdown",
      "source": [
        "??"
      ],
      "metadata": {
        "id": "RZUWXrEudwgV"
      },
      "id": "RZUWXrEudwgV"
    },
    {
      "cell_type": "code",
      "source": [
        "person1 = XX[0,]\n",
        "person1.shape"
      ],
      "metadata": {
        "colab": {
          "base_uri": "https://localhost:8080/"
        },
        "id": "NBnS3vWn2NWd",
        "outputId": "04109664-b72a-4bc6-cc75-3e6851ad8340"
      },
      "execution_count": 36,
      "outputs": [
        {
          "output_type": "execute_result",
          "data": {
            "text/plain": [
              "torch.Size([30])"
            ]
          },
          "metadata": {},
          "execution_count": 36
        }
      ],
      "id": "NBnS3vWn2NWd"
    },
    {
      "cell_type": "code",
      "source": [
        "person1 = person1.reshape([1,-1])\n",
        "person1.shape"
      ],
      "metadata": {
        "colab": {
          "base_uri": "https://localhost:8080/"
        },
        "id": "esDRD_FG2Oy-",
        "outputId": "e7af200e-e1b3-4b9f-d736-8c9b8c35300c"
      },
      "execution_count": 37,
      "outputs": [
        {
          "output_type": "execute_result",
          "data": {
            "text/plain": [
              "torch.Size([1, 30])"
            ]
          },
          "metadata": {},
          "execution_count": 37
        }
      ],
      "id": "esDRD_FG2Oy-"
    },
    {
      "cell_type": "code",
      "source": [
        "person1"
      ],
      "metadata": {
        "colab": {
          "base_uri": "https://localhost:8080/"
        },
        "id": "vpO8z0wNdogM",
        "outputId": "3d51b850-5469-4a14-9a70-7f433a2743ca"
      },
      "id": "vpO8z0wNdogM",
      "execution_count": 38,
      "outputs": [
        {
          "output_type": "execute_result",
          "data": {
            "text/plain": [
              "tensor([[ 1.0961, -2.0715,  1.2688,  0.9835,  1.5671,  3.2806,  2.6505,  2.5302,\n",
              "          2.2156,  2.2538,  2.4875, -0.5648,  2.8305,  2.4854, -0.2138,  1.3157,\n",
              "          0.7234,  0.6602,  1.1477,  0.9063,  1.8850, -1.3581,  2.3016,  1.9995,\n",
              "          1.3065,  2.6144,  2.1077,  2.2941,  2.7482,  1.9353]])"
            ]
          },
          "metadata": {},
          "execution_count": 38
        }
      ]
    },
    {
      "cell_type": "code",
      "source": [
        "phat = logistic_model(person1)\n",
        "phat"
      ],
      "metadata": {
        "colab": {
          "base_uri": "https://localhost:8080/"
        },
        "id": "0TNkiz011qHW",
        "outputId": "0a94457b-12e2-4206-d73c-abde347f832c"
      },
      "execution_count": 39,
      "outputs": [
        {
          "output_type": "execute_result",
          "data": {
            "text/plain": [
              "tensor([[nan]], grad_fn=<SigmoidBackward0>)"
            ]
          },
          "metadata": {},
          "execution_count": 39
        }
      ],
      "id": "0TNkiz011qHW"
    },
    {
      "cell_type": "markdown",
      "source": [
        "??"
      ],
      "metadata": {
        "id": "Ta3pj4MUdxtQ"
      },
      "id": "Ta3pj4MUdxtQ"
    },
    {
      "cell_type": "markdown",
      "source": [
        "\n",
        "  \n",
        "3. Consider the first person whose mean_radius has shurunked from `17.990000` to `5.00000`. What is the probability of malignant.\n",
        "\n",
        "4. Calculate the Test accuracy."
      ],
      "metadata": {
        "id": "Sbcn8c-bzsTE"
      },
      "id": "Sbcn8c-bzsTE"
    },
    {
      "cell_type": "code",
      "source": [
        "Yhat = (Phat>0.5).type(torch.float32)\n",
        "accuracy = torch.mean((Y == Yhat).type(torch.float32))\n",
        "accuracy"
      ],
      "metadata": {
        "id": "FbnxYhSHfRu-"
      },
      "id": "FbnxYhSHfRu-",
      "execution_count": null,
      "outputs": []
    },
    {
      "cell_type": "markdown",
      "source": [
        "# 2. Poisson regression with Pytorch\n",
        "## 2.1 Preparation of data"
      ],
      "metadata": {
        "id": "7Iyy4yJ3UOYP"
      },
      "id": "7Iyy4yJ3UOYP"
    },
    {
      "cell_type": "code",
      "source": [
        "from google.colab import drive\n",
        "drive.mount('/content/drive')"
      ],
      "metadata": {
        "id": "gaNY1WVtgonW",
        "colab": {
          "base_uri": "https://localhost:8080/"
        },
        "outputId": "82b1671e-94a9-4e7a-c61b-234702b15b71"
      },
      "execution_count": 27,
      "outputs": [
        {
          "output_type": "stream",
          "name": "stdout",
          "text": [
            "Mounted at /content/drive\n"
          ]
        }
      ],
      "id": "gaNY1WVtgonW"
    },
    {
      "cell_type": "code",
      "metadata": {
        "id": "EZNN4iLB76Bk",
        "colab": {
          "base_uri": "https://localhost:8080/",
          "height": 228
        },
        "outputId": "ca0bc1fc-21a3-403e-fc57-07d54c35c0d3"
      },
      "source": [
        "df = pd.read_csv(r\"/content/drive/MyDrive/4-2/통프/competition_awards_data.csv\",  sep = ',', header= 0 )\n",
        "df.head()"
      ],
      "id": "EZNN4iLB76Bk",
      "execution_count": 28,
      "outputs": [
        {
          "output_type": "execute_result",
          "data": {
            "text/plain": [
              "   Awards  Math Score\n",
              "0       0          43\n",
              "1       0          38\n",
              "2       0          41\n",
              "3       0          33\n",
              "4       0          39"
            ],
            "text/html": [
              "\n",
              "  <div id=\"df-9391eccb-afca-4cfa-a87a-a59887818154\" class=\"colab-df-container\">\n",
              "    <div>\n",
              "<style scoped>\n",
              "    .dataframe tbody tr th:only-of-type {\n",
              "        vertical-align: middle;\n",
              "    }\n",
              "\n",
              "    .dataframe tbody tr th {\n",
              "        vertical-align: top;\n",
              "    }\n",
              "\n",
              "    .dataframe thead th {\n",
              "        text-align: right;\n",
              "    }\n",
              "</style>\n",
              "<table border=\"1\" class=\"dataframe\">\n",
              "  <thead>\n",
              "    <tr style=\"text-align: right;\">\n",
              "      <th></th>\n",
              "      <th>Awards</th>\n",
              "      <th>Math Score</th>\n",
              "    </tr>\n",
              "  </thead>\n",
              "  <tbody>\n",
              "    <tr>\n",
              "      <th>0</th>\n",
              "      <td>0</td>\n",
              "      <td>43</td>\n",
              "    </tr>\n",
              "    <tr>\n",
              "      <th>1</th>\n",
              "      <td>0</td>\n",
              "      <td>38</td>\n",
              "    </tr>\n",
              "    <tr>\n",
              "      <th>2</th>\n",
              "      <td>0</td>\n",
              "      <td>41</td>\n",
              "    </tr>\n",
              "    <tr>\n",
              "      <th>3</th>\n",
              "      <td>0</td>\n",
              "      <td>33</td>\n",
              "    </tr>\n",
              "    <tr>\n",
              "      <th>4</th>\n",
              "      <td>0</td>\n",
              "      <td>39</td>\n",
              "    </tr>\n",
              "  </tbody>\n",
              "</table>\n",
              "</div>\n",
              "    <div class=\"colab-df-buttons\">\n",
              "\n",
              "  <div class=\"colab-df-container\">\n",
              "    <button class=\"colab-df-convert\" onclick=\"convertToInteractive('df-9391eccb-afca-4cfa-a87a-a59887818154')\"\n",
              "            title=\"Convert this dataframe to an interactive table.\"\n",
              "            style=\"display:none;\">\n",
              "\n",
              "  <svg xmlns=\"http://www.w3.org/2000/svg\" height=\"24px\" viewBox=\"0 -960 960 960\">\n",
              "    <path d=\"M120-120v-720h720v720H120Zm60-500h600v-160H180v160Zm220 220h160v-160H400v160Zm0 220h160v-160H400v160ZM180-400h160v-160H180v160Zm440 0h160v-160H620v160ZM180-180h160v-160H180v160Zm440 0h160v-160H620v160Z\"/>\n",
              "  </svg>\n",
              "    </button>\n",
              "\n",
              "  <style>\n",
              "    .colab-df-container {\n",
              "      display:flex;\n",
              "      gap: 12px;\n",
              "    }\n",
              "\n",
              "    .colab-df-convert {\n",
              "      background-color: #E8F0FE;\n",
              "      border: none;\n",
              "      border-radius: 50%;\n",
              "      cursor: pointer;\n",
              "      display: none;\n",
              "      fill: #1967D2;\n",
              "      height: 32px;\n",
              "      padding: 0 0 0 0;\n",
              "      width: 32px;\n",
              "    }\n",
              "\n",
              "    .colab-df-convert:hover {\n",
              "      background-color: #E2EBFA;\n",
              "      box-shadow: 0px 1px 2px rgba(60, 64, 67, 0.3), 0px 1px 3px 1px rgba(60, 64, 67, 0.15);\n",
              "      fill: #174EA6;\n",
              "    }\n",
              "\n",
              "    .colab-df-buttons div {\n",
              "      margin-bottom: 4px;\n",
              "    }\n",
              "\n",
              "    [theme=dark] .colab-df-convert {\n",
              "      background-color: #3B4455;\n",
              "      fill: #D2E3FC;\n",
              "    }\n",
              "\n",
              "    [theme=dark] .colab-df-convert:hover {\n",
              "      background-color: #434B5C;\n",
              "      box-shadow: 0px 1px 3px 1px rgba(0, 0, 0, 0.15);\n",
              "      filter: drop-shadow(0px 1px 2px rgba(0, 0, 0, 0.3));\n",
              "      fill: #FFFFFF;\n",
              "    }\n",
              "  </style>\n",
              "\n",
              "    <script>\n",
              "      const buttonEl =\n",
              "        document.querySelector('#df-9391eccb-afca-4cfa-a87a-a59887818154 button.colab-df-convert');\n",
              "      buttonEl.style.display =\n",
              "        google.colab.kernel.accessAllowed ? 'block' : 'none';\n",
              "\n",
              "      async function convertToInteractive(key) {\n",
              "        const element = document.querySelector('#df-9391eccb-afca-4cfa-a87a-a59887818154');\n",
              "        const dataTable =\n",
              "          await google.colab.kernel.invokeFunction('convertToInteractive',\n",
              "                                                    [key], {});\n",
              "        if (!dataTable) return;\n",
              "\n",
              "        const docLinkHtml = 'Like what you see? Visit the ' +\n",
              "          '<a target=\"_blank\" href=https://colab.research.google.com/notebooks/data_table.ipynb>data table notebook</a>'\n",
              "          + ' to learn more about interactive tables.';\n",
              "        element.innerHTML = '';\n",
              "        dataTable['output_type'] = 'display_data';\n",
              "        await google.colab.output.renderOutput(dataTable, element);\n",
              "        const docLink = document.createElement('div');\n",
              "        docLink.innerHTML = docLinkHtml;\n",
              "        element.appendChild(docLink);\n",
              "      }\n",
              "    </script>\n",
              "  </div>\n",
              "\n",
              "\n",
              "<div id=\"df-c160faf0-ae15-443e-9979-9335f77670b5\">\n",
              "  <button class=\"colab-df-quickchart\" onclick=\"quickchart('df-c160faf0-ae15-443e-9979-9335f77670b5')\"\n",
              "            title=\"Suggest charts\"\n",
              "            style=\"display:none;\">\n",
              "\n",
              "<svg xmlns=\"http://www.w3.org/2000/svg\" height=\"24px\"viewBox=\"0 0 24 24\"\n",
              "     width=\"24px\">\n",
              "    <g>\n",
              "        <path d=\"M19 3H5c-1.1 0-2 .9-2 2v14c0 1.1.9 2 2 2h14c1.1 0 2-.9 2-2V5c0-1.1-.9-2-2-2zM9 17H7v-7h2v7zm4 0h-2V7h2v10zm4 0h-2v-4h2v4z\"/>\n",
              "    </g>\n",
              "</svg>\n",
              "  </button>\n",
              "\n",
              "<style>\n",
              "  .colab-df-quickchart {\n",
              "      --bg-color: #E8F0FE;\n",
              "      --fill-color: #1967D2;\n",
              "      --hover-bg-color: #E2EBFA;\n",
              "      --hover-fill-color: #174EA6;\n",
              "      --disabled-fill-color: #AAA;\n",
              "      --disabled-bg-color: #DDD;\n",
              "  }\n",
              "\n",
              "  [theme=dark] .colab-df-quickchart {\n",
              "      --bg-color: #3B4455;\n",
              "      --fill-color: #D2E3FC;\n",
              "      --hover-bg-color: #434B5C;\n",
              "      --hover-fill-color: #FFFFFF;\n",
              "      --disabled-bg-color: #3B4455;\n",
              "      --disabled-fill-color: #666;\n",
              "  }\n",
              "\n",
              "  .colab-df-quickchart {\n",
              "    background-color: var(--bg-color);\n",
              "    border: none;\n",
              "    border-radius: 50%;\n",
              "    cursor: pointer;\n",
              "    display: none;\n",
              "    fill: var(--fill-color);\n",
              "    height: 32px;\n",
              "    padding: 0;\n",
              "    width: 32px;\n",
              "  }\n",
              "\n",
              "  .colab-df-quickchart:hover {\n",
              "    background-color: var(--hover-bg-color);\n",
              "    box-shadow: 0 1px 2px rgba(60, 64, 67, 0.3), 0 1px 3px 1px rgba(60, 64, 67, 0.15);\n",
              "    fill: var(--button-hover-fill-color);\n",
              "  }\n",
              "\n",
              "  .colab-df-quickchart-complete:disabled,\n",
              "  .colab-df-quickchart-complete:disabled:hover {\n",
              "    background-color: var(--disabled-bg-color);\n",
              "    fill: var(--disabled-fill-color);\n",
              "    box-shadow: none;\n",
              "  }\n",
              "\n",
              "  .colab-df-spinner {\n",
              "    border: 2px solid var(--fill-color);\n",
              "    border-color: transparent;\n",
              "    border-bottom-color: var(--fill-color);\n",
              "    animation:\n",
              "      spin 1s steps(1) infinite;\n",
              "  }\n",
              "\n",
              "  @keyframes spin {\n",
              "    0% {\n",
              "      border-color: transparent;\n",
              "      border-bottom-color: var(--fill-color);\n",
              "      border-left-color: var(--fill-color);\n",
              "    }\n",
              "    20% {\n",
              "      border-color: transparent;\n",
              "      border-left-color: var(--fill-color);\n",
              "      border-top-color: var(--fill-color);\n",
              "    }\n",
              "    30% {\n",
              "      border-color: transparent;\n",
              "      border-left-color: var(--fill-color);\n",
              "      border-top-color: var(--fill-color);\n",
              "      border-right-color: var(--fill-color);\n",
              "    }\n",
              "    40% {\n",
              "      border-color: transparent;\n",
              "      border-right-color: var(--fill-color);\n",
              "      border-top-color: var(--fill-color);\n",
              "    }\n",
              "    60% {\n",
              "      border-color: transparent;\n",
              "      border-right-color: var(--fill-color);\n",
              "    }\n",
              "    80% {\n",
              "      border-color: transparent;\n",
              "      border-right-color: var(--fill-color);\n",
              "      border-bottom-color: var(--fill-color);\n",
              "    }\n",
              "    90% {\n",
              "      border-color: transparent;\n",
              "      border-bottom-color: var(--fill-color);\n",
              "    }\n",
              "  }\n",
              "</style>\n",
              "\n",
              "  <script>\n",
              "    async function quickchart(key) {\n",
              "      const quickchartButtonEl =\n",
              "        document.querySelector('#' + key + ' button');\n",
              "      quickchartButtonEl.disabled = true;  // To prevent multiple clicks.\n",
              "      quickchartButtonEl.classList.add('colab-df-spinner');\n",
              "      try {\n",
              "        const charts = await google.colab.kernel.invokeFunction(\n",
              "            'suggestCharts', [key], {});\n",
              "      } catch (error) {\n",
              "        console.error('Error during call to suggestCharts:', error);\n",
              "      }\n",
              "      quickchartButtonEl.classList.remove('colab-df-spinner');\n",
              "      quickchartButtonEl.classList.add('colab-df-quickchart-complete');\n",
              "    }\n",
              "    (() => {\n",
              "      let quickchartButtonEl =\n",
              "        document.querySelector('#df-c160faf0-ae15-443e-9979-9335f77670b5 button');\n",
              "      quickchartButtonEl.style.display =\n",
              "        google.colab.kernel.accessAllowed ? 'block' : 'none';\n",
              "    })();\n",
              "  </script>\n",
              "</div>\n",
              "    </div>\n",
              "  </div>\n"
            ]
          },
          "metadata": {},
          "execution_count": 28
        }
      ]
    },
    {
      "cell_type": "code",
      "metadata": {
        "id": "Ti_1BSxn5PUw"
      },
      "source": [
        "x = torch.tensor(df['Math Score'].values, dtype=torch.float32)\n",
        "n = len(x)\n",
        "\n",
        "x_mean = torch.mean(x)\n",
        "x_std = torch.std(x)\n",
        "xx = (x-x_mean)/x_std\n",
        "\n",
        "y = df['Awards'].values\n",
        "\n",
        "ones = torch.ones([n])\n",
        "X = torch.stack([ones, xx], axis=1)\n",
        "Y = torch.tensor(y.reshape([n,1]), dtype=torch.float32)\n",
        "\n",
        "dataset1 = TensorDataset(X,Y)\n",
        "trainloader1 = DataLoader(dataset=dataset1, batch_size=32, shuffle=True)"
      ],
      "id": "Ti_1BSxn5PUw",
      "execution_count": 91,
      "outputs": []
    },
    {
      "cell_type": "code",
      "source": [
        "torch.manual_seed(2023)\n",
        "train_size = int(0.7 * len(dataset))\n",
        "test_size = len(dataset) - train_size\n",
        "train_dataset, test_dataset = torch.utils.data.random_split(dataset, [train_size, test_size])\n",
        "\n",
        "trainloader = DataLoader(dataset=train_dataset, batch_size=32, shuffle=True)\n",
        "testloader = DataLoader(dataset=test_dataset, batch_size=test_size, shuffle=True)"
      ],
      "metadata": {
        "id": "8siOru4BkNvX"
      },
      "execution_count": 77,
      "outputs": [],
      "id": "8siOru4BkNvX"
    },
    {
      "cell_type": "markdown",
      "source": [
        "## Exercise 2:\n",
        "\n",
        "Using the data above, we want to build the poisson regression model to predict the number of awards.\n",
        "\n",
        "Model 1\n",
        "```\n",
        "Awards ~ exp(beta0 + beta1 * MathScore)\n",
        "```\n",
        "\n",
        "Answer the following questions.\n",
        "\n",
        "1. Train the model.\n",
        "\n",
        "2. You want to predict the number of awards for a person having `Math Score = 47`. Calculated the predicted number of awards for this person.\n",
        "\n",
        "You are also considering the following model\n",
        "\n",
        "Model 2\n",
        "```\n",
        "Awards ~ exp(beta0 + beta1 * MathScore + beta2 * MathScore**2)\n",
        "```\n",
        "\n",
        "3. Calculate the Test MSE for each model. Which model is better in terms of Test MSE?"
      ],
      "metadata": {
        "id": "9Czwsv5yjv7p"
      },
      "id": "9Czwsv5yjv7p"
    },
    {
      "cell_type": "markdown",
      "source": [
        "1. Train the model"
      ],
      "metadata": {
        "id": "20ukkxBBfszf"
      },
      "id": "20ukkxBBfszf"
    },
    {
      "cell_type": "code",
      "source": [
        "# 우리가 훈련시키고 싶은 것: beta\n",
        "beta = torch.tensor(torch.randn([2,1])*0.01, requires_grad=True)\n",
        "\n",
        "def model(xx):\n",
        "  temp = torch.exp(xx @ beta)\n",
        "  return temp\n",
        "\n",
        "def criterion(yhat, yy):\n",
        "  temp = -torch.mean(-yhat + yy*torch.log(yhat)-torch.lgamma(yy+1))\n",
        "  return temp\n",
        "\n",
        "my_optimizer = torch.optim.SGD([beta], lr=0.01)"
      ],
      "metadata": {
        "id": "xVwYWCoLG9LF",
        "colab": {
          "base_uri": "https://localhost:8080/"
        },
        "outputId": "cc6a124f-0ade-4cc4-8e62-9edb7e6e106b"
      },
      "execution_count": 95,
      "outputs": [
        {
          "output_type": "stream",
          "name": "stderr",
          "text": [
            "<ipython-input-95-a6be6ce872d7>:2: UserWarning: To copy construct from a tensor, it is recommended to use sourceTensor.clone().detach() or sourceTensor.clone().detach().requires_grad_(True), rather than torch.tensor(sourceTensor).\n",
            "  beta = torch.tensor(torch.randn([2,1])*0.01, requires_grad=True)\n"
          ]
        }
      ],
      "id": "xVwYWCoLG9LF"
    },
    {
      "cell_type": "code",
      "source": [
        "epochs=500\n",
        "history=[]\n",
        "\n",
        "for epoch in range(epochs):\n",
        "  LOSS_sum = 0\n",
        "  for xx, yy in trainloader1:\n",
        "    yhat = model(xx)\n",
        "    loss = criterion(yhat, yy)\n",
        "    LOSS_sum = LOSS_sum + loss * len(yy)\n",
        "    my_optimizer.zero_grad()\n",
        "    loss.backward()\n",
        "    my_optimizer.step()\n",
        "  history.append(LOSS_sum.item()/n)\n",
        "\n",
        "plt.plot(history)"
      ],
      "metadata": {
        "id": "hU6ZvIP-SpiB",
        "colab": {
          "base_uri": "https://localhost:8080/",
          "height": 468
        },
        "outputId": "76984ef7-265b-404a-f818-68751ee5d4ac"
      },
      "execution_count": 96,
      "outputs": [
        {
          "output_type": "execute_result",
          "data": {
            "text/plain": [
              "[<matplotlib.lines.Line2D at 0x7bea10abece0>]"
            ]
          },
          "metadata": {},
          "execution_count": 96
        },
        {
          "output_type": "display_data",
          "data": {
            "text/plain": [
              "<Figure size 640x480 with 1 Axes>"
            ],
            "image/png": "[encoded data removed]"
          },
          "metadata": {}
        }
      ],
      "id": "hU6ZvIP-SpiB"
    },
    {
      "cell_type": "markdown",
      "source": [
        "2. Calculate the predicted number of awards for this person: Math Score = 47."
      ],
      "metadata": {
        "id": "8LClJs3PgDvC"
      },
      "id": "8LClJs3PgDvC"
    },
    {
      "cell_type": "code",
      "source": [
        "one = torch.tensor([1])\n",
        "myx = torch.tensor([47.])\n",
        "myxx = (myx-x_mean)/x_std\n",
        "myX = torch.stack([one, myxx], axis=1)\n",
        "yhat = model(myX)\n",
        "yhat"
      ],
      "metadata": {
        "colab": {
          "base_uri": "https://localhost:8080/"
        },
        "id": "D7QVIYpmf80W",
        "outputId": "759cf688-243f-4ab7-b6ea-db5f5f8b5d66"
      },
      "id": "D7QVIYpmf80W",
      "execution_count": 80,
      "outputs": [
        {
          "output_type": "execute_result",
          "data": {
            "text/plain": [
              "tensor([[0.1641]], grad_fn=<ExpBackward0>)"
            ]
          },
          "metadata": {},
          "execution_count": 80
        }
      ]
    },
    {
      "cell_type": "markdown",
      "source": [
        "Model 2\\\n",
        "`Awards ~ exp(beta0 + beta1 * MathScore + beta2 * MathScore**2)`"
      ],
      "metadata": {
        "id": "LKYaexKwh5sS"
      },
      "id": "LKYaexKwh5sS"
    },
    {
      "cell_type": "code",
      "source": [
        "X2 = torch.stack([ones, x, x**2], axis=1)\n",
        "X_mean = torch.mean(X2, axis=0)\n",
        "X_sd = torch.std(X2, axis=0)\n",
        "X2 = (X2-X_mean)/X_sd\n",
        "X2[:, 0]=torch.ones([1])\n",
        "X2"
      ],
      "metadata": {
        "colab": {
          "base_uri": "https://localhost:8080/"
        },
        "id": "jxLm0Ypph7cr",
        "outputId": "a71b8ee5-cb49-4226-ce51-bfe8ebc709e4"
      },
      "id": "jxLm0Ypph7cr",
      "execution_count": 89,
      "outputs": [
        {
          "output_type": "execute_result",
          "data": {
            "text/plain": [
              "tensor([[ 1.0000, -0.4029, -0.4866],\n",
              "        [ 1.0000, -0.6640, -0.6677],\n",
              "        [ 1.0000, -0.5074, -0.5617],\n",
              "        [ 1.0000, -0.9252, -0.8265],\n",
              "        [ 1.0000, -0.6118, -0.6333],\n",
              "        [ 1.0000, -0.4029, -0.4866],\n",
              "        [ 1.0000, -0.8207, -0.7657],\n",
              "        [ 1.0000, -0.5074, -0.5617],\n",
              "        [ 1.0000, -0.7685, -0.7339],\n",
              "        [ 1.0000, -0.6640, -0.6677],\n",
              "        [ 1.0000,  0.4849,  0.2966],\n",
              "        [ 1.0000, -1.0818, -0.9110],\n",
              "        [ 1.0000, -0.9774, -0.8556],\n",
              "        [ 1.0000, -1.0818, -0.9110],\n",
              "        [ 1.0000, -0.7163, -0.7012],\n",
              "        [ 1.0000, -0.3507, -0.4476],\n",
              "        [ 1.0000, -0.2985, -0.4078],\n",
              "        [ 1.0000, -0.3507, -0.4476],\n",
              "        [ 1.0000, -0.7163, -0.7012],\n",
              "        [ 1.0000, -0.4029, -0.4866],\n",
              "        [ 1.0000, -0.8729, -0.7965],\n",
              "        [ 1.0000, -0.5596, -0.5979],\n",
              "        [ 1.0000, -0.8729, -0.7965],\n",
              "        [ 1.0000, -0.6640, -0.6677],\n",
              "        [ 1.0000, -0.9774, -0.8556],\n",
              "        [ 1.0000, -0.4551, -0.5246],\n",
              "        [ 1.0000,  0.6938,  0.5185],\n",
              "        [ 1.0000,  0.4849,  0.2966],\n",
              "        [ 1.0000, -0.6118, -0.6333],\n",
              "        [ 1.0000,  0.5894,  0.4058],\n",
              "        [ 1.0000, -0.8207, -0.7657],\n",
              "        [ 1.0000, -0.7163, -0.7012],\n",
              "        [ 1.0000, -0.0373, -0.1954],\n",
              "        [ 1.0000, -0.5596, -0.5979],\n",
              "        [ 1.0000,  0.7460,  0.5762],\n",
              "        [ 1.0000,  0.9027,  0.7546],\n",
              "        [ 1.0000, -0.2985, -0.4078],\n",
              "        [ 1.0000, -0.8207, -0.7657],\n",
              "        [ 1.0000, -0.7685, -0.7339],\n",
              "        [ 1.0000, -0.7163, -0.7012],\n",
              "        [ 1.0000, -1.0296, -0.8837],\n",
              "        [ 1.0000, -1.0296, -0.8837],\n",
              "        [ 1.0000, -1.0818, -0.9110],\n",
              "        [ 1.0000, -0.4551, -0.5246],\n",
              "        [ 1.0000, -0.4551, -0.5246],\n",
              "        [ 1.0000,  0.5894,  0.4058],\n",
              "        [ 1.0000, -0.6640, -0.6677],\n",
              "        [ 1.0000, -0.6118, -0.6333],\n",
              "        [ 1.0000, -0.1940, -0.3255],\n",
              "        [ 1.0000,  0.7460,  0.5762],\n",
              "        [ 1.0000, -0.9252, -0.8265],\n",
              "        [ 1.0000, -0.8729, -0.7965],\n",
              "        [ 1.0000, -1.0296, -0.8837],\n",
              "        [ 1.0000,  1.9994,  2.2293],\n",
              "        [ 1.0000, -1.0818, -0.9110],\n",
              "        [ 1.0000, -0.3507, -0.4476],\n",
              "        [ 1.0000,  1.0072,  0.8781],\n",
              "        [ 1.0000,  0.9027,  0.7546],\n",
              "        [ 1.0000, -0.6640, -0.6677],\n",
              "        [ 1.0000, -0.3507, -0.4476],\n",
              "        [ 1.0000, -1.0818, -0.9110],\n",
              "        [ 1.0000,  1.0072,  0.8781],\n",
              "        [ 1.0000, -0.6118, -0.6333],\n",
              "        [ 1.0000,  0.7983,  0.6348],\n",
              "        [ 1.0000, -1.0818, -0.9110],\n",
              "        [ 1.0000,  0.5371,  0.3507],\n",
              "        [ 1.0000, -0.7163, -0.7012],\n",
              "        [ 1.0000, -0.9252, -0.8265],\n",
              "        [ 1.0000,  0.6938,  0.5185],\n",
              "        [ 1.0000, -1.0818, -0.9110],\n",
              "        [ 1.0000,  1.6861,  1.7677],\n",
              "        [ 1.0000, -0.4029, -0.4866],\n",
              "        [ 1.0000, -0.8207, -0.7657],\n",
              "        [ 1.0000, -1.0818, -0.9110],\n",
              "        [ 1.0000,  0.4327,  0.2434],\n",
              "        [ 1.0000, -0.1940, -0.3255],\n",
              "        [ 1.0000, -0.8207, -0.7657],\n",
              "        [ 1.0000, -0.6118, -0.6333],\n",
              "        [ 1.0000, -0.9774, -0.8556],\n",
              "        [ 1.0000, -1.0296, -0.8837],\n",
              "        [ 1.0000, -0.6640, -0.6677],\n",
              "        [ 1.0000, -0.9252, -0.8265],\n",
              "        [ 1.0000,  0.5894,  0.4058],\n",
              "        [ 1.0000, -0.6118, -0.6333],\n",
              "        [ 1.0000, -0.6640, -0.6677],\n",
              "        [ 1.0000, -1.0818, -0.9110],\n",
              "        [ 1.0000,  0.7983,  0.6348],\n",
              "        [ 1.0000, -0.5074, -0.5617],\n",
              "        [ 1.0000, -0.4551, -0.5246],\n",
              "        [ 1.0000, -1.0296, -0.8837],\n",
              "        [ 1.0000, -0.8729, -0.7965],\n",
              "        [ 1.0000, -0.1418, -0.2830],\n",
              "        [ 1.0000, -0.7163, -0.7012],\n",
              "        [ 1.0000, -1.0818, -0.9110],\n",
              "        [ 1.0000, -0.5596, -0.5979],\n",
              "        [ 1.0000, -0.5074, -0.5617],\n",
              "        [ 1.0000,  0.9549,  0.8159],\n",
              "        [ 1.0000, -0.4551, -0.5246],\n",
              "        [ 1.0000,  0.6416,  0.4617],\n",
              "        [ 1.0000, -0.5596, -0.5979],\n",
              "        [ 1.0000, -1.0818, -0.9110],\n",
              "        [ 1.0000, -0.6640, -0.6677],\n",
              "        [ 1.0000, -0.8729, -0.7965],\n",
              "        [ 1.0000, -1.0818, -0.9110],\n",
              "        [ 1.0000, -0.9774, -0.8556],\n",
              "        [ 1.0000, -0.8207, -0.7657],\n",
              "        [ 1.0000, -0.6640, -0.6677],\n",
              "        [ 1.0000,  1.0072,  0.8781],\n",
              "        [ 1.0000, -0.9252, -0.8265],\n",
              "        [ 1.0000, -0.7685, -0.7339],\n",
              "        [ 1.0000,  0.6416,  0.4617],\n",
              "        [ 1.0000,  0.7983,  0.6348],\n",
              "        [ 1.0000,  1.8427,  1.9945],\n",
              "        [ 1.0000, -0.8729, -0.7965],\n",
              "        [ 1.0000,  0.6416,  0.4617],\n",
              "        [ 1.0000, -0.5596, -0.5979],\n",
              "        [ 1.0000,  1.1116,  1.0051],\n",
              "        [ 1.0000, -0.5596, -0.5979],\n",
              "        [ 1.0000, -0.1940, -0.3255],\n",
              "        [ 1.0000,  1.8427,  1.9945],\n",
              "        [ 1.0000,  0.8505,  0.6942],\n",
              "        [ 1.0000,  1.9472,  2.1501],\n",
              "        [ 1.0000,  0.6938,  0.5185],\n",
              "        [ 1.0000, -0.6118, -0.6333],\n",
              "        [ 1.0000, -0.7163, -0.7012],\n",
              "        [ 1.0000,  0.6416,  0.4617],\n",
              "        [ 1.0000,  1.1116,  1.0051],\n",
              "        [ 1.0000, -1.0818, -0.9110],\n",
              "        [ 1.0000, -0.6640, -0.6677],\n",
              "        [ 1.0000,  0.8505,  0.6942],\n",
              "        [ 1.0000, -1.0296, -0.8837],\n",
              "        [ 1.0000,  0.5894,  0.4058],\n",
              "        [ 1.0000, -0.3507, -0.4476],\n",
              "        [ 1.0000, -0.4551, -0.5246],\n",
              "        [ 1.0000, -0.7685, -0.7339],\n",
              "        [ 1.0000, -1.0818, -0.9110],\n",
              "        [ 1.0000,  1.9994,  2.2293],\n",
              "        [ 1.0000,  1.0594,  0.9411],\n",
              "        [ 1.0000, -0.8207, -0.7657],\n",
              "        [ 1.0000, -0.9252, -0.8265],\n",
              "        [ 1.0000, -0.4551, -0.5246],\n",
              "        [ 1.0000,  1.5294,  1.5490],\n",
              "        [ 1.0000, -0.5596, -0.5979],\n",
              "        [ 1.0000, -1.0818, -0.9110],\n",
              "        [ 1.0000,  0.8505,  0.6942],\n",
              "        [ 1.0000,  0.4327,  0.2434],\n",
              "        [ 1.0000, -0.4029, -0.4866],\n",
              "        [ 1.0000, -0.5596, -0.5979],\n",
              "        [ 1.0000, -0.5074, -0.5617],\n",
              "        [ 1.0000,  1.9472,  2.1501],\n",
              "        [ 1.0000, -1.0818, -0.9110],\n",
              "        [ 1.0000, -0.2985, -0.4078],\n",
              "        [ 1.0000, -1.0818, -0.9110],\n",
              "        [ 1.0000,  1.6338,  1.6939],\n",
              "        [ 1.0000, -0.1940, -0.3255],\n",
              "        [ 1.0000,  1.0072,  0.8781],\n",
              "        [ 1.0000,  2.0516,  2.3093],\n",
              "        [ 1.0000, -0.9252, -0.8265],\n",
              "        [ 1.0000, -1.0818, -0.9110],\n",
              "        [ 1.0000,  0.6416,  0.4617],\n",
              "        [ 1.0000, -0.7685, -0.7339],\n",
              "        [ 1.0000, -0.8729, -0.7965],\n",
              "        [ 1.0000,  1.8950,  2.0718],\n",
              "        [ 1.0000,  2.0516,  2.3093],\n",
              "        [ 1.0000,  0.7983,  0.6348],\n",
              "        [ 1.0000, -0.8207, -0.7657],\n",
              "        [ 1.0000,  0.6416,  0.4617],\n",
              "        [ 1.0000,  1.0072,  0.8781],\n",
              "        [ 1.0000,  2.0516,  2.3093],\n",
              "        [ 1.0000,  0.5371,  0.3507],\n",
              "        [ 1.0000,  0.8505,  0.6942],\n",
              "        [ 1.0000,  1.9994,  2.2293],\n",
              "        [ 1.0000,  1.8427,  1.9945],\n",
              "        [ 1.0000, -0.6118, -0.6333],\n",
              "        [ 1.0000, -1.0818, -0.9110],\n",
              "        [ 1.0000,  0.8505,  0.6942],\n",
              "        [ 1.0000,  0.9027,  0.7546],\n",
              "        [ 1.0000,  1.9472,  2.1501],\n",
              "        [ 1.0000,  1.6861,  1.7677],\n",
              "        [ 1.0000, -0.9252, -0.8265],\n",
              "        [ 1.0000,  2.0516,  2.3093],\n",
              "        [ 1.0000,  2.0516,  2.3093],\n",
              "        [ 1.0000,  1.0072,  0.8781],\n",
              "        [ 1.0000, -0.6118, -0.6333],\n",
              "        [ 1.0000,  1.8950,  2.0718],\n",
              "        [ 1.0000,  1.9472,  2.1501],\n",
              "        [ 1.0000,  0.4327,  0.2434],\n",
              "        [ 1.0000,  1.8427,  1.9945],\n",
              "        [ 1.0000,  0.7460,  0.5762],\n",
              "        [ 1.0000,  0.5371,  0.3507],\n",
              "        [ 1.0000, -0.2462, -0.3671],\n",
              "        [ 1.0000,  0.5894,  0.4058],\n",
              "        [ 1.0000,  1.5816,  1.6210],\n",
              "        [ 1.0000,  2.1039,  2.3903],\n",
              "        [ 1.0000,  1.0072,  0.8781],\n",
              "        [ 1.0000,  1.7905,  1.9180],\n",
              "        [ 1.0000,  1.8427,  1.9945],\n",
              "        [ 1.0000,  0.7983,  0.6348],\n",
              "        [ 1.0000, -0.5074, -0.5617],\n",
              "        [ 1.0000,  1.9994,  2.2293]])"
            ]
          },
          "metadata": {},
          "execution_count": 89
        }
      ]
    },
    {
      "cell_type": "code",
      "source": [
        "dataset2 = TensorDataset(X2,Y)\n",
        "trainloader2 = DataLoader(dataset=dataset2, batch_size=32, shuffle=True)"
      ],
      "metadata": {
        "id": "EToKsZy_kUnu"
      },
      "id": "EToKsZy_kUnu",
      "execution_count": 106,
      "outputs": []
    },
    {
      "cell_type": "code",
      "source": [
        "# 우리가 훈련시키고 싶은 것: beta\n",
        "beta = torch.tensor(torch.randn([3,1])*0.01, requires_grad=True)\n",
        "\n",
        "def model(xx):\n",
        "  temp = torch.exp(xx @ beta)\n",
        "  return temp\n",
        "\n",
        "def criterion(yhat, yy):\n",
        "  temp = -torch.mean(-yhat + yy*torch.log(yhat)-torch.lgamma(yy+1))\n",
        "  return temp\n",
        "\n",
        "my_optimizer = torch.optim.SGD([beta], lr=0.01)"
      ],
      "metadata": {
        "colab": {
          "base_uri": "https://localhost:8080/"
        },
        "outputId": "98e59b76-7fc5-4516-9135-32d73a18dbb0",
        "id": "CK1LRCaOi_Pd"
      },
      "execution_count": 93,
      "outputs": [
        {
          "output_type": "stream",
          "name": "stderr",
          "text": [
            "<ipython-input-93-f7bbd2ca23df>:2: UserWarning: To copy construct from a tensor, it is recommended to use sourceTensor.clone().detach() or sourceTensor.clone().detach().requires_grad_(True), rather than torch.tensor(sourceTensor).\n",
            "  beta = torch.tensor(torch.randn([3,1])*0.01, requires_grad=True)\n"
          ]
        }
      ],
      "id": "CK1LRCaOi_Pd"
    },
    {
      "cell_type": "code",
      "source": [
        "epochs=500\n",
        "history=[]\n",
        "\n",
        "for epoch in range(epochs):\n",
        "  LOSS_sum = 0\n",
        "  for xx, yy in trainloader2:\n",
        "    yhat = model(xx)\n",
        "    loss = criterion(yhat, yy)\n",
        "    LOSS_sum = LOSS_sum + loss * len(yy)\n",
        "    my_optimizer.zero_grad()\n",
        "    loss.backward()\n",
        "    my_optimizer.step()\n",
        "  history.append(LOSS_sum.item()/n)\n",
        "\n",
        "plt.plot(history)"
      ],
      "metadata": {
        "colab": {
          "base_uri": "https://localhost:8080/",
          "height": 468
        },
        "outputId": "2609d462-24e1-4b91-83d0-f0e9f0438e24",
        "id": "TKluwZN5i_Pe"
      },
      "execution_count": 94,
      "outputs": [
        {
          "output_type": "execute_result",
          "data": {
            "text/plain": [
              "[<matplotlib.lines.Line2D at 0x7bea10a8a0e0>]"
            ]
          },
          "metadata": {},
          "execution_count": 94
        },
        {
          "output_type": "display_data",
          "data": {
            "text/plain": [
              "<Figure size 640x480 with 1 Axes>"
            ],
            "image/png": "[encoded data removed]"
          },
          "metadata": {}
        }
      ],
      "id": "TKluwZN5i_Pe"
    },
    {
      "cell_type": "markdown",
      "source": [
        "3. Calculate the Test MSE for each model. Which model is better in terms of Test MSE?"
      ],
      "metadata": {
        "id": "ErWn9vz3knft"
      },
      "id": "ErWn9vz3knft"
    },
    {
      "cell_type": "markdown",
      "source": [
        "Model 1"
      ],
      "metadata": {
        "id": "Sq4Xi1WtkqRB"
      },
      "id": "Sq4Xi1WtkqRB"
    },
    {
      "cell_type": "code",
      "source": [
        "beta = torch.tensor(torch.randn([2,1])*0.01, requires_grad=True)\n",
        "epochs=500\n",
        "for epoch in range(epochs):\n",
        "  LOSS_sum = 0\n",
        "  for xx, yy in trainloader1:\n",
        "    yhat = model(xx)\n",
        "    loss = criterion(yhat, yy)\n",
        "    LOSS_sum = LOSS_sum + loss * len(yy)\n",
        "    my_optimizer.zero_grad()\n",
        "    loss.backward()\n",
        "    my_optimizer.step()\n",
        "Yhat1 = model(X)\n",
        "torch.mean((Y-Yhat1)**2)"
      ],
      "metadata": {
        "colab": {
          "base_uri": "https://localhost:8080/"
        },
        "id": "ernC7klem2-f",
        "outputId": "8136df6e-f3b2-4ded-cf6d-3f10bb7ced14"
      },
      "id": "ernC7klem2-f",
      "execution_count": 116,
      "outputs": [
        {
          "output_type": "stream",
          "name": "stderr",
          "text": [
            "<ipython-input-116-179cd37739c2>:1: UserWarning: To copy construct from a tensor, it is recommended to use sourceTensor.clone().detach() or sourceTensor.clone().detach().requires_grad_(True), rather than torch.tensor(sourceTensor).\n",
            "  beta = torch.tensor(torch.randn([2,1])*0.01, requires_grad=True)\n"
          ]
        },
        {
          "output_type": "execute_result",
          "data": {
            "text/plain": [
              "tensor(1.2434, grad_fn=<MeanBackward0>)"
            ]
          },
          "metadata": {},
          "execution_count": 116
        }
      ]
    },
    {
      "cell_type": "markdown",
      "source": [
        "MSE for model 1 = 1.2434"
      ],
      "metadata": {
        "id": "qFY6coZMnZW3"
      },
      "id": "qFY6coZMnZW3"
    },
    {
      "cell_type": "markdown",
      "source": [
        "Model 2"
      ],
      "metadata": {
        "id": "kCOTjL32leoE"
      },
      "id": "kCOTjL32leoE"
    },
    {
      "cell_type": "code",
      "source": [
        "beta = torch.tensor(torch.randn([3,1])*0.01, requires_grad=True)\n",
        "epochs=500\n",
        "for epoch in range(epochs):\n",
        "  LOSS_sum = 0\n",
        "  for xx, yy in trainloader2:\n",
        "    yhat = model(xx)\n",
        "    loss = criterion(yhat, yy)\n",
        "    LOSS_sum = LOSS_sum + loss * len(yy)\n",
        "    my_optimizer.zero_grad()\n",
        "    loss.backward()\n",
        "    my_optimizer.step()\n",
        "Yhat2 = model(X2)\n",
        "torch.mean((Y-Yhat2)**2)"
      ],
      "metadata": {
        "colab": {
          "base_uri": "https://localhost:8080/"
        },
        "outputId": "1882dfe0-374c-4646-dd73-c686e8bd7ecb",
        "id": "CBQBEI95ne3X"
      },
      "execution_count": 107,
      "outputs": [
        {
          "output_type": "stream",
          "name": "stderr",
          "text": [
            "<ipython-input-107-0df9575b9895>:1: UserWarning: To copy construct from a tensor, it is recommended to use sourceTensor.clone().detach() or sourceTensor.clone().detach().requires_grad_(True), rather than torch.tensor(sourceTensor).\n",
            "  beta = torch.tensor(torch.randn([3,1])*0.01, requires_grad=True)\n"
          ]
        },
        {
          "output_type": "execute_result",
          "data": {
            "text/plain": [
              "tensor(1.2352, grad_fn=<MeanBackward0>)"
            ]
          },
          "metadata": {},
          "execution_count": 107
        }
      ],
      "id": "CBQBEI95ne3X"
    },
    {
      "cell_type": "markdown",
      "source": [
        "MSE for model 2 = 1.2352"
      ],
      "metadata": {
        "id": "X6s7wcEGne3Z"
      },
      "id": "X6s7wcEGne3Z"
    },
    {
      "cell_type": "markdown",
      "source": [
        "Both perform similarly but model 2 is slightly better"
      ],
      "metadata": {
        "id": "0TkZwAxSpvvd"
      },
      "id": "0TkZwAxSpvvd"
    }
  ]
}